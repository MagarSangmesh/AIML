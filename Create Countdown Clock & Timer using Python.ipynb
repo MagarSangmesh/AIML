{
 "cells": [
  {
   "cell_type": "markdown",
   "id": "7d7cc5cc",
   "metadata": {},
   "source": [
    "# Create Countdown Clock & Timer using Python\n",
    "In this Python project, i am going to create a Countdown Clock and Timer using the Tkinter Library, Time Module and Datetime Module. I know about these three libraries. So let’s start making the project.\n",
    "\n",
    "## About Countdown Clock and Timer\n",
    "Our objective is to create a GUI window, which will set a countdown timer depending on entry by the user. In addition to this, our window will also display the current time at which the window opens up. Once the alarm goes off, i will get a desktop notification. I will also have an option to produce a beep sound once the timer goes off.\n",
    "\n",
    "## Countdown Clock and Timer Project Details\n",
    "To build this project i will need a basic understanding of the Tkinter Module and its inbuilt function that will help us create an easy GUI in python. I will also be using the winsound module and ToastNotifier Library in this project.\n",
    "\n",
    "## ProjectPrerequisites\n",
    "To build Countdown Clock and Timer Project, i will need the following libraries –\n",
    "\n",
    "#### 1. Tkinter Library \n",
    "#### 2. Time Module\n",
    "#### 3. DateTime Module\n",
    "#### 4. Winsound Module\n",
    "#### 5. ToastNotifier Library"
   ]
  },
  {
   "cell_type": "markdown",
   "id": "3fd3ef0a",
   "metadata": {},
   "source": [
    "### Steps to Create Python Countdown Timer\n",
    "Here are the steps to create countdown timer:\n",
    "\n",
    "#### 1. Importing the required libraries and Modules\n",
    "#### 2. Creating the GUI window (Labels, Button and Entry Field)\n",
    "#### 3. Displaying the current time\n",
    "#### 4. Creating the Timer and Countdown Function\n",
    "#### 5. Adding Desktop Notification\n",
    "#### 6. Adding a Beep Sound\n",
    "\n",
    "### 1. Importing the required libraries and Modules"
   ]
  },
  {
   "cell_type": "code",
   "execution_count": 1,
   "id": "86ae8a10",
   "metadata": {},
   "outputs": [
    {
     "name": "stdout",
     "output_type": "stream",
     "text": [
      "Requirement already satisfied: tk in c:\\users\\sam\\appdata\\local\\programs\\python\\python38\\lib\\site-packages (0.1.0)\n",
      "Note: you may need to restart the kernel to use updated packages.\n"
     ]
    }
   ],
   "source": [
    "pip install tk"
   ]
  },
  {
   "cell_type": "code",
   "execution_count": 2,
   "id": "89322dcf",
   "metadata": {},
   "outputs": [
    {
     "name": "stdout",
     "output_type": "stream",
     "text": [
      "Requirement already satisfied: datetime in c:\\users\\sam\\appdata\\local\\programs\\python\\python38\\lib\\site-packages (5.0)\n",
      "Requirement already satisfied: pytz in c:\\users\\sam\\appdata\\local\\programs\\python\\python38\\lib\\site-packages (from datetime) (2022.1)\n",
      "Requirement already satisfied: zope.interface in c:\\users\\sam\\appdata\\local\\programs\\python\\python38\\lib\\site-packages (from datetime) (5.5.2)\n",
      "Requirement already satisfied: setuptools in c:\\users\\sam\\appdata\\local\\programs\\python\\python38\\lib\\site-packages (from zope.interface->datetime) (58.1.0)\n",
      "Note: you may need to restart the kernel to use updated packages.\n"
     ]
    }
   ],
   "source": [
    "pip install datetime"
   ]
  },
  {
   "cell_type": "code",
   "execution_count": 3,
   "id": "3e6ef79f",
   "metadata": {},
   "outputs": [
    {
     "name": "stdout",
     "output_type": "stream",
     "text": [
      "Requirement already satisfied: win11toast in c:\\users\\sam\\appdata\\local\\programs\\python\\python38\\lib\\site-packages (0.32)\n",
      "Requirement already satisfied: winsdk in c:\\users\\sam\\appdata\\local\\programs\\python\\python38\\lib\\site-packages (from win11toast) (1.0.0b7)\n",
      "Note: you may need to restart the kernel to use updated packages.\n"
     ]
    }
   ],
   "source": [
    "pip install win11toast"
   ]
  },
  {
   "cell_type": "code",
   "execution_count": 4,
   "id": "86a5b8ca",
   "metadata": {},
   "outputs": [],
   "source": [
    "# import the time module\n",
    "from threading import Timer\n",
    "import time\n",
    "import tkinter as tk\n",
    "from tkinter import *\n",
    "from datetime import datetime"
   ]
  },
  {
   "cell_type": "markdown",
   "id": "31e15775",
   "metadata": {},
   "source": [
    "### 2. Creating the GUI window (Labels, Button and Entry Field):"
   ]
  },
  {
   "cell_type": "code",
   "execution_count": 5,
   "id": "01ea6d23",
   "metadata": {},
   "outputs": [],
   "source": [
    "#creating a window\n",
    "window = Tk()\n",
    "window.geometry('600x600')#giving size\n",
    "window.title('PythonGeeks')#giving title\n",
    "head=Label(window, text=\"Countdown Clock and Timer\", font=('Calibri 15'))# a label\n",
    "head.pack(pady=20)"
   ]
  },
  {
   "cell_type": "markdown",
   "id": "ddf5d5f5",
   "metadata": {},
   "source": [
    "#### a. Pack() – Pack() method is useful to display and here there is no need to specify the x and y axis. Here the label is packed and the coordinates are decided by the program itself.\n",
    "\n",
    "#### b. Place(x,y) – Place() method is also to display the label but here it is compulsory to define the x and y coordinates."
   ]
  },
  {
   "cell_type": "code",
   "execution_count": 6,
   "id": "42a8043e",
   "metadata": {},
   "outputs": [],
   "source": [
    "Label(window,text=\"Enter time in HH:MM:SS\",font=('bold')).pack()\n",
    "Entry(window,textvariable = 'hour',width=30).pack()\n",
    "Entry(window,textvariable = 'minus',width=30).pack()\n",
    "Entry(window,textvariable = 'secon',width=30).pack()\n",
    " \n",
    "Checkbutton(text='Check for Music',onvalue=True,variable='check').pack()#creating checkbox\n",
    " \n",
    "Button(window,text=\"Set Countdown\",command='countdown',bg='yellow').place(x=260,y=230)#create buttons   "
   ]
  },
  {
   "cell_type": "markdown",
   "id": "69d3f40e",
   "metadata": {},
   "source": [
    "#### 3. Displaying the current time"
   ]
  },
  {
   "cell_type": "code",
   "execution_count": 7,
   "id": "1a7eacb8",
   "metadata": {},
   "outputs": [],
   "source": [
    "#to print current time\n",
    "now = datetime.now()\n",
    "current_time = now.strftime(\"%H:%M:%S\")\n",
    "Label(window,text=current_time).pack()"
   ]
  },
  {
   "cell_type": "markdown",
   "id": "c6280a41",
   "metadata": {},
   "source": [
    "#### 4. Creating Countdown and Timer Function"
   ]
  },
  {
   "cell_type": "code",
   "execution_count": 8,
   "id": "21912833",
   "metadata": {},
   "outputs": [],
   "source": [
    "def countdown():\n",
    "    t=count.get()\n",
    "    while t:\n",
    "        mins, secs = divmod(t, 60)\n",
    "        display = ('{:02d}:{:02d}'.format(mins, secs))\n",
    "        time.sleep(1)#sleep time 1 sec\n",
    "        t -= 1\n",
    "        Label(window,text= display).pack()\n",
    "     \n",
    "    Label(window,text=\"Time-Up\",font=('bold', 20)).place(x=250,y=290)"
   ]
  },
  {
   "cell_type": "markdown",
   "id": "0178f75c",
   "metadata": {},
   "source": [
    "#### 5. Adding Desktop Notification:"
   ]
  },
  {
   "cell_type": "code",
   "execution_count": 9,
   "id": "936b6907",
   "metadata": {},
   "outputs": [],
   "source": [
    "#display notification on desktop\n",
    "#from win11toast import ToastNotifier\n",
    "#toast = ToastNotifier()#create toast variable\n",
    "#toast.show_toast(\"Notification\",\"Timer is Off\",duration = 20,icon_path = NONE,threaded = True,)#show toast"
   ]
  },
  {
   "cell_type": "markdown",
   "id": "e04b342b",
   "metadata": {},
   "source": [
    "6. Adding Beep Sound:"
   ]
  },
  {
   "cell_type": "code",
   "execution_count": 10,
   "id": "c6e2c804",
   "metadata": {},
   "outputs": [],
   "source": [
    "if (check.get()==True):#if the value of check is true    \n",
    "            winsound.Beep(440, 1000)#beep sound"
   ]
  },
  {
   "cell_type": "code",
   "execution_count": 11,
   "id": "1b7b7eaa",
   "metadata": {},
   "outputs": [],
   "source": [
    "window.update()#update the window\n",
    "window.mainloop()#main command"
   ]
  },
  {
   "cell_type": "code",
   "execution_count": null,
   "id": "d4d7d62c",
   "metadata": {},
   "outputs": [],
   "source": []
  }
 ],
 "metadata": {
  "kernelspec": {
   "display_name": "Python 3 (ipykernel)",
   "language": "python",
   "name": "python3"
  },
  "language_info": {
   "codemirror_mode": {
    "name": "ipython",
    "version": 3
   },
   "file_extension": ".py",
   "mimetype": "text/x-python",
   "name": "python",
   "nbconvert_exporter": "python",
   "pygments_lexer": "ipython3",
   "version": "3.8.7rc1"
  }
 },
 "nbformat": 4,
 "nbformat_minor": 5
}
