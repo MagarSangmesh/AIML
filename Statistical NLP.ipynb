{
 "cells": [
  {
   "cell_type": "markdown",
   "id": "2af92136-496b-4c1b-aa60-90a7d33ff561",
   "metadata": {
    "tags": []
   },
   "source": [
    "# PART 1"
   ]
  },
  {
   "cell_type": "markdown",
   "id": "8bf4ebbb-2b04-4d22-a448-ab192ba1ba9e",
   "metadata": {},
   "source": [
    "__DOMAIN__: Digital content management"
   ]
  },
  {
   "cell_type": "markdown",
   "id": "d4e8828e-d830-4c50-9ec7-e13365b82a1a",
   "metadata": {},
   "source": [
    "__CONTEXT__: Classification is probably the most popular task that you would deal with in real life. Text in the form of blogs, posts, articles, etc. is written every second. It is a challenge to predict the information about the writer without knowing about him/her. We are going to create a classifier that predicts multiple features of the author of a given text. We have designed it as a Multi label classi ication problem."
   ]
  },
  {
   "cell_type": "markdown",
   "id": "af589b18-c55b-481b-a720-c4413bc2096f",
   "metadata": {},
   "source": [
    "__DATA DESCRIPTION__: Over 600,000 posts from more than 19 thousand bloggers The Blog Authorship Corpus consists of the collected\n",
    "posts of 19,320 bloggers gathered from blogger.com in August 2004. The corpus incorporates a total of 681,288 posts and over 140 million words - or approximately 35 posts and 7250 words per person. Each blog is presented as a separate file, the name of which indicates a blogger `id#` and the blogger’s self-provided `gender`, `age`, `industry`, and `astrological sign`. (All are labelled for gender and age but for many, industry and/or sign is marked as unknown.) All bloggers included in the corpus fall into one of three age groups:\n",
    "\n",
    "• 8240 \"10s\" blogs (ages 13-17),\n",
    "\n",
    "• 8086 \"20s\" blogs(ages 23-27) and\n",
    "\n",
    "• 2994 \"30s\" blogs (ages 33-47)\n",
    "\n",
    "For each age group, there is an equal number of male and female bloggers. Each blog in the corpus includes at least 200 occurrences of common English words. All formatting has been stripped with two exceptions. Individual posts within a single blogger are separated by the date of the following post and links within a post are denoted by the label url link. Link to dataset: https://www.kaggle.com/rtatman/blog-authorship-corpus"
   ]
  },
  {
   "cell_type": "markdown",
   "id": "2086e83e-c130-4bec-9307-383b5e8cd9ba",
   "metadata": {},
   "source": [
    "__PROJECT OBJECTIVE__: The need is to build a NLP classifier which can use input text parameters to determine the label/s of the blog."
   ]
  },
  {
   "cell_type": "markdown",
   "id": "e58b5a95-3a3e-447e-bc41-12a2530091b7",
   "metadata": {},
   "source": [
    "### Steps and tasks:"
   ]
  },
  {
   "cell_type": "markdown",
   "id": "b15cd42b-ed5d-43c0-b311-c4a8de5ec4fc",
   "metadata": {},
   "source": [
    "#### 1. Read and Analyse Dataset. [5 Marks]"
   ]
  },
  {
   "cell_type": "markdown",
   "id": "0d56a7ee-58ed-4456-b7be-423f15152e78",
   "metadata": {},
   "source": [
    "__A. Clearly write outcome of data analysis(Minimum 2 points) [2 Marks]__"
   ]
  },
  {
   "cell_type": "code",
   "execution_count": 3,
   "id": "67b9c115-0bd0-4f5d-9a94-c2e20afe6190",
   "metadata": {},
   "outputs": [],
   "source": [
    "import pandas as pd\n",
    "import numpy as np\n",
    "import seaborn as sns\n",
    "import matplotlib.pyplot as plt\n",
    "import h5py\n",
    "from sklearn.linear_model import SGDClassifier\n",
    "from sklearn.metrics import classification_report, f1_score, make_scorer\n",
    "from sklearn.multiclass import OneVsRestClassifier\n",
    "import gc\n",
    "from sklearn.preprocessing import OneHotEncoder\n",
    "from sklearn.linear_model import LogisticRegression\n",
    "from sklearn.feature_extraction.text import CountVectorizer, TfidfVectorizer\n",
    "from langdetect import detect\n",
    "from joblib import dump, load\n",
    "from sklearn.metrics import roc_auc_score, roc_curve, make_scorer, f1_score\n",
    "import re\n",
    "from nltk.corpus import stopwords\n",
    "from sklearn.model_selection import train_test_split, RandomizedSearchCV, GridSearchCV"
   ]
  },
  {
   "cell_type": "code",
   "execution_count": 4,
   "id": "b496bb89-4bc5-4279-9d00-87266cf75451",
   "metadata": {},
   "outputs": [],
   "source": [
    "dataset = pd.read_csv(\"blogtext.csv\")"
   ]
  },
  {
   "cell_type": "code",
   "execution_count": 5,
   "id": "eaab3b81-9c25-4e42-8796-bf3464d8dd9a",
   "metadata": {},
   "outputs": [
    {
     "data": {
      "text/html": [
       "<div>\n",
       "<style scoped>\n",
       "    .dataframe tbody tr th:only-of-type {\n",
       "        vertical-align: middle;\n",
       "    }\n",
       "\n",
       "    .dataframe tbody tr th {\n",
       "        vertical-align: top;\n",
       "    }\n",
       "\n",
       "    .dataframe thead th {\n",
       "        text-align: right;\n",
       "    }\n",
       "</style>\n",
       "<table border=\"1\" class=\"dataframe\">\n",
       "  <thead>\n",
       "    <tr style=\"text-align: right;\">\n",
       "      <th></th>\n",
       "      <th>id</th>\n",
       "      <th>gender</th>\n",
       "      <th>age</th>\n",
       "      <th>topic</th>\n",
       "      <th>sign</th>\n",
       "      <th>date</th>\n",
       "      <th>text</th>\n",
       "    </tr>\n",
       "  </thead>\n",
       "  <tbody>\n",
       "    <tr>\n",
       "      <th>0</th>\n",
       "      <td>2059027</td>\n",
       "      <td>male</td>\n",
       "      <td>15</td>\n",
       "      <td>Student</td>\n",
       "      <td>Leo</td>\n",
       "      <td>14,May,2004</td>\n",
       "      <td>Info has been found (+/- 100 pages,...</td>\n",
       "    </tr>\n",
       "    <tr>\n",
       "      <th>1</th>\n",
       "      <td>2059027</td>\n",
       "      <td>male</td>\n",
       "      <td>15</td>\n",
       "      <td>Student</td>\n",
       "      <td>Leo</td>\n",
       "      <td>13,May,2004</td>\n",
       "      <td>These are the team members:   Drewe...</td>\n",
       "    </tr>\n",
       "    <tr>\n",
       "      <th>2</th>\n",
       "      <td>2059027</td>\n",
       "      <td>male</td>\n",
       "      <td>15</td>\n",
       "      <td>Student</td>\n",
       "      <td>Leo</td>\n",
       "      <td>12,May,2004</td>\n",
       "      <td>In het kader van kernfusie op aarde...</td>\n",
       "    </tr>\n",
       "    <tr>\n",
       "      <th>3</th>\n",
       "      <td>2059027</td>\n",
       "      <td>male</td>\n",
       "      <td>15</td>\n",
       "      <td>Student</td>\n",
       "      <td>Leo</td>\n",
       "      <td>12,May,2004</td>\n",
       "      <td>testing!!!  testing!!!</td>\n",
       "    </tr>\n",
       "    <tr>\n",
       "      <th>4</th>\n",
       "      <td>3581210</td>\n",
       "      <td>male</td>\n",
       "      <td>33</td>\n",
       "      <td>InvestmentBanking</td>\n",
       "      <td>Aquarius</td>\n",
       "      <td>11,June,2004</td>\n",
       "      <td>Thanks to Yahoo!'s Toolbar I can ...</td>\n",
       "    </tr>\n",
       "    <tr>\n",
       "      <th>5</th>\n",
       "      <td>3581210</td>\n",
       "      <td>male</td>\n",
       "      <td>33</td>\n",
       "      <td>InvestmentBanking</td>\n",
       "      <td>Aquarius</td>\n",
       "      <td>10,June,2004</td>\n",
       "      <td>I had an interesting conversation...</td>\n",
       "    </tr>\n",
       "    <tr>\n",
       "      <th>6</th>\n",
       "      <td>3581210</td>\n",
       "      <td>male</td>\n",
       "      <td>33</td>\n",
       "      <td>InvestmentBanking</td>\n",
       "      <td>Aquarius</td>\n",
       "      <td>10,June,2004</td>\n",
       "      <td>Somehow Coca-Cola has a way of su...</td>\n",
       "    </tr>\n",
       "    <tr>\n",
       "      <th>7</th>\n",
       "      <td>3581210</td>\n",
       "      <td>male</td>\n",
       "      <td>33</td>\n",
       "      <td>InvestmentBanking</td>\n",
       "      <td>Aquarius</td>\n",
       "      <td>10,June,2004</td>\n",
       "      <td>If anything, Korea is a country o...</td>\n",
       "    </tr>\n",
       "    <tr>\n",
       "      <th>8</th>\n",
       "      <td>3581210</td>\n",
       "      <td>male</td>\n",
       "      <td>33</td>\n",
       "      <td>InvestmentBanking</td>\n",
       "      <td>Aquarius</td>\n",
       "      <td>10,June,2004</td>\n",
       "      <td>Take a read of this news article ...</td>\n",
       "    </tr>\n",
       "    <tr>\n",
       "      <th>9</th>\n",
       "      <td>3581210</td>\n",
       "      <td>male</td>\n",
       "      <td>33</td>\n",
       "      <td>InvestmentBanking</td>\n",
       "      <td>Aquarius</td>\n",
       "      <td>09,June,2004</td>\n",
       "      <td>I surf the English news sites a l...</td>\n",
       "    </tr>\n",
       "    <tr>\n",
       "      <th>10</th>\n",
       "      <td>3581210</td>\n",
       "      <td>male</td>\n",
       "      <td>33</td>\n",
       "      <td>InvestmentBanking</td>\n",
       "      <td>Aquarius</td>\n",
       "      <td>09,June,2004</td>\n",
       "      <td>Ah, the Korean language...it look...</td>\n",
       "    </tr>\n",
       "    <tr>\n",
       "      <th>11</th>\n",
       "      <td>3581210</td>\n",
       "      <td>male</td>\n",
       "      <td>33</td>\n",
       "      <td>InvestmentBanking</td>\n",
       "      <td>Aquarius</td>\n",
       "      <td>09,June,2004</td>\n",
       "      <td>If you click on my profile you'll...</td>\n",
       "    </tr>\n",
       "    <tr>\n",
       "      <th>12</th>\n",
       "      <td>3581210</td>\n",
       "      <td>male</td>\n",
       "      <td>33</td>\n",
       "      <td>InvestmentBanking</td>\n",
       "      <td>Aquarius</td>\n",
       "      <td>09,June,2004</td>\n",
       "      <td>Last night was pretty fun...mostl...</td>\n",
       "    </tr>\n",
       "    <tr>\n",
       "      <th>13</th>\n",
       "      <td>3581210</td>\n",
       "      <td>male</td>\n",
       "      <td>33</td>\n",
       "      <td>InvestmentBanking</td>\n",
       "      <td>Aquarius</td>\n",
       "      <td>09,June,2004</td>\n",
       "      <td>There is so much that is differen...</td>\n",
       "    </tr>\n",
       "    <tr>\n",
       "      <th>14</th>\n",
       "      <td>3581210</td>\n",
       "      <td>male</td>\n",
       "      <td>33</td>\n",
       "      <td>InvestmentBanking</td>\n",
       "      <td>Aquarius</td>\n",
       "      <td>09,June,2004</td>\n",
       "      <td>urlLink    Here it is, the super...</td>\n",
       "    </tr>\n",
       "    <tr>\n",
       "      <th>15</th>\n",
       "      <td>3581210</td>\n",
       "      <td>male</td>\n",
       "      <td>33</td>\n",
       "      <td>InvestmentBanking</td>\n",
       "      <td>Aquarius</td>\n",
       "      <td>09,June,2004</td>\n",
       "      <td>One thing I love about Seoul (and...</td>\n",
       "    </tr>\n",
       "    <tr>\n",
       "      <th>16</th>\n",
       "      <td>3581210</td>\n",
       "      <td>male</td>\n",
       "      <td>33</td>\n",
       "      <td>InvestmentBanking</td>\n",
       "      <td>Aquarius</td>\n",
       "      <td>09,June,2004</td>\n",
       "      <td>urlLink    Wonderful oh-gyup-sal...</td>\n",
       "    </tr>\n",
       "    <tr>\n",
       "      <th>17</th>\n",
       "      <td>3581210</td>\n",
       "      <td>male</td>\n",
       "      <td>33</td>\n",
       "      <td>InvestmentBanking</td>\n",
       "      <td>Aquarius</td>\n",
       "      <td>18,June,2004</td>\n",
       "      <td>Here is the latest from the Korea...</td>\n",
       "    </tr>\n",
       "    <tr>\n",
       "      <th>18</th>\n",
       "      <td>3581210</td>\n",
       "      <td>male</td>\n",
       "      <td>33</td>\n",
       "      <td>InvestmentBanking</td>\n",
       "      <td>Aquarius</td>\n",
       "      <td>17,June,2004</td>\n",
       "      <td>Well, I stand corrected, again.  ...</td>\n",
       "    </tr>\n",
       "    <tr>\n",
       "      <th>19</th>\n",
       "      <td>3581210</td>\n",
       "      <td>male</td>\n",
       "      <td>33</td>\n",
       "      <td>InvestmentBanking</td>\n",
       "      <td>Aquarius</td>\n",
       "      <td>16,June,2004</td>\n",
       "      <td>So I've been in Vancouver a few d...</td>\n",
       "    </tr>\n",
       "  </tbody>\n",
       "</table>\n",
       "</div>"
      ],
      "text/plain": [
       "         id gender  age              topic      sign          date  \\\n",
       "0   2059027   male   15            Student       Leo   14,May,2004   \n",
       "1   2059027   male   15            Student       Leo   13,May,2004   \n",
       "2   2059027   male   15            Student       Leo   12,May,2004   \n",
       "3   2059027   male   15            Student       Leo   12,May,2004   \n",
       "4   3581210   male   33  InvestmentBanking  Aquarius  11,June,2004   \n",
       "5   3581210   male   33  InvestmentBanking  Aquarius  10,June,2004   \n",
       "6   3581210   male   33  InvestmentBanking  Aquarius  10,June,2004   \n",
       "7   3581210   male   33  InvestmentBanking  Aquarius  10,June,2004   \n",
       "8   3581210   male   33  InvestmentBanking  Aquarius  10,June,2004   \n",
       "9   3581210   male   33  InvestmentBanking  Aquarius  09,June,2004   \n",
       "10  3581210   male   33  InvestmentBanking  Aquarius  09,June,2004   \n",
       "11  3581210   male   33  InvestmentBanking  Aquarius  09,June,2004   \n",
       "12  3581210   male   33  InvestmentBanking  Aquarius  09,June,2004   \n",
       "13  3581210   male   33  InvestmentBanking  Aquarius  09,June,2004   \n",
       "14  3581210   male   33  InvestmentBanking  Aquarius  09,June,2004   \n",
       "15  3581210   male   33  InvestmentBanking  Aquarius  09,June,2004   \n",
       "16  3581210   male   33  InvestmentBanking  Aquarius  09,June,2004   \n",
       "17  3581210   male   33  InvestmentBanking  Aquarius  18,June,2004   \n",
       "18  3581210   male   33  InvestmentBanking  Aquarius  17,June,2004   \n",
       "19  3581210   male   33  InvestmentBanking  Aquarius  16,June,2004   \n",
       "\n",
       "                                                 text  \n",
       "0              Info has been found (+/- 100 pages,...  \n",
       "1              These are the team members:   Drewe...  \n",
       "2              In het kader van kernfusie op aarde...  \n",
       "3                    testing!!!  testing!!!            \n",
       "4                Thanks to Yahoo!'s Toolbar I can ...  \n",
       "5                I had an interesting conversation...  \n",
       "6                Somehow Coca-Cola has a way of su...  \n",
       "7                If anything, Korea is a country o...  \n",
       "8                Take a read of this news article ...  \n",
       "9                I surf the English news sites a l...  \n",
       "10               Ah, the Korean language...it look...  \n",
       "11               If you click on my profile you'll...  \n",
       "12               Last night was pretty fun...mostl...  \n",
       "13               There is so much that is differen...  \n",
       "14                urlLink    Here it is, the super...  \n",
       "15               One thing I love about Seoul (and...  \n",
       "16                urlLink    Wonderful oh-gyup-sal...  \n",
       "17               Here is the latest from the Korea...  \n",
       "18               Well, I stand corrected, again.  ...  \n",
       "19               So I've been in Vancouver a few d...  "
      ]
     },
     "execution_count": 5,
     "metadata": {},
     "output_type": "execute_result"
    }
   ],
   "source": [
    "dataset.head(20)"
   ]
  },
  {
   "cell_type": "code",
   "execution_count": 6,
   "id": "fcfe8bf6-6eb7-45c6-a730-c7a1201d92f0",
   "metadata": {},
   "outputs": [
    {
     "name": "stdout",
     "output_type": "stream",
     "text": [
      "<class 'pandas.core.frame.DataFrame'>\n",
      "RangeIndex: 681284 entries, 0 to 681283\n",
      "Data columns (total 7 columns):\n",
      " #   Column  Non-Null Count   Dtype \n",
      "---  ------  --------------   ----- \n",
      " 0   id      681284 non-null  int64 \n",
      " 1   gender  681284 non-null  object\n",
      " 2   age     681284 non-null  int64 \n",
      " 3   topic   681284 non-null  object\n",
      " 4   sign    681284 non-null  object\n",
      " 5   date    681284 non-null  object\n",
      " 6   text    681284 non-null  object\n",
      "dtypes: int64(2), object(5)\n",
      "memory usage: 36.4+ MB\n"
     ]
    }
   ],
   "source": [
    "dataset.info()"
   ]
  },
  {
   "cell_type": "code",
   "execution_count": 7,
   "id": "b5fc81ce-7042-40df-a407-7aad46dc888b",
   "metadata": {},
   "outputs": [
    {
     "data": {
      "text/html": [
       "<div>\n",
       "<style scoped>\n",
       "    .dataframe tbody tr th:only-of-type {\n",
       "        vertical-align: middle;\n",
       "    }\n",
       "\n",
       "    .dataframe tbody tr th {\n",
       "        vertical-align: top;\n",
       "    }\n",
       "\n",
       "    .dataframe thead th {\n",
       "        text-align: right;\n",
       "    }\n",
       "</style>\n",
       "<table border=\"1\" class=\"dataframe\">\n",
       "  <thead>\n",
       "    <tr style=\"text-align: right;\">\n",
       "      <th></th>\n",
       "      <th>id</th>\n",
       "      <th>gender</th>\n",
       "      <th>age</th>\n",
       "      <th>topic</th>\n",
       "      <th>sign</th>\n",
       "      <th>date</th>\n",
       "      <th>text</th>\n",
       "    </tr>\n",
       "  </thead>\n",
       "  <tbody>\n",
       "    <tr>\n",
       "      <th>count</th>\n",
       "      <td>6.812840e+05</td>\n",
       "      <td>681284</td>\n",
       "      <td>681284.000000</td>\n",
       "      <td>681284</td>\n",
       "      <td>681284</td>\n",
       "      <td>681284</td>\n",
       "      <td>681284</td>\n",
       "    </tr>\n",
       "    <tr>\n",
       "      <th>unique</th>\n",
       "      <td>NaN</td>\n",
       "      <td>2</td>\n",
       "      <td>NaN</td>\n",
       "      <td>40</td>\n",
       "      <td>12</td>\n",
       "      <td>2616</td>\n",
       "      <td>611652</td>\n",
       "    </tr>\n",
       "    <tr>\n",
       "      <th>top</th>\n",
       "      <td>NaN</td>\n",
       "      <td>male</td>\n",
       "      <td>NaN</td>\n",
       "      <td>indUnk</td>\n",
       "      <td>Cancer</td>\n",
       "      <td>02,August,2004</td>\n",
       "      <td>urlLink</td>\n",
       "    </tr>\n",
       "    <tr>\n",
       "      <th>freq</th>\n",
       "      <td>NaN</td>\n",
       "      <td>345193</td>\n",
       "      <td>NaN</td>\n",
       "      <td>251015</td>\n",
       "      <td>65048</td>\n",
       "      <td>16544</td>\n",
       "      <td>445</td>\n",
       "    </tr>\n",
       "    <tr>\n",
       "      <th>mean</th>\n",
       "      <td>2.397802e+06</td>\n",
       "      <td>NaN</td>\n",
       "      <td>23.932326</td>\n",
       "      <td>NaN</td>\n",
       "      <td>NaN</td>\n",
       "      <td>NaN</td>\n",
       "      <td>NaN</td>\n",
       "    </tr>\n",
       "    <tr>\n",
       "      <th>std</th>\n",
       "      <td>1.247723e+06</td>\n",
       "      <td>NaN</td>\n",
       "      <td>7.786009</td>\n",
       "      <td>NaN</td>\n",
       "      <td>NaN</td>\n",
       "      <td>NaN</td>\n",
       "      <td>NaN</td>\n",
       "    </tr>\n",
       "    <tr>\n",
       "      <th>min</th>\n",
       "      <td>5.114000e+03</td>\n",
       "      <td>NaN</td>\n",
       "      <td>13.000000</td>\n",
       "      <td>NaN</td>\n",
       "      <td>NaN</td>\n",
       "      <td>NaN</td>\n",
       "      <td>NaN</td>\n",
       "    </tr>\n",
       "    <tr>\n",
       "      <th>25%</th>\n",
       "      <td>1.239610e+06</td>\n",
       "      <td>NaN</td>\n",
       "      <td>17.000000</td>\n",
       "      <td>NaN</td>\n",
       "      <td>NaN</td>\n",
       "      <td>NaN</td>\n",
       "      <td>NaN</td>\n",
       "    </tr>\n",
       "    <tr>\n",
       "      <th>50%</th>\n",
       "      <td>2.607577e+06</td>\n",
       "      <td>NaN</td>\n",
       "      <td>24.000000</td>\n",
       "      <td>NaN</td>\n",
       "      <td>NaN</td>\n",
       "      <td>NaN</td>\n",
       "      <td>NaN</td>\n",
       "    </tr>\n",
       "    <tr>\n",
       "      <th>75%</th>\n",
       "      <td>3.525660e+06</td>\n",
       "      <td>NaN</td>\n",
       "      <td>26.000000</td>\n",
       "      <td>NaN</td>\n",
       "      <td>NaN</td>\n",
       "      <td>NaN</td>\n",
       "      <td>NaN</td>\n",
       "    </tr>\n",
       "    <tr>\n",
       "      <th>max</th>\n",
       "      <td>4.337650e+06</td>\n",
       "      <td>NaN</td>\n",
       "      <td>48.000000</td>\n",
       "      <td>NaN</td>\n",
       "      <td>NaN</td>\n",
       "      <td>NaN</td>\n",
       "      <td>NaN</td>\n",
       "    </tr>\n",
       "  </tbody>\n",
       "</table>\n",
       "</div>"
      ],
      "text/plain": [
       "                  id  gender            age   topic    sign            date  \\\n",
       "count   6.812840e+05  681284  681284.000000  681284  681284          681284   \n",
       "unique           NaN       2            NaN      40      12            2616   \n",
       "top              NaN    male            NaN  indUnk  Cancer  02,August,2004   \n",
       "freq             NaN  345193            NaN  251015   65048           16544   \n",
       "mean    2.397802e+06     NaN      23.932326     NaN     NaN             NaN   \n",
       "std     1.247723e+06     NaN       7.786009     NaN     NaN             NaN   \n",
       "min     5.114000e+03     NaN      13.000000     NaN     NaN             NaN   \n",
       "25%     1.239610e+06     NaN      17.000000     NaN     NaN             NaN   \n",
       "50%     2.607577e+06     NaN      24.000000     NaN     NaN             NaN   \n",
       "75%     3.525660e+06     NaN      26.000000     NaN     NaN             NaN   \n",
       "max     4.337650e+06     NaN      48.000000     NaN     NaN             NaN   \n",
       "\n",
       "                       text  \n",
       "count                681284  \n",
       "unique               611652  \n",
       "top              urlLink     \n",
       "freq                    445  \n",
       "mean                    NaN  \n",
       "std                     NaN  \n",
       "min                     NaN  \n",
       "25%                     NaN  \n",
       "50%                     NaN  \n",
       "75%                     NaN  \n",
       "max                     NaN  "
      ]
     },
     "execution_count": 7,
     "metadata": {},
     "output_type": "execute_result"
    }
   ],
   "source": [
    "dataset.describe(include = \"all\")"
   ]
  },
  {
   "cell_type": "code",
   "execution_count": 8,
   "id": "33d5394b-7494-4ad4-8f5d-1fc28d19b37e",
   "metadata": {},
   "outputs": [
    {
     "name": "stdout",
     "output_type": "stream",
     "text": [
      "790123\n",
      "4\n"
     ]
    }
   ],
   "source": [
    "maximum = 0 \n",
    "minimum = 100000\n",
    "for text in dataset[\"text\"]:\n",
    "    curr = len(text)\n",
    "    #print(curr)\n",
    "    if curr > maximum:\n",
    "        maximum = curr \n",
    "    if curr < minimum:\n",
    "        minimum = curr\n",
    "    \n",
    "print(maximum)\n",
    "print(minimum)"
   ]
  },
  {
   "cell_type": "markdown",
   "id": "5720a33b-78c3-4058-90e4-bc6d35cfad0d",
   "metadata": {},
   "source": [
    "# Trimming the dataset for quick feedback : remove this code please!!!!!!"
   ]
  },
  {
   "cell_type": "code",
   "execution_count": 9,
   "id": "aa269ad9-4ada-4088-9903-c49497d9bb4c",
   "metadata": {},
   "outputs": [],
   "source": [
    "dataset = dataset[ : 2000].copy()"
   ]
  },
  {
   "cell_type": "code",
   "execution_count": 10,
   "id": "d8b5f20c-6aae-4f39-8938-d0ccaa5ce5a3",
   "metadata": {},
   "outputs": [
    {
     "data": {
      "image/png": "[encoded data removed]",
      "text/plain": [
       "<Figure size 1440x2160 with 5 Axes>"
      ]
     },
     "metadata": {
      "needs_background": "light"
     },
     "output_type": "display_data"
    }
   ],
   "source": [
    "fig, axes = plt.subplots(5, 1, figsize = (20, 30))\n",
    "for i, col in enumerate([\"gender\", \"age\", \"topic\", \"sign\", \"date\"]):\n",
    "    sns.countplot(data = dataset, x = col, ax = axes[i])"
   ]
  },
  {
   "cell_type": "code",
   "execution_count": 11,
   "id": "4e6e7702-a355-4ad1-9bca-4716192e03ad",
   "metadata": {},
   "outputs": [
    {
     "data": {
      "text/plain": [
       "<AxesSubplot:ylabel='Count'>"
      ]
     },
     "execution_count": 11,
     "metadata": {},
     "output_type": "execute_result"
    },
    {
     "data": {
      "image/png": "[encoded data removed]",
      "text/plain": [
       "<Figure size 432x288 with 1 Axes>"
      ]
     },
     "metadata": {
      "needs_background": "light"
     },
     "output_type": "display_data"
    }
   ],
   "source": [
    "dataset = pd.read_csv(\"blogtext.csv\")\n",
    "lens = dataset[\"text\"].apply(lambda x : len(x))\n",
    "sns.histplot(sorted(lens)[ : -1000], bins = 50)"
   ]
  },
  {
   "cell_type": "code",
   "execution_count": 12,
   "id": "81a05587-1999-447f-8238-003c6c3aab2e",
   "metadata": {},
   "outputs": [
    {
     "data": {
      "text/html": [
       "<div>\n",
       "<style scoped>\n",
       "    .dataframe tbody tr th:only-of-type {\n",
       "        vertical-align: middle;\n",
       "    }\n",
       "\n",
       "    .dataframe tbody tr th {\n",
       "        vertical-align: top;\n",
       "    }\n",
       "\n",
       "    .dataframe thead th {\n",
       "        text-align: right;\n",
       "    }\n",
       "</style>\n",
       "<table border=\"1\" class=\"dataframe\">\n",
       "  <thead>\n",
       "    <tr style=\"text-align: right;\">\n",
       "      <th></th>\n",
       "      <th>id</th>\n",
       "      <th>gender</th>\n",
       "      <th>age</th>\n",
       "      <th>sign</th>\n",
       "      <th>date</th>\n",
       "      <th>text</th>\n",
       "    </tr>\n",
       "    <tr>\n",
       "      <th>topic</th>\n",
       "      <th></th>\n",
       "      <th></th>\n",
       "      <th></th>\n",
       "      <th></th>\n",
       "      <th></th>\n",
       "      <th></th>\n",
       "    </tr>\n",
       "  </thead>\n",
       "  <tbody>\n",
       "    <tr>\n",
       "      <th>Accounting</th>\n",
       "      <td>105</td>\n",
       "      <td>2</td>\n",
       "      <td>20</td>\n",
       "      <td>12</td>\n",
       "      <td>605</td>\n",
       "      <td>3693</td>\n",
       "    </tr>\n",
       "    <tr>\n",
       "      <th>Advertising</th>\n",
       "      <td>145</td>\n",
       "      <td>2</td>\n",
       "      <td>21</td>\n",
       "      <td>12</td>\n",
       "      <td>643</td>\n",
       "      <td>4653</td>\n",
       "    </tr>\n",
       "    <tr>\n",
       "      <th>Agriculture</th>\n",
       "      <td>36</td>\n",
       "      <td>2</td>\n",
       "      <td>14</td>\n",
       "      <td>12</td>\n",
       "      <td>423</td>\n",
       "      <td>1231</td>\n",
       "    </tr>\n",
       "    <tr>\n",
       "      <th>Architecture</th>\n",
       "      <td>69</td>\n",
       "      <td>2</td>\n",
       "      <td>17</td>\n",
       "      <td>12</td>\n",
       "      <td>301</td>\n",
       "      <td>1604</td>\n",
       "    </tr>\n",
       "    <tr>\n",
       "      <th>Arts</th>\n",
       "      <td>721</td>\n",
       "      <td>2</td>\n",
       "      <td>26</td>\n",
       "      <td>12</td>\n",
       "      <td>1198</td>\n",
       "      <td>30918</td>\n",
       "    </tr>\n",
       "    <tr>\n",
       "      <th>Automotive</th>\n",
       "      <td>54</td>\n",
       "      <td>2</td>\n",
       "      <td>17</td>\n",
       "      <td>12</td>\n",
       "      <td>240</td>\n",
       "      <td>1242</td>\n",
       "    </tr>\n",
       "    <tr>\n",
       "      <th>Banking</th>\n",
       "      <td>112</td>\n",
       "      <td>2</td>\n",
       "      <td>17</td>\n",
       "      <td>12</td>\n",
       "      <td>530</td>\n",
       "      <td>3999</td>\n",
       "    </tr>\n",
       "    <tr>\n",
       "      <th>Biotech</th>\n",
       "      <td>57</td>\n",
       "      <td>2</td>\n",
       "      <td>16</td>\n",
       "      <td>12</td>\n",
       "      <td>313</td>\n",
       "      <td>2224</td>\n",
       "    </tr>\n",
       "    <tr>\n",
       "      <th>BusinessServices</th>\n",
       "      <td>163</td>\n",
       "      <td>2</td>\n",
       "      <td>22</td>\n",
       "      <td>12</td>\n",
       "      <td>434</td>\n",
       "      <td>4457</td>\n",
       "    </tr>\n",
       "    <tr>\n",
       "      <th>Chemicals</th>\n",
       "      <td>62</td>\n",
       "      <td>2</td>\n",
       "      <td>15</td>\n",
       "      <td>12</td>\n",
       "      <td>370</td>\n",
       "      <td>3899</td>\n",
       "    </tr>\n",
       "    <tr>\n",
       "      <th>Communications-Media</th>\n",
       "      <td>479</td>\n",
       "      <td>2</td>\n",
       "      <td>26</td>\n",
       "      <td>12</td>\n",
       "      <td>999</td>\n",
       "      <td>19743</td>\n",
       "    </tr>\n",
       "    <tr>\n",
       "      <th>Construction</th>\n",
       "      <td>55</td>\n",
       "      <td>2</td>\n",
       "      <td>19</td>\n",
       "      <td>12</td>\n",
       "      <td>180</td>\n",
       "      <td>1064</td>\n",
       "    </tr>\n",
       "    <tr>\n",
       "      <th>Consulting</th>\n",
       "      <td>191</td>\n",
       "      <td>2</td>\n",
       "      <td>25</td>\n",
       "      <td>12</td>\n",
       "      <td>830</td>\n",
       "      <td>5801</td>\n",
       "    </tr>\n",
       "    <tr>\n",
       "      <th>Education</th>\n",
       "      <td>980</td>\n",
       "      <td>2</td>\n",
       "      <td>26</td>\n",
       "      <td>12</td>\n",
       "      <td>922</td>\n",
       "      <td>29321</td>\n",
       "    </tr>\n",
       "    <tr>\n",
       "      <th>Engineering</th>\n",
       "      <td>312</td>\n",
       "      <td>2</td>\n",
       "      <td>23</td>\n",
       "      <td>12</td>\n",
       "      <td>913</td>\n",
       "      <td>11340</td>\n",
       "    </tr>\n",
       "    <tr>\n",
       "      <th>Environment</th>\n",
       "      <td>28</td>\n",
       "      <td>2</td>\n",
       "      <td>12</td>\n",
       "      <td>10</td>\n",
       "      <td>151</td>\n",
       "      <td>586</td>\n",
       "    </tr>\n",
       "    <tr>\n",
       "      <th>Fashion</th>\n",
       "      <td>98</td>\n",
       "      <td>2</td>\n",
       "      <td>19</td>\n",
       "      <td>12</td>\n",
       "      <td>620</td>\n",
       "      <td>4804</td>\n",
       "    </tr>\n",
       "    <tr>\n",
       "      <th>Government</th>\n",
       "      <td>236</td>\n",
       "      <td>2</td>\n",
       "      <td>25</td>\n",
       "      <td>12</td>\n",
       "      <td>525</td>\n",
       "      <td>6792</td>\n",
       "    </tr>\n",
       "    <tr>\n",
       "      <th>HumanResources</th>\n",
       "      <td>94</td>\n",
       "      <td>2</td>\n",
       "      <td>19</td>\n",
       "      <td>12</td>\n",
       "      <td>367</td>\n",
       "      <td>2999</td>\n",
       "    </tr>\n",
       "    <tr>\n",
       "      <th>Internet</th>\n",
       "      <td>397</td>\n",
       "      <td>2</td>\n",
       "      <td>26</td>\n",
       "      <td>12</td>\n",
       "      <td>1079</td>\n",
       "      <td>15774</td>\n",
       "    </tr>\n",
       "    <tr>\n",
       "      <th>InvestmentBanking</th>\n",
       "      <td>33</td>\n",
       "      <td>2</td>\n",
       "      <td>13</td>\n",
       "      <td>10</td>\n",
       "      <td>156</td>\n",
       "      <td>1278</td>\n",
       "    </tr>\n",
       "    <tr>\n",
       "      <th>Law</th>\n",
       "      <td>197</td>\n",
       "      <td>2</td>\n",
       "      <td>26</td>\n",
       "      <td>12</td>\n",
       "      <td>862</td>\n",
       "      <td>8876</td>\n",
       "    </tr>\n",
       "    <tr>\n",
       "      <th>LawEnforcement-Security</th>\n",
       "      <td>57</td>\n",
       "      <td>2</td>\n",
       "      <td>14</td>\n",
       "      <td>12</td>\n",
       "      <td>603</td>\n",
       "      <td>1858</td>\n",
       "    </tr>\n",
       "    <tr>\n",
       "      <th>Manufacturing</th>\n",
       "      <td>87</td>\n",
       "      <td>2</td>\n",
       "      <td>21</td>\n",
       "      <td>12</td>\n",
       "      <td>440</td>\n",
       "      <td>2210</td>\n",
       "    </tr>\n",
       "    <tr>\n",
       "      <th>Maritime</th>\n",
       "      <td>17</td>\n",
       "      <td>2</td>\n",
       "      <td>11</td>\n",
       "      <td>10</td>\n",
       "      <td>96</td>\n",
       "      <td>277</td>\n",
       "    </tr>\n",
       "    <tr>\n",
       "      <th>Marketing</th>\n",
       "      <td>180</td>\n",
       "      <td>2</td>\n",
       "      <td>21</td>\n",
       "      <td>12</td>\n",
       "      <td>465</td>\n",
       "      <td>4717</td>\n",
       "    </tr>\n",
       "    <tr>\n",
       "      <th>Military</th>\n",
       "      <td>116</td>\n",
       "      <td>2</td>\n",
       "      <td>20</td>\n",
       "      <td>12</td>\n",
       "      <td>388</td>\n",
       "      <td>3084</td>\n",
       "    </tr>\n",
       "    <tr>\n",
       "      <th>Museums-Libraries</th>\n",
       "      <td>55</td>\n",
       "      <td>2</td>\n",
       "      <td>20</td>\n",
       "      <td>12</td>\n",
       "      <td>441</td>\n",
       "      <td>3090</td>\n",
       "    </tr>\n",
       "    <tr>\n",
       "      <th>Non-Profit</th>\n",
       "      <td>372</td>\n",
       "      <td>2</td>\n",
       "      <td>26</td>\n",
       "      <td>12</td>\n",
       "      <td>798</td>\n",
       "      <td>14580</td>\n",
       "    </tr>\n",
       "    <tr>\n",
       "      <th>Publishing</th>\n",
       "      <td>150</td>\n",
       "      <td>2</td>\n",
       "      <td>23</td>\n",
       "      <td>12</td>\n",
       "      <td>785</td>\n",
       "      <td>7674</td>\n",
       "    </tr>\n",
       "    <tr>\n",
       "      <th>RealEstate</th>\n",
       "      <td>55</td>\n",
       "      <td>2</td>\n",
       "      <td>17</td>\n",
       "      <td>12</td>\n",
       "      <td>593</td>\n",
       "      <td>2860</td>\n",
       "    </tr>\n",
       "    <tr>\n",
       "      <th>Religion</th>\n",
       "      <td>139</td>\n",
       "      <td>2</td>\n",
       "      <td>23</td>\n",
       "      <td>12</td>\n",
       "      <td>620</td>\n",
       "      <td>5172</td>\n",
       "    </tr>\n",
       "    <tr>\n",
       "      <th>Science</th>\n",
       "      <td>184</td>\n",
       "      <td>2</td>\n",
       "      <td>22</td>\n",
       "      <td>12</td>\n",
       "      <td>723</td>\n",
       "      <td>7177</td>\n",
       "    </tr>\n",
       "    <tr>\n",
       "      <th>Sports-Recreation</th>\n",
       "      <td>90</td>\n",
       "      <td>2</td>\n",
       "      <td>18</td>\n",
       "      <td>12</td>\n",
       "      <td>485</td>\n",
       "      <td>3025</td>\n",
       "    </tr>\n",
       "    <tr>\n",
       "      <th>Student</th>\n",
       "      <td>5120</td>\n",
       "      <td>2</td>\n",
       "      <td>23</td>\n",
       "      <td>12</td>\n",
       "      <td>1621</td>\n",
       "      <td>144467</td>\n",
       "    </tr>\n",
       "    <tr>\n",
       "      <th>Technology</th>\n",
       "      <td>943</td>\n",
       "      <td>2</td>\n",
       "      <td>26</td>\n",
       "      <td>12</td>\n",
       "      <td>1264</td>\n",
       "      <td>39011</td>\n",
       "    </tr>\n",
       "    <tr>\n",
       "      <th>Telecommunications</th>\n",
       "      <td>119</td>\n",
       "      <td>2</td>\n",
       "      <td>21</td>\n",
       "      <td>12</td>\n",
       "      <td>479</td>\n",
       "      <td>3820</td>\n",
       "    </tr>\n",
       "    <tr>\n",
       "      <th>Tourism</th>\n",
       "      <td>94</td>\n",
       "      <td>2</td>\n",
       "      <td>21</td>\n",
       "      <td>12</td>\n",
       "      <td>344</td>\n",
       "      <td>1858</td>\n",
       "    </tr>\n",
       "    <tr>\n",
       "      <th>Transportation</th>\n",
       "      <td>91</td>\n",
       "      <td>2</td>\n",
       "      <td>23</td>\n",
       "      <td>12</td>\n",
       "      <td>255</td>\n",
       "      <td>2168</td>\n",
       "    </tr>\n",
       "    <tr>\n",
       "      <th>indUnk</th>\n",
       "      <td>6827</td>\n",
       "      <td>2</td>\n",
       "      <td>26</td>\n",
       "      <td>12</td>\n",
       "      <td>1768</td>\n",
       "      <td>240092</td>\n",
       "    </tr>\n",
       "  </tbody>\n",
       "</table>\n",
       "</div>"
      ],
      "text/plain": [
       "                           id  gender  age  sign  date    text\n",
       "topic                                                         \n",
       "Accounting                105       2   20    12   605    3693\n",
       "Advertising               145       2   21    12   643    4653\n",
       "Agriculture                36       2   14    12   423    1231\n",
       "Architecture               69       2   17    12   301    1604\n",
       "Arts                      721       2   26    12  1198   30918\n",
       "Automotive                 54       2   17    12   240    1242\n",
       "Banking                   112       2   17    12   530    3999\n",
       "Biotech                    57       2   16    12   313    2224\n",
       "BusinessServices          163       2   22    12   434    4457\n",
       "Chemicals                  62       2   15    12   370    3899\n",
       "Communications-Media      479       2   26    12   999   19743\n",
       "Construction               55       2   19    12   180    1064\n",
       "Consulting                191       2   25    12   830    5801\n",
       "Education                 980       2   26    12   922   29321\n",
       "Engineering               312       2   23    12   913   11340\n",
       "Environment                28       2   12    10   151     586\n",
       "Fashion                    98       2   19    12   620    4804\n",
       "Government                236       2   25    12   525    6792\n",
       "HumanResources             94       2   19    12   367    2999\n",
       "Internet                  397       2   26    12  1079   15774\n",
       "InvestmentBanking          33       2   13    10   156    1278\n",
       "Law                       197       2   26    12   862    8876\n",
       "LawEnforcement-Security    57       2   14    12   603    1858\n",
       "Manufacturing              87       2   21    12   440    2210\n",
       "Maritime                   17       2   11    10    96     277\n",
       "Marketing                 180       2   21    12   465    4717\n",
       "Military                  116       2   20    12   388    3084\n",
       "Museums-Libraries          55       2   20    12   441    3090\n",
       "Non-Profit                372       2   26    12   798   14580\n",
       "Publishing                150       2   23    12   785    7674\n",
       "RealEstate                 55       2   17    12   593    2860\n",
       "Religion                  139       2   23    12   620    5172\n",
       "Science                   184       2   22    12   723    7177\n",
       "Sports-Recreation          90       2   18    12   485    3025\n",
       "Student                  5120       2   23    12  1621  144467\n",
       "Technology                943       2   26    12  1264   39011\n",
       "Telecommunications        119       2   21    12   479    3820\n",
       "Tourism                    94       2   21    12   344    1858\n",
       "Transportation             91       2   23    12   255    2168\n",
       "indUnk                   6827       2   26    12  1768  240092"
      ]
     },
     "execution_count": 12,
     "metadata": {},
     "output_type": "execute_result"
    }
   ],
   "source": [
    "dataset.groupby(\"topic\").nunique()"
   ]
  },
  {
   "cell_type": "markdown",
   "id": "87fee3a2-db3d-425d-8894-4b9c680c8b9b",
   "metadata": {},
   "source": [
    "_Outcome of data analysis_:\n",
    "- Most articles concentrated on few topics\n",
    "- A lot of the blogs are from just a few dates\n",
    "- The maximum length of the articles is more than __700,000__! Need to trim the length\n",
    "- The minimum length of the articles is __4__, need to pad as well\n",
    "- The length of all the articles is an exponential distribution..."
   ]
  },
  {
   "cell_type": "markdown",
   "id": "538ef126-4ff4-4f59-9594-24f603e39f6b",
   "metadata": {},
   "source": [
    "__B. Clean the Structured Data [3 Marks]__"
   ]
  },
  {
   "cell_type": "markdown",
   "id": "4b382065-00a3-43b8-9c03-ced9ef2aa96a",
   "metadata": {},
   "source": [
    "__i. Missing value analysis and imputation. [1 Marks]__"
   ]
  },
  {
   "cell_type": "code",
   "execution_count": 13,
   "id": "8a9958ba-9db7-4836-bb3b-da64ed712fd1",
   "metadata": {},
   "outputs": [
    {
     "name": "stdout",
     "output_type": "stream",
     "text": [
      "<class 'pandas.core.frame.DataFrame'>\n",
      "Int64Index: 676598 entries, 0 to 681283\n",
      "Data columns (total 7 columns):\n",
      " #   Column  Non-Null Count   Dtype \n",
      "---  ------  --------------   ----- \n",
      " 0   id      676598 non-null  int64 \n",
      " 1   gender  676598 non-null  object\n",
      " 2   age     676598 non-null  int64 \n",
      " 3   topic   676598 non-null  object\n",
      " 4   sign    676598 non-null  object\n",
      " 5   date    676598 non-null  object\n",
      " 6   text    676598 non-null  object\n",
      "dtypes: int64(2), object(5)\n",
      "memory usage: 41.3+ MB\n"
     ]
    }
   ],
   "source": [
    "dataset = dataset.drop_duplicates()\n",
    "dataset.info()"
   ]
  },
  {
   "cell_type": "markdown",
   "id": "9e26944b-06a5-41c5-910f-1f3a79c139b6",
   "metadata": {},
   "source": [
    "__ii. Eliminate Non-English textual data. [2 Marks]__"
   ]
  },
  {
   "cell_type": "code",
   "execution_count": 14,
   "id": "d553c261-ea36-474e-b622-66f43ee43cce",
   "metadata": {},
   "outputs": [
    {
     "name": "stderr",
     "output_type": "stream",
     "text": [
      "C:\\Users\\Sam\\AppData\\Local\\Temp\\ipykernel_16080\\84117258.py:1: FutureWarning: Support for multi-dimensional indexing (e.g. `obj[:, None]`) is deprecated and will be removed in a future version.  Convert to a numpy array before indexing instead.\n",
      "  dataset = dataset.drop(dataset[\"text\"].index[detect(str(dataset[\"text\"])) != \"en\"])\n"
     ]
    }
   ],
   "source": [
    "\n",
    "dataset = dataset.drop(dataset[\"text\"].index[detect(str(dataset[\"text\"])) != \"en\"])"
   ]
  },
  {
   "cell_type": "markdown",
   "id": "74f0efa8-5b31-4466-83c9-45c16e71e4fe",
   "metadata": {},
   "source": [
    "#### 2. Preprocess unstructured data to make it consumable for model training. [5 Marks]"
   ]
  },
  {
   "cell_type": "markdown",
   "id": "765c4388-fd1e-4223-a1c1-4d1a3bc7e28b",
   "metadata": {},
   "source": [
    "__A. Eliminate All special Characters and Numbers [2 Marks]__\n",
    "\n",
    "__B. Lowercase all textual data [1 Marks]__\n",
    "\n",
    "__C. Remove all Stopwords [1 Marks]__\n",
    "\n",
    "__D. Remove all extra white spaces [1 Marks]__"
   ]
  },
  {
   "cell_type": "code",
   "execution_count": 15,
   "id": "107a2556-08d0-428f-8d0b-c331ee2216bf",
   "metadata": {},
   "outputs": [],
   "source": [
    "\n",
    "\n",
    "def preprocess_input(text, trim_text = False, length = 500):\n",
    "    # Select only alphabets\n",
    "    text = re.sub('[^A-Za-z]+', ' ', text)\n",
    "\n",
    "    # Convert text to lowercase\n",
    "    text = text.lower()\n",
    "\n",
    "    # Strip unwanted spaces\n",
    "    text = text.strip()\n",
    "\n",
    "    # Remove stopwords\n",
    "    Stopwords = set(stopwords.words('english'))\n",
    "    text = ' '.join([word for word in text.split() if word not in Stopwords])\n",
    "    if trim_text:\n",
    "        text = text[ : length]\n",
    "    if len(text) < length:\n",
    "        text = text + (\"!\" * (length - len(text)))\n",
    "    return text\n"
   ]
  },
  {
   "cell_type": "code",
   "execution_count": 16,
   "id": "32eb1f80-cfaf-4b92-aeb8-ea5e6513c711",
   "metadata": {},
   "outputs": [],
   "source": [
    "length = 500"
   ]
  },
  {
   "cell_type": "code",
   "execution_count": 17,
   "id": "accf1626-46e6-40e0-ae80-a7953177a4a9",
   "metadata": {},
   "outputs": [],
   "source": [
    "dataset[\"text\"] = dataset[\"text\"].apply(lambda text : preprocess_input(text, trim_text = True, length = length))"
   ]
  },
  {
   "cell_type": "markdown",
   "id": "12d963cd-5ad6-4acc-9c39-451ae0ed3526",
   "metadata": {},
   "source": [
    "#### 3. Build a base Classification model [8 Marks]"
   ]
  },
  {
   "cell_type": "markdown",
   "id": "8f0fe7ac-a3c9-404b-8e5f-2b238761bc33",
   "metadata": {},
   "source": [
    "__A. Create dependent and independent variables [2 Marks]__"
   ]
  },
  {
   "cell_type": "code",
   "execution_count": 18,
   "id": "8d0f0285-5de5-4824-9b57-d21613b046ba",
   "metadata": {},
   "outputs": [],
   "source": [
    "dataset = dataset.drop([\"gender\", \"age\", \"sign\"], axis = 1)"
   ]
  },
  {
   "cell_type": "code",
   "execution_count": 19,
   "id": "93dafe3e-864d-4096-bf2f-3679292838bd",
   "metadata": {},
   "outputs": [],
   "source": [
    "dataset = dataset.drop([\"date\", \"id\"], axis = 1)"
   ]
  },
  {
   "cell_type": "code",
   "execution_count": 20,
   "id": "9fa4e4c2-2f46-4f96-87c2-735951dccdab",
   "metadata": {},
   "outputs": [
    {
     "data": {
      "text/html": [
       "<div>\n",
       "<style scoped>\n",
       "    .dataframe tbody tr th:only-of-type {\n",
       "        vertical-align: middle;\n",
       "    }\n",
       "\n",
       "    .dataframe tbody tr th {\n",
       "        vertical-align: top;\n",
       "    }\n",
       "\n",
       "    .dataframe thead th {\n",
       "        text-align: right;\n",
       "    }\n",
       "</style>\n",
       "<table border=\"1\" class=\"dataframe\">\n",
       "  <thead>\n",
       "    <tr style=\"text-align: right;\">\n",
       "      <th></th>\n",
       "      <th>labels</th>\n",
       "      <th>text</th>\n",
       "    </tr>\n",
       "  </thead>\n",
       "  <tbody>\n",
       "    <tr>\n",
       "      <th>0</th>\n",
       "      <td>Student</td>\n",
       "      <td>info found pages mb pdf files wait untill team...</td>\n",
       "    </tr>\n",
       "    <tr>\n",
       "      <th>1</th>\n",
       "      <td>Student</td>\n",
       "      <td>team members drewes van der laag urllink mail ...</td>\n",
       "    </tr>\n",
       "    <tr>\n",
       "      <th>2</th>\n",
       "      <td>Student</td>\n",
       "      <td>het kader van kernfusie op aarde maak je eigen...</td>\n",
       "    </tr>\n",
       "    <tr>\n",
       "      <th>3</th>\n",
       "      <td>Student</td>\n",
       "      <td>testing testing!!!!!!!!!!!!!!!!!!!!!!!!!!!!!!!...</td>\n",
       "    </tr>\n",
       "    <tr>\n",
       "      <th>4</th>\n",
       "      <td>InvestmentBanking</td>\n",
       "      <td>thanks yahoo toolbar capture urls popups means...</td>\n",
       "    </tr>\n",
       "    <tr>\n",
       "      <th>5</th>\n",
       "      <td>InvestmentBanking</td>\n",
       "      <td>interesting conversation dad morning talking k...</td>\n",
       "    </tr>\n",
       "    <tr>\n",
       "      <th>6</th>\n",
       "      <td>InvestmentBanking</td>\n",
       "      <td>somehow coca cola way summing things well earl...</td>\n",
       "    </tr>\n",
       "    <tr>\n",
       "      <th>7</th>\n",
       "      <td>InvestmentBanking</td>\n",
       "      <td>anything korea country extremes everything see...</td>\n",
       "    </tr>\n",
       "    <tr>\n",
       "      <th>8</th>\n",
       "      <td>InvestmentBanking</td>\n",
       "      <td>take read news article urllink joongang ilbo n...</td>\n",
       "    </tr>\n",
       "    <tr>\n",
       "      <th>9</th>\n",
       "      <td>InvestmentBanking</td>\n",
       "      <td>surf english news sites lot looking tidbits ko...</td>\n",
       "    </tr>\n",
       "    <tr>\n",
       "      <th>10</th>\n",
       "      <td>InvestmentBanking</td>\n",
       "      <td>ah korean language looks difficult first figur...</td>\n",
       "    </tr>\n",
       "    <tr>\n",
       "      <th>11</th>\n",
       "      <td>InvestmentBanking</td>\n",
       "      <td>click profile make startling discovery born ye...</td>\n",
       "    </tr>\n",
       "    <tr>\n",
       "      <th>12</th>\n",
       "      <td>InvestmentBanking</td>\n",
       "      <td>last night pretty fun mostly company kept rece...</td>\n",
       "    </tr>\n",
       "    <tr>\n",
       "      <th>13</th>\n",
       "      <td>InvestmentBanking</td>\n",
       "      <td>much different anything ever seen well travell...</td>\n",
       "    </tr>\n",
       "    <tr>\n",
       "      <th>14</th>\n",
       "      <td>InvestmentBanking</td>\n",
       "      <td>urllink superfantastic phonebox today great da...</td>\n",
       "    </tr>\n",
       "    <tr>\n",
       "      <th>15</th>\n",
       "      <td>InvestmentBanking</td>\n",
       "      <td>one thing love seoul mean korea general happen...</td>\n",
       "    </tr>\n",
       "    <tr>\n",
       "      <th>16</th>\n",
       "      <td>InvestmentBanking</td>\n",
       "      <td>urllink wonderful oh gyup sal favorite pork re...</td>\n",
       "    </tr>\n",
       "    <tr>\n",
       "      <th>17</th>\n",
       "      <td>InvestmentBanking</td>\n",
       "      <td>latest korean rumor mill made way coquitlam wi...</td>\n",
       "    </tr>\n",
       "    <tr>\n",
       "      <th>18</th>\n",
       "      <td>InvestmentBanking</td>\n",
       "      <td>well stand corrected yesterday blogged coquitl...</td>\n",
       "    </tr>\n",
       "    <tr>\n",
       "      <th>19</th>\n",
       "      <td>InvestmentBanking</td>\n",
       "      <td>vancouver days coquitlam actually really inter...</td>\n",
       "    </tr>\n",
       "  </tbody>\n",
       "</table>\n",
       "</div>"
      ],
      "text/plain": [
       "               labels                                               text\n",
       "0             Student  info found pages mb pdf files wait untill team...\n",
       "1             Student  team members drewes van der laag urllink mail ...\n",
       "2             Student  het kader van kernfusie op aarde maak je eigen...\n",
       "3             Student  testing testing!!!!!!!!!!!!!!!!!!!!!!!!!!!!!!!...\n",
       "4   InvestmentBanking  thanks yahoo toolbar capture urls popups means...\n",
       "5   InvestmentBanking  interesting conversation dad morning talking k...\n",
       "6   InvestmentBanking  somehow coca cola way summing things well earl...\n",
       "7   InvestmentBanking  anything korea country extremes everything see...\n",
       "8   InvestmentBanking  take read news article urllink joongang ilbo n...\n",
       "9   InvestmentBanking  surf english news sites lot looking tidbits ko...\n",
       "10  InvestmentBanking  ah korean language looks difficult first figur...\n",
       "11  InvestmentBanking  click profile make startling discovery born ye...\n",
       "12  InvestmentBanking  last night pretty fun mostly company kept rece...\n",
       "13  InvestmentBanking  much different anything ever seen well travell...\n",
       "14  InvestmentBanking  urllink superfantastic phonebox today great da...\n",
       "15  InvestmentBanking  one thing love seoul mean korea general happen...\n",
       "16  InvestmentBanking  urllink wonderful oh gyup sal favorite pork re...\n",
       "17  InvestmentBanking  latest korean rumor mill made way coquitlam wi...\n",
       "18  InvestmentBanking  well stand corrected yesterday blogged coquitl...\n",
       "19  InvestmentBanking  vancouver days coquitlam actually really inter..."
      ]
     },
     "execution_count": 20,
     "metadata": {},
     "output_type": "execute_result"
    }
   ],
   "source": [
    "dataset = dataset.rename(columns = {\"topic\" : \"labels\"})\n",
    "dataset.head(20)"
   ]
  },
  {
   "cell_type": "code",
   "execution_count": 21,
   "id": "bf5fb630-d1d8-44ec-8658-4c0ae2b0fea8",
   "metadata": {},
   "outputs": [
    {
     "data": {
      "text/plain": [
       "(676598, 2)"
      ]
     },
     "execution_count": 21,
     "metadata": {},
     "output_type": "execute_result"
    }
   ],
   "source": [
    "dataset.shape"
   ]
  },
  {
   "cell_type": "markdown",
   "id": "92e13ab0-a407-495c-ba26-b17119ec49f4",
   "metadata": {},
   "source": [
    "#### B. Split data into train and test. [1 Marks]"
   ]
  },
  {
   "cell_type": "code",
   "execution_count": 22,
   "id": "d7f1d9b0-0838-4cac-a348-8eaf5c717131",
   "metadata": {
    "tags": []
   },
   "outputs": [],
   "source": [
    "dataset.to_hdf(\"./preprocessed_data.hdf5\", \"preprocessed\")"
   ]
  },
  {
   "cell_type": "code",
   "execution_count": 23,
   "id": "c72e62a3-0dd8-4d54-a3ec-52fb4765c7fa",
   "metadata": {},
   "outputs": [],
   "source": [
    "dataset = pd.read_hdf(\"./preprocessed_data.hdf5\")"
   ]
  },
  {
   "cell_type": "code",
   "execution_count": 24,
   "id": "a2a714cd-2192-4ef3-8a66-148a660350fb",
   "metadata": {},
   "outputs": [
    {
     "data": {
      "text/html": [
       "<div>\n",
       "<style scoped>\n",
       "    .dataframe tbody tr th:only-of-type {\n",
       "        vertical-align: middle;\n",
       "    }\n",
       "\n",
       "    .dataframe tbody tr th {\n",
       "        vertical-align: top;\n",
       "    }\n",
       "\n",
       "    .dataframe thead th {\n",
       "        text-align: right;\n",
       "    }\n",
       "</style>\n",
       "<table border=\"1\" class=\"dataframe\">\n",
       "  <thead>\n",
       "    <tr style=\"text-align: right;\">\n",
       "      <th></th>\n",
       "      <th>labels</th>\n",
       "      <th>text</th>\n",
       "    </tr>\n",
       "  </thead>\n",
       "  <tbody>\n",
       "    <tr>\n",
       "      <th>0</th>\n",
       "      <td>Student</td>\n",
       "      <td>info found pages mb pdf files wait untill team...</td>\n",
       "    </tr>\n",
       "    <tr>\n",
       "      <th>1</th>\n",
       "      <td>Student</td>\n",
       "      <td>team members drewes van der laag urllink mail ...</td>\n",
       "    </tr>\n",
       "    <tr>\n",
       "      <th>2</th>\n",
       "      <td>Student</td>\n",
       "      <td>het kader van kernfusie op aarde maak je eigen...</td>\n",
       "    </tr>\n",
       "    <tr>\n",
       "      <th>3</th>\n",
       "      <td>Student</td>\n",
       "      <td>testing testing!!!!!!!!!!!!!!!!!!!!!!!!!!!!!!!...</td>\n",
       "    </tr>\n",
       "    <tr>\n",
       "      <th>4</th>\n",
       "      <td>InvestmentBanking</td>\n",
       "      <td>thanks yahoo toolbar capture urls popups means...</td>\n",
       "    </tr>\n",
       "    <tr>\n",
       "      <th>...</th>\n",
       "      <td>...</td>\n",
       "      <td>...</td>\n",
       "    </tr>\n",
       "    <tr>\n",
       "      <th>681279</th>\n",
       "      <td>Student</td>\n",
       "      <td>dear susan could write really bitter diatribe ...</td>\n",
       "    </tr>\n",
       "    <tr>\n",
       "      <th>681280</th>\n",
       "      <td>Student</td>\n",
       "      <td>dear susan second yeast infection past two mon...</td>\n",
       "    </tr>\n",
       "    <tr>\n",
       "      <th>681281</th>\n",
       "      <td>Student</td>\n",
       "      <td>dear susan boyfriend fucking bald good luck!!!...</td>\n",
       "    </tr>\n",
       "    <tr>\n",
       "      <th>681282</th>\n",
       "      <td>Student</td>\n",
       "      <td>dear susan clarify asking leave house shit pis...</td>\n",
       "    </tr>\n",
       "    <tr>\n",
       "      <th>681283</th>\n",
       "      <td>Student</td>\n",
       "      <td>hey everybody susan might already know name we...</td>\n",
       "    </tr>\n",
       "  </tbody>\n",
       "</table>\n",
       "<p>676598 rows × 2 columns</p>\n",
       "</div>"
      ],
      "text/plain": [
       "                   labels                                               text\n",
       "0                 Student  info found pages mb pdf files wait untill team...\n",
       "1                 Student  team members drewes van der laag urllink mail ...\n",
       "2                 Student  het kader van kernfusie op aarde maak je eigen...\n",
       "3                 Student  testing testing!!!!!!!!!!!!!!!!!!!!!!!!!!!!!!!...\n",
       "4       InvestmentBanking  thanks yahoo toolbar capture urls popups means...\n",
       "...                   ...                                                ...\n",
       "681279            Student  dear susan could write really bitter diatribe ...\n",
       "681280            Student  dear susan second yeast infection past two mon...\n",
       "681281            Student  dear susan boyfriend fucking bald good luck!!!...\n",
       "681282            Student  dear susan clarify asking leave house shit pis...\n",
       "681283            Student  hey everybody susan might already know name we...\n",
       "\n",
       "[676598 rows x 2 columns]"
      ]
     },
     "execution_count": 24,
     "metadata": {},
     "output_type": "execute_result"
    }
   ],
   "source": [
    "dataset"
   ]
  },
  {
   "cell_type": "code",
   "execution_count": 25,
   "id": "98c8d519-4766-4ec0-87d0-2a0d2db74bb2",
   "metadata": {},
   "outputs": [],
   "source": [
    "X_train, X_test, y_train, y_test = train_test_split(dataset.text.values, \n",
    "                                                    dataset.labels.values, \n",
    "                                                    test_size = 0.20, \n",
    "                                                    #stratify = True,\n",
    "                                                    random_state = 42\n",
    "                                                   )"
   ]
  },
  {
   "cell_type": "code",
   "execution_count": 26,
   "id": "41de87fe-53e5-4397-b606-cc81eafd54b9",
   "metadata": {},
   "outputs": [
    {
     "data": {
      "text/plain": [
       "{'Student': 153080,\n",
       " 'InvestmentBanking': 1286,\n",
       " 'indUnk': 248738,\n",
       " 'Non-Profit': 14618,\n",
       " 'Banking': 4033,\n",
       " 'Education': 29572,\n",
       " 'Engineering': 11561,\n",
       " 'Science': 7207,\n",
       " 'Communications-Media': 20038,\n",
       " 'BusinessServices': 4476,\n",
       " 'Sports-Recreation': 3029,\n",
       " 'Arts': 32305,\n",
       " 'Internet': 15884,\n",
       " 'Museums-Libraries': 3095,\n",
       " 'Accounting': 3703,\n",
       " 'Technology': 41913,\n",
       " 'Law': 9022,\n",
       " 'Consulting': 5823,\n",
       " 'Automotive': 1242,\n",
       " 'Religion': 5188,\n",
       " 'Fashion': 4824,\n",
       " 'Publishing': 7710,\n",
       " 'Marketing': 4757,\n",
       " 'LawEnforcement-Security': 1875,\n",
       " 'HumanResources': 3003,\n",
       " 'Telecommunications': 3842,\n",
       " 'Military': 3093,\n",
       " 'Government': 6866,\n",
       " 'Transportation': 2185,\n",
       " 'Architecture': 1611,\n",
       " 'Advertising': 4663,\n",
       " 'Agriculture': 1234,\n",
       " 'Biotech': 2229,\n",
       " 'RealEstate': 2867,\n",
       " 'Manufacturing': 2231,\n",
       " 'Construction': 1075,\n",
       " 'Chemicals': 3919,\n",
       " 'Maritime': 277,\n",
       " 'Tourism': 1936,\n",
       " 'Environment': 588}"
      ]
     },
     "execution_count": 26,
     "metadata": {},
     "output_type": "execute_result"
    }
   ],
   "source": [
    "label_counts = dict()\n",
    "\n",
    "for label in dataset[\"labels\"]:\n",
    "    if label in label_counts:\n",
    "        label_counts[label] += 1\n",
    "    else:\n",
    "        label_counts[label] = 1\n",
    "        \n",
    "label_counts"
   ]
  },
  {
   "cell_type": "code",
   "execution_count": 27,
   "id": "7972101e-8c78-4d52-970c-43ec97e259ec",
   "metadata": {},
   "outputs": [
    {
     "data": {
      "text/plain": [
       "((541278, 40), (135320, 40))"
      ]
     },
     "execution_count": 27,
     "metadata": {},
     "output_type": "execute_result"
    }
   ],
   "source": [
    "ohe = OneHotEncoder(sparse = False)\n",
    "\n",
    "\n",
    "train_labels = ohe.fit_transform(y_train.reshape(-1,1))\n",
    "test_labels = ohe.transform(y_test.reshape(-1,1))\n",
    "\n",
    "\n",
    "train_labels.shape, test_labels.shape"
   ]
  },
  {
   "cell_type": "code",
   "execution_count": 28,
   "id": "933b9815-7a34-433f-82ae-f64cf98f5821",
   "metadata": {},
   "outputs": [
    {
     "data": {
      "text/plain": [
       "((541278,), (135320,), (541278,), (135320,))"
      ]
     },
     "execution_count": 28,
     "metadata": {},
     "output_type": "execute_result"
    }
   ],
   "source": [
    "X_train.shape, X_test.shape, y_train.shape, y_test.shape"
   ]
  },
  {
   "cell_type": "markdown",
   "id": "6ff0fc6e-4d15-47a9-954a-08f3aad1740d",
   "metadata": {},
   "source": [
    "with h5py.File(\"./train_data.hdf5\", \"w\") as f:\n",
    "    train_data = f.create_dataset(\"train_data\", (X_train.shape[0], 500, 25), \"float16\")\n",
    "\n",
    "with h5py.File(\"./test_data.hdf5\", \"w\") as f:\n",
    "    test_data = f.create_dataset(\"test_data\", (X_test.shape[0], 500, 25), \"float16\")\n"
   ]
  },
  {
   "cell_type": "code",
   "execution_count": 29,
   "id": "3cad5193-1da4-452f-a1e0-73222ff402f7",
   "metadata": {},
   "outputs": [
    {
     "data": {
      "text/plain": [
       "114"
      ]
     },
     "execution_count": 29,
     "metadata": {},
     "output_type": "execute_result"
    }
   ],
   "source": [
    "import gc\n",
    "del dataset\n",
    "gc.collect()"
   ]
  },
  {
   "cell_type": "markdown",
   "id": "c2e92733-948b-471e-8c00-d80145bb9c3e",
   "metadata": {},
   "source": [
    "#### C. Vectorize data using any one vectorizer. [2 Marks]"
   ]
  },
  {
   "cell_type": "code",
   "execution_count": 30,
   "id": "66a2c89a-6d90-43b9-b4c7-1b58da7b078c",
   "metadata": {},
   "outputs": [],
   "source": [
    "\n",
    "\n",
    "embeddings_dict = {}\n",
    "with open(\"glove.twitter.27B.25d.txt\", 'r', encoding=\"utf-8\") as f:\n",
    "    for line in f:\n",
    "        values = line.split()\n",
    "        word = values[0]\n",
    "        vector = np.asarray(values[1:], \"float16\")\n",
    "        embeddings_dict[word] = vector\n"
   ]
  },
  {
   "cell_type": "code",
   "execution_count": 31,
   "id": "3cbf3028-d57e-4f8f-b7b7-8049cdf6c13f",
   "metadata": {
    "jupyter": {
     "outputs_hidden": true
    },
    "tags": []
   },
   "outputs": [
    {
     "name": "stdout",
     "output_type": "stream",
     "text": [
      "reached at record 0\n",
      "reached at record 1000\n",
      "reached at record 2000\n",
      "reached at record 3000\n",
      "reached at record 4000\n",
      "reached at record 5000\n",
      "reached at record 6000\n",
      "reached at record 7000\n",
      "reached at record 8000\n",
      "reached at record 9000\n",
      "reached at record 10000\n",
      "reached at record 11000\n",
      "reached at record 12000\n",
      "reached at record 13000\n",
      "reached at record 14000\n",
      "reached at record 15000\n",
      "reached at record 16000\n",
      "reached at record 17000\n",
      "reached at record 18000\n",
      "reached at record 19000\n",
      "reached at record 20000\n",
      "reached at record 21000\n",
      "reached at record 22000\n",
      "reached at record 23000\n",
      "reached at record 24000\n",
      "reached at record 25000\n",
      "reached at record 26000\n",
      "reached at record 27000\n",
      "reached at record 28000\n",
      "reached at record 29000\n",
      "reached at record 30000\n",
      "reached at record 31000\n",
      "reached at record 32000\n",
      "reached at record 33000\n",
      "reached at record 34000\n",
      "reached at record 35000\n",
      "reached at record 36000\n",
      "reached at record 37000\n",
      "reached at record 38000\n",
      "reached at record 39000\n",
      "reached at record 40000\n",
      "reached at record 41000\n",
      "reached at record 42000\n",
      "reached at record 43000\n",
      "reached at record 44000\n",
      "reached at record 45000\n",
      "reached at record 46000\n",
      "reached at record 47000\n",
      "reached at record 48000\n",
      "reached at record 49000\n",
      "reached at record 50000\n",
      "reached at record 51000\n",
      "reached at record 52000\n",
      "reached at record 53000\n",
      "reached at record 54000\n",
      "reached at record 55000\n",
      "reached at record 56000\n",
      "reached at record 57000\n",
      "reached at record 58000\n",
      "reached at record 59000\n",
      "reached at record 60000\n",
      "reached at record 61000\n",
      "reached at record 62000\n",
      "reached at record 63000\n",
      "reached at record 64000\n",
      "reached at record 65000\n",
      "reached at record 66000\n",
      "reached at record 67000\n",
      "reached at record 68000\n",
      "reached at record 69000\n",
      "reached at record 70000\n",
      "reached at record 71000\n",
      "reached at record 72000\n",
      "reached at record 73000\n",
      "reached at record 74000\n",
      "reached at record 75000\n",
      "reached at record 76000\n",
      "reached at record 77000\n",
      "reached at record 78000\n",
      "reached at record 79000\n",
      "reached at record 80000\n",
      "reached at record 81000\n",
      "reached at record 82000\n",
      "reached at record 83000\n",
      "reached at record 84000\n",
      "reached at record 85000\n",
      "reached at record 86000\n",
      "reached at record 87000\n",
      "reached at record 88000\n",
      "reached at record 89000\n",
      "reached at record 90000\n",
      "reached at record 91000\n",
      "reached at record 92000\n",
      "reached at record 93000\n",
      "reached at record 94000\n",
      "reached at record 95000\n",
      "reached at record 96000\n",
      "reached at record 97000\n",
      "reached at record 98000\n",
      "reached at record 99000\n",
      "reached at record 100000\n",
      "reached at record 101000\n",
      "reached at record 102000\n",
      "reached at record 103000\n",
      "reached at record 104000\n",
      "reached at record 105000\n",
      "reached at record 106000\n",
      "reached at record 107000\n",
      "reached at record 108000\n",
      "reached at record 109000\n",
      "reached at record 110000\n",
      "reached at record 111000\n",
      "reached at record 112000\n",
      "reached at record 113000\n",
      "reached at record 114000\n",
      "reached at record 115000\n",
      "reached at record 116000\n",
      "reached at record 117000\n",
      "reached at record 118000\n",
      "reached at record 119000\n",
      "reached at record 120000\n",
      "reached at record 121000\n",
      "reached at record 122000\n",
      "reached at record 123000\n",
      "reached at record 124000\n",
      "reached at record 125000\n",
      "reached at record 126000\n",
      "reached at record 127000\n",
      "reached at record 128000\n",
      "reached at record 129000\n",
      "reached at record 130000\n",
      "reached at record 131000\n",
      "reached at record 132000\n",
      "reached at record 133000\n",
      "reached at record 134000\n",
      "reached at record 135000\n",
      "reached at record 136000\n",
      "reached at record 137000\n",
      "reached at record 138000\n",
      "reached at record 139000\n",
      "reached at record 140000\n",
      "reached at record 141000\n",
      "reached at record 142000\n",
      "reached at record 143000\n",
      "reached at record 144000\n",
      "reached at record 145000\n",
      "reached at record 146000\n",
      "reached at record 147000\n",
      "reached at record 148000\n",
      "reached at record 149000\n",
      "reached at record 150000\n",
      "reached at record 151000\n",
      "reached at record 152000\n",
      "reached at record 153000\n",
      "reached at record 154000\n",
      "reached at record 155000\n",
      "reached at record 156000\n",
      "reached at record 157000\n",
      "reached at record 158000\n",
      "reached at record 159000\n",
      "reached at record 160000\n",
      "reached at record 161000\n",
      "reached at record 162000\n",
      "reached at record 163000\n",
      "reached at record 164000\n",
      "reached at record 165000\n",
      "reached at record 166000\n",
      "reached at record 167000\n",
      "reached at record 168000\n",
      "reached at record 169000\n",
      "reached at record 170000\n",
      "reached at record 171000\n",
      "reached at record 172000\n",
      "reached at record 173000\n",
      "reached at record 174000\n",
      "reached at record 175000\n",
      "reached at record 176000\n",
      "reached at record 177000\n",
      "reached at record 178000\n",
      "reached at record 179000\n",
      "reached at record 180000\n",
      "reached at record 181000\n",
      "reached at record 182000\n",
      "reached at record 183000\n",
      "reached at record 184000\n",
      "reached at record 185000\n",
      "reached at record 186000\n",
      "reached at record 187000\n",
      "reached at record 188000\n",
      "reached at record 189000\n",
      "reached at record 190000\n",
      "reached at record 191000\n",
      "reached at record 192000\n",
      "reached at record 193000\n",
      "reached at record 194000\n",
      "reached at record 195000\n",
      "reached at record 196000\n",
      "reached at record 197000\n",
      "reached at record 198000\n",
      "reached at record 199000\n",
      "reached at record 200000\n",
      "reached at record 201000\n",
      "reached at record 202000\n",
      "reached at record 203000\n",
      "reached at record 204000\n",
      "reached at record 205000\n",
      "reached at record 206000\n",
      "reached at record 207000\n",
      "reached at record 208000\n",
      "reached at record 209000\n",
      "reached at record 210000\n",
      "reached at record 211000\n",
      "reached at record 212000\n",
      "reached at record 213000\n",
      "reached at record 214000\n",
      "reached at record 215000\n",
      "reached at record 216000\n",
      "reached at record 217000\n",
      "reached at record 218000\n",
      "reached at record 219000\n",
      "reached at record 220000\n",
      "reached at record 221000\n",
      "reached at record 222000\n",
      "reached at record 223000\n",
      "reached at record 224000\n",
      "reached at record 225000\n",
      "reached at record 226000\n",
      "reached at record 227000\n",
      "reached at record 228000\n",
      "reached at record 229000\n",
      "reached at record 230000\n",
      "reached at record 231000\n",
      "reached at record 232000\n",
      "reached at record 233000\n",
      "reached at record 234000\n",
      "reached at record 235000\n",
      "reached at record 236000\n",
      "reached at record 237000\n",
      "reached at record 238000\n",
      "reached at record 239000\n",
      "reached at record 240000\n",
      "reached at record 241000\n",
      "reached at record 242000\n",
      "reached at record 243000\n",
      "reached at record 244000\n",
      "reached at record 245000\n",
      "reached at record 246000\n",
      "reached at record 247000\n",
      "reached at record 248000\n",
      "reached at record 249000\n",
      "reached at record 250000\n",
      "reached at record 251000\n",
      "reached at record 252000\n",
      "reached at record 253000\n",
      "reached at record 254000\n",
      "reached at record 255000\n",
      "reached at record 256000\n",
      "reached at record 257000\n",
      "reached at record 258000\n",
      "reached at record 259000\n",
      "reached at record 260000\n",
      "reached at record 261000\n",
      "reached at record 262000\n",
      "reached at record 263000\n",
      "reached at record 264000\n",
      "reached at record 265000\n",
      "reached at record 266000\n",
      "reached at record 267000\n",
      "reached at record 268000\n",
      "reached at record 269000\n",
      "reached at record 270000\n",
      "reached at record 271000\n",
      "reached at record 272000\n",
      "reached at record 273000\n",
      "reached at record 274000\n",
      "reached at record 275000\n",
      "reached at record 276000\n",
      "reached at record 277000\n",
      "reached at record 278000\n",
      "reached at record 279000\n",
      "reached at record 280000\n",
      "reached at record 281000\n",
      "reached at record 282000\n",
      "reached at record 283000\n",
      "reached at record 284000\n",
      "reached at record 285000\n",
      "reached at record 286000\n",
      "reached at record 287000\n",
      "reached at record 288000\n",
      "reached at record 289000\n",
      "reached at record 290000\n",
      "reached at record 291000\n",
      "reached at record 292000\n",
      "reached at record 293000\n",
      "reached at record 294000\n",
      "reached at record 295000\n",
      "reached at record 296000\n",
      "reached at record 297000\n",
      "reached at record 298000\n",
      "reached at record 299000\n",
      "reached at record 300000\n",
      "reached at record 301000\n",
      "reached at record 302000\n",
      "reached at record 303000\n",
      "reached at record 304000\n",
      "reached at record 305000\n",
      "reached at record 306000\n",
      "reached at record 307000\n",
      "reached at record 308000\n",
      "reached at record 309000\n",
      "reached at record 310000\n",
      "reached at record 311000\n",
      "reached at record 312000\n",
      "reached at record 313000\n",
      "reached at record 314000\n",
      "reached at record 315000\n",
      "reached at record 316000\n",
      "reached at record 317000\n",
      "reached at record 318000\n",
      "reached at record 319000\n",
      "reached at record 320000\n",
      "reached at record 321000\n",
      "reached at record 322000\n",
      "reached at record 323000\n",
      "reached at record 324000\n",
      "reached at record 325000\n",
      "reached at record 326000\n",
      "reached at record 327000\n",
      "reached at record 328000\n",
      "reached at record 329000\n",
      "reached at record 330000\n",
      "reached at record 331000\n",
      "reached at record 332000\n",
      "reached at record 333000\n",
      "reached at record 334000\n",
      "reached at record 335000\n",
      "reached at record 336000\n",
      "reached at record 337000\n",
      "reached at record 338000\n",
      "reached at record 339000\n",
      "reached at record 340000\n",
      "reached at record 341000\n",
      "reached at record 342000\n",
      "reached at record 343000\n",
      "reached at record 344000\n",
      "reached at record 345000\n",
      "reached at record 346000\n",
      "reached at record 347000\n",
      "reached at record 348000\n",
      "reached at record 349000\n",
      "reached at record 350000\n",
      "reached at record 351000\n",
      "reached at record 352000\n",
      "reached at record 353000\n",
      "reached at record 354000\n",
      "reached at record 355000\n",
      "reached at record 356000\n",
      "reached at record 357000\n",
      "reached at record 358000\n",
      "reached at record 359000\n",
      "reached at record 360000\n",
      "reached at record 361000\n",
      "reached at record 362000\n",
      "reached at record 363000\n",
      "reached at record 364000\n",
      "reached at record 365000\n",
      "reached at record 366000\n",
      "reached at record 367000\n",
      "reached at record 368000\n",
      "reached at record 369000\n",
      "reached at record 370000\n",
      "reached at record 371000\n",
      "reached at record 372000\n",
      "reached at record 373000\n",
      "reached at record 374000\n",
      "reached at record 375000\n",
      "reached at record 376000\n",
      "reached at record 377000\n",
      "reached at record 378000\n",
      "reached at record 379000\n",
      "reached at record 380000\n",
      "reached at record 381000\n",
      "reached at record 382000\n",
      "reached at record 383000\n",
      "reached at record 384000\n",
      "reached at record 385000\n",
      "reached at record 386000\n",
      "reached at record 387000\n",
      "reached at record 388000\n",
      "reached at record 389000\n",
      "reached at record 390000\n",
      "reached at record 391000\n",
      "reached at record 392000\n",
      "reached at record 393000\n",
      "reached at record 394000\n",
      "reached at record 395000\n",
      "reached at record 396000\n",
      "reached at record 397000\n",
      "reached at record 398000\n",
      "reached at record 399000\n",
      "reached at record 400000\n",
      "reached at record 401000\n",
      "reached at record 402000\n",
      "reached at record 403000\n",
      "reached at record 404000\n",
      "reached at record 405000\n",
      "reached at record 406000\n",
      "reached at record 407000\n",
      "reached at record 408000\n",
      "reached at record 409000\n",
      "reached at record 410000\n",
      "reached at record 411000\n",
      "reached at record 412000\n",
      "reached at record 413000\n",
      "reached at record 414000\n",
      "reached at record 415000\n",
      "reached at record 416000\n",
      "reached at record 417000\n",
      "reached at record 418000\n",
      "reached at record 419000\n",
      "reached at record 420000\n",
      "reached at record 421000\n",
      "reached at record 422000\n",
      "reached at record 423000\n",
      "reached at record 424000\n",
      "reached at record 425000\n",
      "reached at record 426000\n",
      "reached at record 427000\n",
      "reached at record 428000\n",
      "reached at record 429000\n",
      "reached at record 430000\n",
      "reached at record 431000\n",
      "reached at record 432000\n",
      "reached at record 433000\n",
      "reached at record 434000\n",
      "reached at record 435000\n",
      "reached at record 436000\n",
      "reached at record 437000\n",
      "reached at record 438000\n",
      "reached at record 439000\n",
      "reached at record 440000\n",
      "reached at record 441000\n",
      "reached at record 442000\n",
      "reached at record 443000\n",
      "reached at record 444000\n",
      "reached at record 445000\n",
      "reached at record 446000\n",
      "reached at record 447000\n",
      "reached at record 448000\n",
      "reached at record 449000\n",
      "reached at record 450000\n",
      "reached at record 451000\n",
      "reached at record 452000\n",
      "reached at record 453000\n",
      "reached at record 454000\n",
      "reached at record 455000\n",
      "reached at record 456000\n",
      "reached at record 457000\n",
      "reached at record 458000\n",
      "reached at record 459000\n",
      "reached at record 460000\n",
      "reached at record 461000\n",
      "reached at record 462000\n",
      "reached at record 463000\n",
      "reached at record 464000\n",
      "reached at record 465000\n",
      "reached at record 466000\n",
      "reached at record 467000\n",
      "reached at record 468000\n",
      "reached at record 469000\n",
      "reached at record 470000\n",
      "reached at record 471000\n",
      "reached at record 472000\n",
      "reached at record 473000\n",
      "reached at record 474000\n",
      "reached at record 475000\n",
      "reached at record 476000\n",
      "reached at record 477000\n",
      "reached at record 478000\n",
      "reached at record 479000\n",
      "reached at record 480000\n",
      "reached at record 481000\n",
      "reached at record 482000\n",
      "reached at record 483000\n",
      "reached at record 484000\n",
      "reached at record 485000\n",
      "reached at record 486000\n",
      "reached at record 487000\n",
      "reached at record 488000\n",
      "reached at record 489000\n",
      "reached at record 490000\n",
      "reached at record 491000\n",
      "reached at record 492000\n",
      "reached at record 493000\n",
      "reached at record 494000\n",
      "reached at record 495000\n",
      "reached at record 496000\n",
      "reached at record 497000\n",
      "reached at record 498000\n",
      "reached at record 499000\n",
      "reached at record 500000\n",
      "reached at record 501000\n",
      "reached at record 502000\n",
      "reached at record 503000\n",
      "reached at record 504000\n",
      "reached at record 505000\n",
      "reached at record 506000\n",
      "reached at record 507000\n",
      "reached at record 508000\n",
      "reached at record 509000\n",
      "reached at record 510000\n",
      "reached at record 511000\n",
      "reached at record 512000\n",
      "reached at record 513000\n",
      "reached at record 514000\n",
      "reached at record 515000\n",
      "reached at record 516000\n",
      "reached at record 517000\n",
      "reached at record 518000\n",
      "reached at record 519000\n",
      "reached at record 520000\n",
      "reached at record 521000\n",
      "reached at record 522000\n",
      "reached at record 523000\n",
      "reached at record 524000\n",
      "reached at record 525000\n",
      "reached at record 526000\n",
      "reached at record 527000\n",
      "reached at record 528000\n",
      "reached at record 529000\n",
      "reached at record 530000\n",
      "reached at record 531000\n",
      "reached at record 532000\n",
      "reached at record 533000\n",
      "reached at record 534000\n",
      "reached at record 535000\n",
      "reached at record 536000\n",
      "reached at record 537000\n",
      "reached at record 538000\n",
      "reached at record 539000\n",
      "reached at record 540000\n",
      "reached at record 541000\n",
      "reached at record 0\n",
      "reached at record 1000\n",
      "reached at record 2000\n",
      "reached at record 3000\n",
      "reached at record 4000\n",
      "reached at record 5000\n",
      "reached at record 6000\n",
      "reached at record 7000\n",
      "reached at record 8000\n",
      "reached at record 9000\n",
      "reached at record 10000\n",
      "reached at record 11000\n",
      "reached at record 12000\n",
      "reached at record 13000\n",
      "reached at record 14000\n",
      "reached at record 15000\n",
      "reached at record 16000\n",
      "reached at record 17000\n",
      "reached at record 18000\n",
      "reached at record 19000\n",
      "reached at record 20000\n",
      "reached at record 21000\n",
      "reached at record 22000\n",
      "reached at record 23000\n",
      "reached at record 24000\n",
      "reached at record 25000\n",
      "reached at record 26000\n",
      "reached at record 27000\n",
      "reached at record 28000\n",
      "reached at record 29000\n",
      "reached at record 30000\n",
      "reached at record 31000\n",
      "reached at record 32000\n",
      "reached at record 33000\n",
      "reached at record 34000\n",
      "reached at record 35000\n",
      "reached at record 36000\n",
      "reached at record 37000\n",
      "reached at record 38000\n",
      "reached at record 39000\n",
      "reached at record 40000\n",
      "reached at record 41000\n",
      "reached at record 42000\n",
      "reached at record 43000\n",
      "reached at record 44000\n",
      "reached at record 45000\n",
      "reached at record 46000\n",
      "reached at record 47000\n",
      "reached at record 48000\n",
      "reached at record 49000\n",
      "reached at record 50000\n",
      "reached at record 51000\n",
      "reached at record 52000\n",
      "reached at record 53000\n",
      "reached at record 54000\n",
      "reached at record 55000\n",
      "reached at record 56000\n",
      "reached at record 57000\n",
      "reached at record 58000\n",
      "reached at record 59000\n",
      "reached at record 60000\n",
      "reached at record 61000\n",
      "reached at record 62000\n",
      "reached at record 63000\n",
      "reached at record 64000\n",
      "reached at record 65000\n",
      "reached at record 66000\n",
      "reached at record 67000\n",
      "reached at record 68000\n",
      "reached at record 69000\n",
      "reached at record 70000\n",
      "reached at record 71000\n",
      "reached at record 72000\n",
      "reached at record 73000\n",
      "reached at record 74000\n",
      "reached at record 75000\n",
      "reached at record 76000\n",
      "reached at record 77000\n",
      "reached at record 78000\n",
      "reached at record 79000\n",
      "reached at record 80000\n",
      "reached at record 81000\n",
      "reached at record 82000\n",
      "reached at record 83000\n",
      "reached at record 84000\n",
      "reached at record 85000\n",
      "reached at record 86000\n",
      "reached at record 87000\n",
      "reached at record 88000\n",
      "reached at record 89000\n",
      "reached at record 90000\n",
      "reached at record 91000\n",
      "reached at record 92000\n",
      "reached at record 93000\n",
      "reached at record 94000\n",
      "reached at record 95000\n",
      "reached at record 96000\n",
      "reached at record 97000\n",
      "reached at record 98000\n",
      "reached at record 99000\n",
      "reached at record 100000\n",
      "reached at record 101000\n",
      "reached at record 102000\n",
      "reached at record 103000\n",
      "reached at record 104000\n",
      "reached at record 105000\n",
      "reached at record 106000\n",
      "reached at record 107000\n",
      "reached at record 108000\n",
      "reached at record 109000\n",
      "reached at record 110000\n",
      "reached at record 111000\n",
      "reached at record 112000\n",
      "reached at record 113000\n",
      "reached at record 114000\n",
      "reached at record 115000\n",
      "reached at record 116000\n",
      "reached at record 117000\n",
      "reached at record 118000\n",
      "reached at record 119000\n",
      "reached at record 120000\n",
      "reached at record 121000\n",
      "reached at record 122000\n",
      "reached at record 123000\n",
      "reached at record 124000\n",
      "reached at record 125000\n",
      "reached at record 126000\n",
      "reached at record 127000\n",
      "reached at record 128000\n",
      "reached at record 129000\n",
      "reached at record 130000\n",
      "reached at record 131000\n",
      "reached at record 132000\n",
      "reached at record 133000\n",
      "reached at record 134000\n",
      "reached at record 135000\n"
     ]
    }
   ],
   "source": [
    "with h5py.File(\"./train_data.hdf5\", \"w\") as f:\n",
    "    train_data = f.create_dataset(\"train_data\", (X_train.shape[0], 500, 25), \"float16\", **{\"chunks\" : ( 2048, 500, 25)})\n",
    "    for index, data in enumerate(X_train):\n",
    "        for index_2, word in enumerate(data):\n",
    "            if word == \"!\":\n",
    "                vec = np.zeros(shape =(25,))\n",
    "            else :\n",
    "                vec = embeddings_dict.get(word, np.zeros(shape = (25,)))\n",
    "            train_data[index, index_2] = vec\n",
    "        if index % 1000 == 0:\n",
    "            print(f\"reached at record {index}\")\n",
    "        if index % 10_000 == 0:\n",
    "            gc.collect()\n",
    "\n",
    "gc.collect()\n",
    "\n",
    "with h5py.File(\"./test_data.hdf5\", \"w\") as f:\n",
    "    test_data = f.create_dataset(\"test_data\", (X_test.shape[0], 500, 25), \"float16\", **{\"chunks\" : ( 2048, 500, 25)})\n",
    "    for index, data in enumerate(X_test):\n",
    "        for index_2, word in enumerate(data):\n",
    "            if word == \"!\":\n",
    "                vec = np.zeros(shape =(25,))\n",
    "            else :\n",
    "                vec = embeddings_dict.get(word, np.zeros(shape = (25,)))\n",
    "            test_data[index, index_2] = vec\n",
    "        if index % 1000 == 0:\n",
    "            print(f\"reached at record {index}\")\n",
    "        if index % 10_000 == 0:\n",
    "            gc.collect()"
   ]
  },
  {
   "cell_type": "code",
   "execution_count": 32,
   "id": "e68343be",
   "metadata": {},
   "outputs": [],
   "source": [
    "with h5py.File(\"./train_labels.hdf5\", \"w\") as f:\n",
    "    train_labels_ = f.require_dataset(\"train_labels\", shape = (train_labels.shape), dtype = \"int\", data = train_labels)\n",
    "\n",
    "with h5py.File(\"./test_labels.hdf5\", \"w\") as f:\n",
    "    test_labels_ = f.require_dataset(\"test_labels\", shape = (test_labels.shape), dtype = \"int\", data = test_labels) \n"
   ]
  },
  {
   "cell_type": "code",
   "execution_count": 33,
   "id": "24234021",
   "metadata": {
    "jupyter": {
     "outputs_hidden": true
    },
    "tags": []
   },
   "outputs": [
    {
     "name": "stdout",
     "output_type": "stream",
     "text": [
      "reached at record 0\n",
      "reached at record 1000\n",
      "reached at record 2000\n",
      "reached at record 3000\n",
      "reached at record 4000\n",
      "reached at record 5000\n",
      "reached at record 6000\n",
      "reached at record 7000\n",
      "reached at record 8000\n",
      "reached at record 9000\n",
      "reached at record 10000\n",
      "reached at record 11000\n",
      "reached at record 12000\n",
      "reached at record 13000\n",
      "reached at record 14000\n",
      "reached at record 15000\n",
      "reached at record 16000\n",
      "reached at record 17000\n",
      "reached at record 18000\n",
      "reached at record 19000\n",
      "reached at record 20000\n",
      "reached at record 21000\n",
      "reached at record 22000\n",
      "reached at record 23000\n",
      "reached at record 24000\n",
      "reached at record 25000\n",
      "reached at record 26000\n",
      "reached at record 27000\n",
      "reached at record 28000\n",
      "reached at record 29000\n",
      "reached at record 30000\n",
      "reached at record 31000\n",
      "reached at record 32000\n",
      "reached at record 33000\n",
      "reached at record 34000\n",
      "reached at record 35000\n",
      "reached at record 36000\n",
      "reached at record 37000\n",
      "reached at record 38000\n",
      "reached at record 39000\n",
      "reached at record 40000\n",
      "reached at record 41000\n",
      "reached at record 42000\n",
      "reached at record 43000\n",
      "reached at record 44000\n",
      "reached at record 45000\n",
      "reached at record 46000\n",
      "reached at record 47000\n",
      "reached at record 48000\n",
      "reached at record 49000\n",
      "reached at record 50000\n",
      "reached at record 51000\n",
      "reached at record 52000\n",
      "reached at record 53000\n",
      "reached at record 54000\n",
      "reached at record 55000\n",
      "reached at record 56000\n",
      "reached at record 57000\n",
      "reached at record 58000\n",
      "reached at record 59000\n",
      "reached at record 60000\n",
      "reached at record 61000\n",
      "reached at record 62000\n",
      "reached at record 63000\n",
      "reached at record 64000\n",
      "reached at record 65000\n",
      "reached at record 66000\n",
      "reached at record 67000\n",
      "reached at record 68000\n",
      "reached at record 69000\n",
      "reached at record 70000\n",
      "reached at record 71000\n",
      "reached at record 72000\n",
      "reached at record 73000\n",
      "reached at record 74000\n",
      "reached at record 75000\n",
      "reached at record 76000\n",
      "reached at record 77000\n",
      "reached at record 78000\n",
      "reached at record 79000\n",
      "reached at record 80000\n",
      "reached at record 81000\n",
      "reached at record 82000\n",
      "reached at record 83000\n",
      "reached at record 84000\n",
      "reached at record 85000\n",
      "reached at record 86000\n",
      "reached at record 87000\n",
      "reached at record 88000\n",
      "reached at record 89000\n",
      "reached at record 90000\n",
      "reached at record 91000\n",
      "reached at record 92000\n",
      "reached at record 93000\n",
      "reached at record 94000\n",
      "reached at record 95000\n",
      "reached at record 96000\n",
      "reached at record 97000\n",
      "reached at record 98000\n",
      "reached at record 99000\n",
      "reached at record 100000\n",
      "reached at record 101000\n",
      "reached at record 102000\n",
      "reached at record 103000\n",
      "reached at record 104000\n",
      "reached at record 105000\n",
      "reached at record 106000\n",
      "reached at record 107000\n",
      "reached at record 108000\n",
      "reached at record 109000\n",
      "reached at record 110000\n",
      "reached at record 111000\n",
      "reached at record 112000\n",
      "reached at record 113000\n",
      "reached at record 114000\n",
      "reached at record 115000\n",
      "reached at record 116000\n",
      "reached at record 117000\n",
      "reached at record 118000\n",
      "reached at record 119000\n",
      "reached at record 120000\n",
      "reached at record 121000\n",
      "reached at record 122000\n",
      "reached at record 123000\n",
      "reached at record 124000\n",
      "reached at record 125000\n",
      "reached at record 126000\n",
      "reached at record 127000\n",
      "reached at record 128000\n",
      "reached at record 129000\n",
      "reached at record 130000\n",
      "reached at record 131000\n",
      "reached at record 132000\n",
      "reached at record 133000\n",
      "reached at record 134000\n",
      "reached at record 135000\n",
      "reached at record 136000\n",
      "reached at record 137000\n",
      "reached at record 138000\n",
      "reached at record 139000\n",
      "reached at record 140000\n",
      "reached at record 141000\n",
      "reached at record 142000\n",
      "reached at record 143000\n",
      "reached at record 144000\n",
      "reached at record 145000\n",
      "reached at record 146000\n",
      "reached at record 147000\n",
      "reached at record 148000\n",
      "reached at record 149000\n",
      "reached at record 150000\n",
      "reached at record 151000\n",
      "reached at record 152000\n",
      "reached at record 153000\n",
      "reached at record 154000\n",
      "reached at record 155000\n",
      "reached at record 156000\n",
      "reached at record 157000\n",
      "reached at record 158000\n",
      "reached at record 159000\n",
      "reached at record 160000\n",
      "reached at record 161000\n",
      "reached at record 162000\n",
      "reached at record 163000\n",
      "reached at record 164000\n",
      "reached at record 165000\n",
      "reached at record 166000\n",
      "reached at record 167000\n",
      "reached at record 168000\n",
      "reached at record 169000\n",
      "reached at record 170000\n",
      "reached at record 171000\n",
      "reached at record 172000\n",
      "reached at record 173000\n",
      "reached at record 174000\n",
      "reached at record 175000\n",
      "reached at record 176000\n",
      "reached at record 177000\n",
      "reached at record 178000\n",
      "reached at record 179000\n",
      "reached at record 180000\n",
      "reached at record 181000\n",
      "reached at record 182000\n",
      "reached at record 183000\n",
      "reached at record 184000\n",
      "reached at record 185000\n",
      "reached at record 186000\n",
      "reached at record 187000\n",
      "reached at record 188000\n",
      "reached at record 189000\n",
      "reached at record 190000\n",
      "reached at record 191000\n",
      "reached at record 192000\n",
      "reached at record 193000\n",
      "reached at record 194000\n",
      "reached at record 195000\n",
      "reached at record 196000\n",
      "reached at record 197000\n",
      "reached at record 198000\n",
      "reached at record 199000\n",
      "reached at record 200000\n",
      "reached at record 201000\n",
      "reached at record 202000\n",
      "reached at record 203000\n",
      "reached at record 204000\n",
      "reached at record 205000\n",
      "reached at record 206000\n",
      "reached at record 207000\n",
      "reached at record 208000\n",
      "reached at record 209000\n",
      "reached at record 210000\n",
      "reached at record 211000\n",
      "reached at record 212000\n",
      "reached at record 213000\n",
      "reached at record 214000\n",
      "reached at record 215000\n",
      "reached at record 216000\n",
      "reached at record 217000\n",
      "reached at record 218000\n",
      "reached at record 219000\n",
      "reached at record 220000\n",
      "reached at record 221000\n",
      "reached at record 222000\n",
      "reached at record 223000\n",
      "reached at record 224000\n",
      "reached at record 225000\n",
      "reached at record 226000\n",
      "reached at record 227000\n",
      "reached at record 228000\n",
      "reached at record 229000\n",
      "reached at record 230000\n",
      "reached at record 231000\n",
      "reached at record 232000\n",
      "reached at record 233000\n",
      "reached at record 234000\n",
      "reached at record 235000\n",
      "reached at record 236000\n",
      "reached at record 237000\n",
      "reached at record 238000\n",
      "reached at record 239000\n",
      "reached at record 240000\n",
      "reached at record 241000\n",
      "reached at record 242000\n",
      "reached at record 243000\n",
      "reached at record 244000\n",
      "reached at record 245000\n",
      "reached at record 246000\n",
      "reached at record 247000\n",
      "reached at record 248000\n",
      "reached at record 249000\n",
      "reached at record 250000\n",
      "reached at record 251000\n",
      "reached at record 252000\n",
      "reached at record 253000\n",
      "reached at record 254000\n",
      "reached at record 255000\n",
      "reached at record 256000\n",
      "reached at record 257000\n",
      "reached at record 258000\n",
      "reached at record 259000\n",
      "reached at record 260000\n",
      "reached at record 261000\n",
      "reached at record 262000\n",
      "reached at record 263000\n",
      "reached at record 264000\n",
      "reached at record 265000\n",
      "reached at record 266000\n",
      "reached at record 267000\n",
      "reached at record 268000\n",
      "reached at record 269000\n",
      "reached at record 270000\n",
      "reached at record 271000\n",
      "reached at record 272000\n",
      "reached at record 273000\n",
      "reached at record 274000\n",
      "reached at record 275000\n",
      "reached at record 276000\n",
      "reached at record 277000\n",
      "reached at record 278000\n",
      "reached at record 279000\n",
      "reached at record 280000\n",
      "reached at record 281000\n",
      "reached at record 282000\n",
      "reached at record 283000\n",
      "reached at record 284000\n",
      "reached at record 285000\n",
      "reached at record 286000\n",
      "reached at record 287000\n",
      "reached at record 288000\n",
      "reached at record 289000\n",
      "reached at record 290000\n",
      "reached at record 291000\n",
      "reached at record 292000\n",
      "reached at record 293000\n",
      "reached at record 294000\n",
      "reached at record 295000\n",
      "reached at record 296000\n",
      "reached at record 297000\n",
      "reached at record 298000\n",
      "reached at record 299000\n",
      "reached at record 300000\n",
      "reached at record 301000\n",
      "reached at record 302000\n",
      "reached at record 303000\n",
      "reached at record 304000\n",
      "reached at record 305000\n",
      "reached at record 306000\n",
      "reached at record 307000\n",
      "reached at record 308000\n",
      "reached at record 309000\n",
      "reached at record 310000\n",
      "reached at record 311000\n",
      "reached at record 312000\n",
      "reached at record 313000\n",
      "reached at record 314000\n",
      "reached at record 315000\n",
      "reached at record 316000\n",
      "reached at record 317000\n",
      "reached at record 318000\n",
      "reached at record 319000\n",
      "reached at record 320000\n",
      "reached at record 321000\n",
      "reached at record 322000\n",
      "reached at record 323000\n",
      "reached at record 324000\n",
      "reached at record 325000\n",
      "reached at record 326000\n",
      "reached at record 327000\n",
      "reached at record 328000\n",
      "reached at record 329000\n",
      "reached at record 330000\n",
      "reached at record 331000\n",
      "reached at record 332000\n",
      "reached at record 333000\n",
      "reached at record 334000\n",
      "reached at record 335000\n",
      "reached at record 336000\n",
      "reached at record 337000\n",
      "reached at record 338000\n",
      "reached at record 339000\n",
      "reached at record 340000\n",
      "reached at record 341000\n",
      "reached at record 342000\n",
      "reached at record 343000\n",
      "reached at record 344000\n",
      "reached at record 345000\n",
      "reached at record 346000\n",
      "reached at record 347000\n",
      "reached at record 348000\n",
      "reached at record 349000\n",
      "reached at record 350000\n",
      "reached at record 351000\n",
      "reached at record 352000\n",
      "reached at record 353000\n",
      "reached at record 354000\n",
      "reached at record 355000\n",
      "reached at record 356000\n",
      "reached at record 357000\n",
      "reached at record 358000\n",
      "reached at record 359000\n",
      "reached at record 360000\n",
      "reached at record 361000\n",
      "reached at record 362000\n",
      "reached at record 363000\n",
      "reached at record 364000\n",
      "reached at record 365000\n",
      "reached at record 366000\n",
      "reached at record 367000\n",
      "reached at record 368000\n",
      "reached at record 369000\n",
      "reached at record 370000\n",
      "reached at record 371000\n",
      "reached at record 372000\n",
      "reached at record 373000\n",
      "reached at record 374000\n",
      "reached at record 375000\n",
      "reached at record 376000\n",
      "reached at record 377000\n",
      "reached at record 378000\n",
      "reached at record 379000\n",
      "reached at record 380000\n",
      "reached at record 381000\n",
      "reached at record 382000\n",
      "reached at record 383000\n",
      "reached at record 384000\n",
      "reached at record 385000\n",
      "reached at record 386000\n",
      "reached at record 387000\n",
      "reached at record 388000\n",
      "reached at record 389000\n",
      "reached at record 390000\n",
      "reached at record 391000\n",
      "reached at record 392000\n",
      "reached at record 393000\n",
      "reached at record 394000\n",
      "reached at record 395000\n",
      "reached at record 396000\n",
      "reached at record 397000\n",
      "reached at record 398000\n",
      "reached at record 399000\n",
      "reached at record 400000\n",
      "reached at record 401000\n",
      "reached at record 402000\n",
      "reached at record 403000\n",
      "reached at record 404000\n",
      "reached at record 405000\n",
      "reached at record 406000\n",
      "reached at record 407000\n",
      "reached at record 408000\n",
      "reached at record 409000\n",
      "reached at record 410000\n",
      "reached at record 411000\n",
      "reached at record 412000\n",
      "reached at record 413000\n",
      "reached at record 414000\n",
      "reached at record 415000\n",
      "reached at record 416000\n",
      "reached at record 417000\n",
      "reached at record 418000\n",
      "reached at record 419000\n",
      "reached at record 420000\n",
      "reached at record 421000\n",
      "reached at record 422000\n",
      "reached at record 423000\n",
      "reached at record 424000\n",
      "reached at record 425000\n",
      "reached at record 426000\n",
      "reached at record 427000\n",
      "reached at record 428000\n",
      "reached at record 429000\n",
      "reached at record 430000\n",
      "reached at record 431000\n",
      "reached at record 432000\n",
      "reached at record 433000\n",
      "reached at record 434000\n",
      "reached at record 435000\n",
      "reached at record 436000\n",
      "reached at record 437000\n",
      "reached at record 438000\n",
      "reached at record 439000\n",
      "reached at record 440000\n",
      "reached at record 441000\n",
      "reached at record 442000\n",
      "reached at record 443000\n",
      "reached at record 444000\n",
      "reached at record 445000\n",
      "reached at record 446000\n",
      "reached at record 447000\n",
      "reached at record 448000\n",
      "reached at record 449000\n",
      "reached at record 450000\n",
      "reached at record 451000\n",
      "reached at record 452000\n",
      "reached at record 453000\n",
      "reached at record 454000\n",
      "reached at record 455000\n",
      "reached at record 456000\n",
      "reached at record 457000\n",
      "reached at record 458000\n",
      "reached at record 459000\n",
      "reached at record 460000\n",
      "reached at record 461000\n",
      "reached at record 462000\n",
      "reached at record 463000\n",
      "reached at record 464000\n",
      "reached at record 465000\n",
      "reached at record 466000\n",
      "reached at record 467000\n",
      "reached at record 468000\n",
      "reached at record 469000\n",
      "reached at record 470000\n",
      "reached at record 471000\n",
      "reached at record 472000\n",
      "reached at record 473000\n",
      "reached at record 474000\n",
      "reached at record 475000\n",
      "reached at record 476000\n",
      "reached at record 477000\n",
      "reached at record 478000\n",
      "reached at record 479000\n",
      "reached at record 480000\n",
      "reached at record 481000\n",
      "reached at record 482000\n",
      "reached at record 483000\n",
      "reached at record 484000\n",
      "reached at record 485000\n",
      "reached at record 486000\n",
      "reached at record 487000\n",
      "reached at record 488000\n",
      "reached at record 489000\n",
      "reached at record 490000\n",
      "reached at record 491000\n",
      "reached at record 492000\n",
      "reached at record 493000\n",
      "reached at record 494000\n",
      "reached at record 495000\n",
      "reached at record 496000\n",
      "reached at record 497000\n",
      "reached at record 498000\n",
      "reached at record 499000\n",
      "reached at record 500000\n",
      "reached at record 501000\n",
      "reached at record 502000\n",
      "reached at record 503000\n",
      "reached at record 504000\n",
      "reached at record 505000\n",
      "reached at record 506000\n",
      "reached at record 507000\n",
      "reached at record 508000\n",
      "reached at record 509000\n",
      "reached at record 510000\n",
      "reached at record 511000\n",
      "reached at record 512000\n",
      "reached at record 513000\n",
      "reached at record 514000\n",
      "reached at record 515000\n",
      "reached at record 516000\n",
      "reached at record 517000\n",
      "reached at record 518000\n",
      "reached at record 519000\n",
      "reached at record 520000\n",
      "reached at record 521000\n",
      "reached at record 522000\n",
      "reached at record 523000\n",
      "reached at record 524000\n",
      "reached at record 525000\n",
      "reached at record 526000\n",
      "reached at record 527000\n",
      "reached at record 528000\n",
      "reached at record 529000\n",
      "reached at record 530000\n",
      "reached at record 531000\n",
      "reached at record 532000\n",
      "reached at record 533000\n",
      "reached at record 534000\n",
      "reached at record 535000\n",
      "reached at record 536000\n",
      "reached at record 537000\n",
      "reached at record 538000\n",
      "reached at record 539000\n",
      "reached at record 540000\n",
      "reached at record 541000\n"
     ]
    }
   ],
   "source": [
    "with h5py.File(\"./train_data.hdf5\", \"w\") as f:\n",
    "    train_data = f.create_dataset(\"train_data\", (X_train.shape[0], 500, 25), \"float16\", **{\"chunks\" : ( 1024, 500, 25)})\n",
    "    for index, data in enumerate(X_train):\n",
    "        for index_2, word in enumerate(data):\n",
    "            if word == \"!\":\n",
    "                vec = np.zeros(shape =(25,))\n",
    "            else :\n",
    "                vec = embeddings_dict.get(word, np.zeros(shape = (25,)))\n",
    "            train_data[index][index_2] = vec\n",
    "        if index % 1000 == 0:\n",
    "            print(f\"reached at record {index}\")"
   ]
  },
  {
   "cell_type": "markdown",
   "id": "e2275ce6-3374-45f9-bab8-e8558809d927",
   "metadata": {},
   "source": [
    "#### D. Build a base model for Supervised Learning - Classification. [2 Marks]"
   ]
  },
  {
   "cell_type": "code",
   "execution_count": 34,
   "id": "0a489aab-7e93-41fc-990f-2899e90d23ba",
   "metadata": {
    "jupyter": {
     "outputs_hidden": true
    },
    "tags": []
   },
   "outputs": [
    {
     "name": "stdout",
     "output_type": "stream",
     "text": [
      "(20000, 500, 25)\n",
      "(20000, 500, 25)\n",
      "(20000, 500, 25)\n",
      "(20000, 500, 25)\n",
      "(20000, 500, 25)\n",
      "(20000, 500, 25)\n",
      "(20000, 500, 25)\n",
      "(20000, 500, 25)\n",
      "(20000, 500, 25)\n",
      "(20000, 500, 25)\n",
      "(20000, 500, 25)\n",
      "(20000, 500, 25)\n",
      "(20000, 500, 25)\n",
      "(20000, 500, 25)\n",
      "(20000, 500, 25)\n",
      "(20000, 500, 25)\n",
      "(20000, 500, 25)\n",
      "(20000, 500, 25)\n",
      "(20000, 500, 25)\n",
      "(20000, 500, 25)\n",
      "(20000, 500, 25)\n",
      "(20000, 500, 25)\n",
      "(20000, 500, 25)\n",
      "(20000, 500, 25)\n",
      "(20000, 500, 25)\n",
      "(20000, 500, 25)\n"
     ]
    }
   ],
   "source": [
    "\n",
    "gc.collect()\n",
    "\n",
    "with h5py.File(\"train_data.hdf5\", \"r\")  as data:\n",
    "    with h5py.File(\"train_labels.hdf5\", \"r\") as labels:\n",
    "        data_ = data.require_dataset(\"train_data\", shape = (541278, 500, 25), dtype = \"float16\", **{\"chunks\" : ( 64, 500, 25)})\n",
    "        labels_ = labels.require_dataset(\"train_labels\", shape = (541278, 40), dtype = \"int\", **{\"chunks\" : ( 64, 500, 25)})\n",
    "        #print(labels_[ : 50])\n",
    "        clf = OneVsRestClassifier(SGDClassifier(loss = \"hinge\", verbose = 0, warm_start = True), verbose = 0).fit(data_[: 20_000].reshape(20_000, 500*25), labels_[ : 20_000])\n",
    "        next_start = 20_000\n",
    "        while True:\n",
    "            if next_start + 20_000 >= 541278 :\n",
    "                break            \n",
    "            print(data_[next_start : next_start + 20_000].shape)\n",
    "            clf = clf.fit(data_[next_start : next_start + 20_000].reshape(20_000, 500*25), \n",
    "                          labels_[ next_start : next_start + 20_000],\n",
    "                         \n",
    "                         )\n",
    "            next_start = next_start + 20_000\n",
    "            if next_start >= 541278 :\n",
    "                break\n",
    "        \n",
    "    \n",
    "\n"
   ]
  },
  {
   "cell_type": "code",
   "execution_count": 35,
   "id": "1aa9f3ff-a4d2-46d8-adfa-a800cdbdeaf4",
   "metadata": {},
   "outputs": [
    {
     "data": {
      "text/plain": [
       "['linear_svm_model_uniform_weights.joblib']"
      ]
     },
     "execution_count": 35,
     "metadata": {},
     "output_type": "execute_result"
    }
   ],
   "source": [
    "dump(clf, \"linear_svm_model_uniform_weights.joblib\")"
   ]
  },
  {
   "cell_type": "markdown",
   "id": "4126ca7a-42ef-447e-81a2-19d8b8495983",
   "metadata": {},
   "source": [
    "#### E. Clearly print Performance Metrics. [1 Marks]"
   ]
  },
  {
   "cell_type": "code",
   "execution_count": 36,
   "id": "d54493ff-c8da-4bbc-a513-ea1a0eca8d18",
   "metadata": {},
   "outputs": [
    {
     "name": "stdout",
     "output_type": "stream",
     "text": [
      "              precision    recall  f1-score   support\n",
      "\n",
      "           0       0.00      0.00      0.00       122\n",
      "           1       0.00      0.00      0.00       146\n",
      "           2       0.00      0.00      0.00        38\n",
      "           3       0.00      0.00      0.00        48\n",
      "           4       0.00      0.00      0.00       950\n",
      "           5       0.00      0.00      0.00        32\n",
      "           6       0.00      0.00      0.00       119\n",
      "           7       0.00      0.00      0.00        65\n",
      "           8       0.00      0.00      0.00       147\n",
      "           9       0.00      0.00      0.00       112\n",
      "          10       0.00      0.00      0.00       588\n",
      "          11       0.00      0.00      0.00        30\n",
      "          12       0.00      0.00      0.00       158\n",
      "          13       0.00      0.00      0.00       862\n",
      "          14       0.00      0.00      0.00       321\n",
      "          15       0.00      0.00      0.00        10\n",
      "          16       0.00      0.00      0.00       131\n",
      "          17       0.00      0.00      0.00       216\n",
      "          18       0.00      0.00      0.00        75\n",
      "          19       0.00      0.00      0.00       435\n",
      "          20       0.00      0.00      0.00        36\n",
      "          21       0.00      0.00      0.00       280\n",
      "          22       0.00      0.00      0.00        62\n",
      "          23       0.00      0.00      0.00        47\n",
      "          24       0.00      0.00      0.00         8\n",
      "          25       0.00      0.00      0.00       127\n",
      "          26       0.00      0.00      0.00        85\n",
      "          27       0.00      0.00      0.00       104\n",
      "          28       0.00      0.00      0.00       425\n",
      "          29       0.00      0.00      0.00       217\n",
      "          30       0.00      0.00      0.00       100\n",
      "          31       0.00      0.00      0.00       145\n",
      "          32       0.00      0.00      0.00       233\n",
      "          33       0.00      0.00      0.00        80\n",
      "          34       0.00      0.00      0.00      4650\n",
      "          35       0.00      0.00      0.00      1215\n",
      "          36       0.00      0.00      0.00       111\n",
      "          37       0.00      0.00      0.00        51\n",
      "          38       0.00      0.00      0.00        67\n",
      "          39       0.00      0.00      0.00      7352\n",
      "\n",
      "   micro avg       0.00      0.00      0.00     20000\n",
      "   macro avg       0.00      0.00      0.00     20000\n",
      "weighted avg       0.00      0.00      0.00     20000\n",
      " samples avg       0.00      0.00      0.00     20000\n",
      "\n",
      "ROC_AUC score : \t0.5\n"
     ]
    },
    {
     "name": "stderr",
     "output_type": "stream",
     "text": [
      "C:\\Users\\Sam\\AppData\\Local\\Programs\\Python\\Python38\\lib\\site-packages\\sklearn\\metrics\\_classification.py:1334: UndefinedMetricWarning: Precision and F-score are ill-defined and being set to 0.0 in labels with no predicted samples. Use `zero_division` parameter to control this behavior.\n",
      "  _warn_prf(average, modifier, msg_start, len(result))\n",
      "C:\\Users\\Sam\\AppData\\Local\\Programs\\Python\\Python38\\lib\\site-packages\\sklearn\\metrics\\_classification.py:1334: UndefinedMetricWarning: Precision and F-score are ill-defined and being set to 0.0 due to no predicted samples. Use `zero_division` parameter to control this behavior.\n",
      "  _warn_prf(average, modifier, msg_start, len(result))\n",
      "C:\\Users\\Sam\\AppData\\Local\\Programs\\Python\\Python38\\lib\\site-packages\\sklearn\\metrics\\_classification.py:1334: UndefinedMetricWarning: Precision and F-score are ill-defined and being set to 0.0 in samples with no predicted labels. Use `zero_division` parameter to control this behavior.\n",
      "  _warn_prf(average, modifier, msg_start, len(result))\n"
     ]
    }
   ],
   "source": [
    "\n",
    "with h5py.File(\"./test_data.hdf5\", \"r\") as data:\n",
    "    with h5py.File(\"./test_labels.hdf5\", \"r\") as labels:\n",
    "        data_ = data.require_dataset(\"test_data\", shape = (135320, 500, 25), dtype = \"float16\", **{\"chunks\" : ( 64, 500, 25)})\n",
    "        labels_ = labels.require_dataset(\"test_labels\", shape = (135320, 40), dtype = \"int\", **{\"chunks\" : ( 64, 500, 25)})\n",
    "        preds = clf.predict(data_[ : 20_000].reshape(20_000, 500*25))\n",
    "        #preds_ = ohe.inverse_transform(preds)\n",
    "        #labels_inverse = ohe.inverse_transform(labels_[ : 10_000])\n",
    "        print(classification_report(labels_[ : 20_000], preds))\n",
    "        print(f\"ROC_AUC score : \\t{roc_auc_score(labels_[ : 20_000], preds)}\")\n",
    "        #roc_curve(labels_[ : 20_000].argmax(axis = 1), preds.argmax(axis = 1))"
   ]
  },
  {
   "cell_type": "markdown",
   "id": "1e9672ae-e15b-4bf0-bb3d-c77588f7b299",
   "metadata": {},
   "source": [
    "How come performance is so bad????????? Aren't semantic vectorizers supposed to be much better than things like Bag-of-Words and tf-idf??? It's not like there's a lack of data for the classifier to learn from..."
   ]
  },
  {
   "cell_type": "markdown",
   "id": "4e357f10-6838-4544-85e9-df358e4f004e",
   "metadata": {},
   "source": [
    "### 4. Improve Performance of model. [14 Marks]"
   ]
  },
  {
   "cell_type": "markdown",
   "id": "3ddafce3-d23d-4464-8ba4-d896837485cb",
   "metadata": {},
   "source": [
    "#### A. Experiment with other vectorisers. [4 Marks]"
   ]
  },
  {
   "cell_type": "markdown",
   "id": "83230290-ddff-4754-a083-284480a63be4",
   "metadata": {},
   "source": [
    "Now I'll try normal BoW"
   ]
  },
  {
   "cell_type": "code",
   "execution_count": 37,
   "id": "c9066409-60b4-4efa-a101-add362022f0d",
   "metadata": {},
   "outputs": [],
   "source": [
    "vectorizer = CountVectorizer(ngram_range = (1, 2), \n",
    "                             binary = True\n",
    "                            )\n",
    "# restricting to 20_000 because I don't have the time and compute resources to do the hdf5 thing again, and HDF5 doesn't work for `object` arrays anyways\n",
    "\n",
    "vectorizer = vectorizer.fit(X_train)\n",
    "X_train_bow = vectorizer.transform(X_train)\n",
    "X_test_bow = vectorizer.transform(X_test)"
   ]
  },
  {
   "cell_type": "code",
   "execution_count": 38,
   "id": "21510bee-d299-4578-8a19-a249a79a4bb1",
   "metadata": {},
   "outputs": [
    {
     "data": {
      "text/plain": [
       "((541278, 10162869), (135320, 10162869))"
      ]
     },
     "execution_count": 38,
     "metadata": {},
     "output_type": "execute_result"
    }
   ],
   "source": [
    "X_train_bow.shape, X_test_bow.shape"
   ]
  },
  {
   "cell_type": "markdown",
   "id": "bf3eb477-98aa-43a8-9be2-59f37ee40691",
   "metadata": {},
   "source": [
    "Oh there is also something called `zarr` that supports `object` dtype... let's see if it works"
   ]
  },
  {
   "cell_type": "code",
   "execution_count": 43,
   "id": "43fec3c1-a49d-4e0c-83c3-f567253e46bb",
   "metadata": {},
   "outputs": [],
   "source": [
    "import zarr\n",
    "import numcodecs"
   ]
  },
  {
   "cell_type": "code",
   "execution_count": 45,
   "id": "efaef928-b6f5-489f-a195-b8ad46f99140",
   "metadata": {},
   "outputs": [
    {
     "ename": "TypeError",
     "evalue": "astype() got an unexpected keyword argument 'order'",
     "output_type": "error",
     "traceback": [
      "\u001b[1;31m---------------------------------------------------------------------------\u001b[0m",
      "\u001b[1;31mTypeError\u001b[0m                                 Traceback (most recent call last)",
      "Input \u001b[1;32mIn [45]\u001b[0m, in \u001b[0;36m<cell line: 1>\u001b[1;34m()\u001b[0m\n\u001b[1;32m----> 1\u001b[0m train_bow \u001b[38;5;241m=\u001b[39m \u001b[43mzarr\u001b[49m\u001b[38;5;241;43m.\u001b[39;49m\u001b[43marray\u001b[49m\u001b[43m(\u001b[49m\u001b[43m \u001b[49m\u001b[43mdata\u001b[49m\u001b[43m \u001b[49m\u001b[38;5;241;43m=\u001b[39;49m\u001b[43m \u001b[49m\u001b[43mX_train_bow\u001b[49m\u001b[43m,\u001b[49m\u001b[43m \u001b[49m\u001b[43mdtype\u001b[49m\u001b[43m \u001b[49m\u001b[38;5;241;43m=\u001b[39;49m\u001b[43m \u001b[49m\u001b[38;5;124;43m\"\u001b[39;49m\u001b[38;5;124;43mobject\u001b[39;49m\u001b[38;5;124;43m\"\u001b[39;49m\u001b[43m,\u001b[49m\u001b[43m \u001b[49m\u001b[43mobject_codec\u001b[49m\u001b[43m \u001b[49m\u001b[38;5;241;43m=\u001b[39;49m\u001b[43m \u001b[49m\u001b[43mnumcodecs\u001b[49m\u001b[38;5;241;43m.\u001b[39;49m\u001b[43mPickle\u001b[49m\u001b[43m(\u001b[49m\u001b[43m)\u001b[49m\u001b[43m)\u001b[49m\n\u001b[0;32m      3\u001b[0m test_bow \u001b[38;5;241m=\u001b[39m zarr\u001b[38;5;241m.\u001b[39marray( data \u001b[38;5;241m=\u001b[39m X_test_bow, dtype \u001b[38;5;241m=\u001b[39m \u001b[38;5;124m\"\u001b[39m\u001b[38;5;124mobject\u001b[39m\u001b[38;5;124m\"\u001b[39m, object_codec \u001b[38;5;241m=\u001b[39m numcodecs\u001b[38;5;241m.\u001b[39mPickle())\n",
      "File \u001b[1;32m~\\AppData\\Local\\Programs\\Python\\Python38\\lib\\site-packages\\zarr\\creation.py:380\u001b[0m, in \u001b[0;36marray\u001b[1;34m(data, **kwargs)\u001b[0m\n\u001b[0;32m    377\u001b[0m z \u001b[38;5;241m=\u001b[39m create(\u001b[38;5;241m*\u001b[39m\u001b[38;5;241m*\u001b[39mkwargs)\n\u001b[0;32m    379\u001b[0m \u001b[38;5;66;03m# fill with data\u001b[39;00m\n\u001b[1;32m--> 380\u001b[0m z[\u001b[38;5;241m.\u001b[39m\u001b[38;5;241m.\u001b[39m\u001b[38;5;241m.\u001b[39m] \u001b[38;5;241m=\u001b[39m data\n\u001b[0;32m    382\u001b[0m \u001b[38;5;66;03m# set read_only property afterwards\u001b[39;00m\n\u001b[0;32m    383\u001b[0m z\u001b[38;5;241m.\u001b[39mread_only \u001b[38;5;241m=\u001b[39m read_only\n",
      "File \u001b[1;32m~\\AppData\\Local\\Programs\\Python\\Python38\\lib\\site-packages\\zarr\\core.py:1353\u001b[0m, in \u001b[0;36mArray.__setitem__\u001b[1;34m(self, selection, value)\u001b[0m\n\u001b[0;32m   1351\u001b[0m     \u001b[38;5;28mself\u001b[39m\u001b[38;5;241m.\u001b[39mvindex[selection] \u001b[38;5;241m=\u001b[39m value\n\u001b[0;32m   1352\u001b[0m \u001b[38;5;28;01melse\u001b[39;00m:\n\u001b[1;32m-> 1353\u001b[0m     \u001b[38;5;28;43mself\u001b[39;49m\u001b[38;5;241;43m.\u001b[39;49m\u001b[43mset_basic_selection\u001b[49m\u001b[43m(\u001b[49m\u001b[43mpure_selection\u001b[49m\u001b[43m,\u001b[49m\u001b[43m \u001b[49m\u001b[43mvalue\u001b[49m\u001b[43m,\u001b[49m\u001b[43m \u001b[49m\u001b[43mfields\u001b[49m\u001b[38;5;241;43m=\u001b[39;49m\u001b[43mfields\u001b[49m\u001b[43m)\u001b[49m\n",
      "File \u001b[1;32m~\\AppData\\Local\\Programs\\Python\\Python38\\lib\\site-packages\\zarr\\core.py:1448\u001b[0m, in \u001b[0;36mArray.set_basic_selection\u001b[1;34m(self, selection, value, fields)\u001b[0m\n\u001b[0;32m   1446\u001b[0m     \u001b[38;5;28;01mreturn\u001b[39;00m \u001b[38;5;28mself\u001b[39m\u001b[38;5;241m.\u001b[39m_set_basic_selection_zd(selection, value, fields\u001b[38;5;241m=\u001b[39mfields)\n\u001b[0;32m   1447\u001b[0m \u001b[38;5;28;01melse\u001b[39;00m:\n\u001b[1;32m-> 1448\u001b[0m     \u001b[38;5;28;01mreturn\u001b[39;00m \u001b[38;5;28;43mself\u001b[39;49m\u001b[38;5;241;43m.\u001b[39;49m\u001b[43m_set_basic_selection_nd\u001b[49m\u001b[43m(\u001b[49m\u001b[43mselection\u001b[49m\u001b[43m,\u001b[49m\u001b[43m \u001b[49m\u001b[43mvalue\u001b[49m\u001b[43m,\u001b[49m\u001b[43m \u001b[49m\u001b[43mfields\u001b[49m\u001b[38;5;241;43m=\u001b[39;49m\u001b[43mfields\u001b[49m\u001b[43m)\u001b[49m\n",
      "File \u001b[1;32m~\\AppData\\Local\\Programs\\Python\\Python38\\lib\\site-packages\\zarr\\core.py:1748\u001b[0m, in \u001b[0;36mArray._set_basic_selection_nd\u001b[1;34m(self, selection, value, fields)\u001b[0m\n\u001b[0;32m   1742\u001b[0m \u001b[38;5;28;01mdef\u001b[39;00m \u001b[38;5;21m_set_basic_selection_nd\u001b[39m(\u001b[38;5;28mself\u001b[39m, selection, value, fields\u001b[38;5;241m=\u001b[39m\u001b[38;5;28;01mNone\u001b[39;00m):\n\u001b[0;32m   1743\u001b[0m     \u001b[38;5;66;03m# implementation of __setitem__ for array with at least one dimension\u001b[39;00m\n\u001b[0;32m   1744\u001b[0m \n\u001b[0;32m   1745\u001b[0m     \u001b[38;5;66;03m# setup indexer\u001b[39;00m\n\u001b[0;32m   1746\u001b[0m     indexer \u001b[38;5;241m=\u001b[39m BasicIndexer(selection, \u001b[38;5;28mself\u001b[39m)\n\u001b[1;32m-> 1748\u001b[0m     \u001b[38;5;28;43mself\u001b[39;49m\u001b[38;5;241;43m.\u001b[39;49m\u001b[43m_set_selection\u001b[49m\u001b[43m(\u001b[49m\u001b[43mindexer\u001b[49m\u001b[43m,\u001b[49m\u001b[43m \u001b[49m\u001b[43mvalue\u001b[49m\u001b[43m,\u001b[49m\u001b[43m \u001b[49m\u001b[43mfields\u001b[49m\u001b[38;5;241;43m=\u001b[39;49m\u001b[43mfields\u001b[49m\u001b[43m)\u001b[49m\n",
      "File \u001b[1;32m~\\AppData\\Local\\Programs\\Python\\Python38\\lib\\site-packages\\zarr\\core.py:1800\u001b[0m, in \u001b[0;36mArray._set_selection\u001b[1;34m(self, indexer, value, fields)\u001b[0m\n\u001b[0;32m   1797\u001b[0m                 chunk_value \u001b[38;5;241m=\u001b[39m chunk_value[item]\n\u001b[0;32m   1799\u001b[0m         \u001b[38;5;66;03m# put data\u001b[39;00m\n\u001b[1;32m-> 1800\u001b[0m         \u001b[38;5;28;43mself\u001b[39;49m\u001b[38;5;241;43m.\u001b[39;49m\u001b[43m_chunk_setitem\u001b[49m\u001b[43m(\u001b[49m\u001b[43mchunk_coords\u001b[49m\u001b[43m,\u001b[49m\u001b[43m \u001b[49m\u001b[43mchunk_selection\u001b[49m\u001b[43m,\u001b[49m\u001b[43m \u001b[49m\u001b[43mchunk_value\u001b[49m\u001b[43m,\u001b[49m\u001b[43m \u001b[49m\u001b[43mfields\u001b[49m\u001b[38;5;241;43m=\u001b[39;49m\u001b[43mfields\u001b[49m\u001b[43m)\u001b[49m\n\u001b[0;32m   1801\u001b[0m \u001b[38;5;28;01melse\u001b[39;00m:\n\u001b[0;32m   1802\u001b[0m     lchunk_coords, lchunk_selection, lout_selection \u001b[38;5;241m=\u001b[39m \u001b[38;5;28mzip\u001b[39m(\u001b[38;5;241m*\u001b[39mindexer)\n",
      "File \u001b[1;32m~\\AppData\\Local\\Programs\\Python\\Python38\\lib\\site-packages\\zarr\\core.py:2062\u001b[0m, in \u001b[0;36mArray._chunk_setitem\u001b[1;34m(self, chunk_coords, chunk_selection, value, fields)\u001b[0m\n\u001b[0;32m   2059\u001b[0m     lock \u001b[38;5;241m=\u001b[39m \u001b[38;5;28mself\u001b[39m\u001b[38;5;241m.\u001b[39m_synchronizer[ckey]\n\u001b[0;32m   2061\u001b[0m \u001b[38;5;28;01mwith\u001b[39;00m lock:\n\u001b[1;32m-> 2062\u001b[0m     \u001b[38;5;28;43mself\u001b[39;49m\u001b[38;5;241;43m.\u001b[39;49m\u001b[43m_chunk_setitem_nosync\u001b[49m\u001b[43m(\u001b[49m\u001b[43mchunk_coords\u001b[49m\u001b[43m,\u001b[49m\u001b[43m \u001b[49m\u001b[43mchunk_selection\u001b[49m\u001b[43m,\u001b[49m\u001b[43m \u001b[49m\u001b[43mvalue\u001b[49m\u001b[43m,\u001b[49m\n\u001b[0;32m   2063\u001b[0m \u001b[43m                               \u001b[49m\u001b[43mfields\u001b[49m\u001b[38;5;241;43m=\u001b[39;49m\u001b[43mfields\u001b[49m\u001b[43m)\u001b[49m\n",
      "File \u001b[1;32m~\\AppData\\Local\\Programs\\Python\\Python38\\lib\\site-packages\\zarr\\core.py:2067\u001b[0m, in \u001b[0;36mArray._chunk_setitem_nosync\u001b[1;34m(self, chunk_coords, chunk_selection, value, fields)\u001b[0m\n\u001b[0;32m   2065\u001b[0m \u001b[38;5;28;01mdef\u001b[39;00m \u001b[38;5;21m_chunk_setitem_nosync\u001b[39m(\u001b[38;5;28mself\u001b[39m, chunk_coords, chunk_selection, value, fields\u001b[38;5;241m=\u001b[39m\u001b[38;5;28;01mNone\u001b[39;00m):\n\u001b[0;32m   2066\u001b[0m     ckey \u001b[38;5;241m=\u001b[39m \u001b[38;5;28mself\u001b[39m\u001b[38;5;241m.\u001b[39m_chunk_key(chunk_coords)\n\u001b[1;32m-> 2067\u001b[0m     cdata \u001b[38;5;241m=\u001b[39m \u001b[38;5;28;43mself\u001b[39;49m\u001b[38;5;241;43m.\u001b[39;49m\u001b[43m_process_for_setitem\u001b[49m\u001b[43m(\u001b[49m\u001b[43mckey\u001b[49m\u001b[43m,\u001b[49m\u001b[43m \u001b[49m\u001b[43mchunk_selection\u001b[49m\u001b[43m,\u001b[49m\u001b[43m \u001b[49m\u001b[43mvalue\u001b[49m\u001b[43m,\u001b[49m\u001b[43m \u001b[49m\u001b[43mfields\u001b[49m\u001b[38;5;241;43m=\u001b[39;49m\u001b[43mfields\u001b[49m\u001b[43m)\u001b[49m\n\u001b[0;32m   2069\u001b[0m     \u001b[38;5;66;03m# attempt to delete chunk if it only contains the fill value\u001b[39;00m\n\u001b[0;32m   2070\u001b[0m     \u001b[38;5;28;01mif\u001b[39;00m (\u001b[38;5;129;01mnot\u001b[39;00m \u001b[38;5;28mself\u001b[39m\u001b[38;5;241m.\u001b[39mwrite_empty_chunks) \u001b[38;5;129;01mand\u001b[39;00m all_equal(\u001b[38;5;28mself\u001b[39m\u001b[38;5;241m.\u001b[39mfill_value, cdata):\n",
      "File \u001b[1;32m~\\AppData\\Local\\Programs\\Python\\Python38\\lib\\site-packages\\zarr\\core.py:2091\u001b[0m, in \u001b[0;36mArray._process_for_setitem\u001b[1;34m(self, ckey, chunk_selection, value, fields)\u001b[0m\n\u001b[0;32m   2086\u001b[0m         chunk\u001b[38;5;241m.\u001b[39mfill(value)\n\u001b[0;32m   2088\u001b[0m     \u001b[38;5;28;01melse\u001b[39;00m:\n\u001b[0;32m   2089\u001b[0m \n\u001b[0;32m   2090\u001b[0m         \u001b[38;5;66;03m# ensure array is contiguous\u001b[39;00m\n\u001b[1;32m-> 2091\u001b[0m         chunk \u001b[38;5;241m=\u001b[39m \u001b[43mvalue\u001b[49m\u001b[38;5;241;43m.\u001b[39;49m\u001b[43mastype\u001b[49m\u001b[43m(\u001b[49m\u001b[38;5;28;43mself\u001b[39;49m\u001b[38;5;241;43m.\u001b[39;49m\u001b[43m_dtype\u001b[49m\u001b[43m,\u001b[49m\u001b[43m \u001b[49m\u001b[43morder\u001b[49m\u001b[38;5;241;43m=\u001b[39;49m\u001b[38;5;28;43mself\u001b[39;49m\u001b[38;5;241;43m.\u001b[39;49m\u001b[43m_order\u001b[49m\u001b[43m,\u001b[49m\u001b[43m \u001b[49m\u001b[43mcopy\u001b[49m\u001b[38;5;241;43m=\u001b[39;49m\u001b[38;5;28;43;01mFalse\u001b[39;49;00m\u001b[43m)\u001b[49m\n\u001b[0;32m   2093\u001b[0m \u001b[38;5;28;01melse\u001b[39;00m:\n\u001b[0;32m   2094\u001b[0m     \u001b[38;5;66;03m# partially replace the contents of this chunk\u001b[39;00m\n\u001b[0;32m   2096\u001b[0m     \u001b[38;5;28;01mtry\u001b[39;00m:\n\u001b[0;32m   2097\u001b[0m \n\u001b[0;32m   2098\u001b[0m         \u001b[38;5;66;03m# obtain compressed data for chunk\u001b[39;00m\n",
      "\u001b[1;31mTypeError\u001b[0m: astype() got an unexpected keyword argument 'order'"
     ]
    }
   ],
   "source": [
    "train_bow = zarr.array( data = X_train_bow, dtype = \"object\", object_codec = numcodecs.Pickle())\n",
    "\n",
    "test_bow = zarr.array( data = X_test_bow, dtype = \"object\", object_codec = numcodecs.Pickle())"
   ]
  },
  {
   "cell_type": "markdown",
   "id": "dbe0f6f6-9de4-4829-919d-50956940cb21",
   "metadata": {},
   "source": [
    "It's also not working... Google brings up nothing, except possibly a versioning issue...maybe I'll take a deeper look later\n",
    "\n",
    "Now I just subset the data "
   ]
  },
  {
   "cell_type": "code",
   "execution_count": 47,
   "id": "27dd965b-cb01-45be-96f6-85e7a925f2fd",
   "metadata": {},
   "outputs": [],
   "source": [
    "log_reg = OneVsRestClassifier(SGDClassifier(loss = \"log_loss\")).fit(X_train_bow[ : 20_000], train_labels[ : 20_000])"
   ]
  },
  {
   "cell_type": "code",
   "execution_count": 48,
   "id": "d94b6cf8-f4d5-4753-81c9-2925202a8e2d",
   "metadata": {},
   "outputs": [
    {
     "name": "stdout",
     "output_type": "stream",
     "text": [
      "              precision    recall  f1-score   support\n",
      "\n",
      "           0       0.00      0.00      0.00       122\n",
      "           1       0.00      0.00      0.00       146\n",
      "           2       0.00      0.00      0.00        38\n",
      "           3       0.00      0.00      0.00        48\n",
      "           4       0.08      0.00      0.00       950\n",
      "           5       0.00      0.00      0.00        32\n",
      "           6       0.50      0.01      0.02       119\n",
      "           7       0.00      0.00      0.00        65\n",
      "           8       0.00      0.00      0.00       147\n",
      "           9       0.00      0.00      0.00       112\n",
      "          10       0.50      0.00      0.00       588\n",
      "          11       0.00      0.00      0.00        30\n",
      "          12       0.00      0.00      0.00       158\n",
      "          13       0.22      0.00      0.00       862\n",
      "          14       0.00      0.00      0.00       321\n",
      "          15       0.00      0.00      0.00        10\n",
      "          16       0.00      0.00      0.00       131\n",
      "          17       0.00      0.00      0.00       216\n",
      "          18       0.00      0.00      0.00        75\n",
      "          19       0.17      0.00      0.00       435\n",
      "          20       0.00      0.00      0.00        36\n",
      "          21       0.50      0.00      0.01       280\n",
      "          22       0.00      0.00      0.00        62\n",
      "          23       0.00      0.00      0.00        47\n",
      "          24       0.00      0.00      0.00         8\n",
      "          25       0.00      0.00      0.00       127\n",
      "          26       0.00      0.00      0.00        85\n",
      "          27       0.00      0.00      0.00       104\n",
      "          28       0.36      0.02      0.04       425\n",
      "          29       0.00      0.00      0.00       217\n",
      "          30       0.00      0.00      0.00       100\n",
      "          31       0.00      0.00      0.00       145\n",
      "          32       0.00      0.00      0.00       233\n",
      "          33       0.00      0.00      0.00        80\n",
      "          34       0.48      0.15      0.22      4650\n",
      "          35       0.50      0.01      0.03      1215\n",
      "          36       0.00      0.00      0.00       111\n",
      "          37       0.00      0.00      0.00        51\n",
      "          38       1.00      0.04      0.09        67\n",
      "          39       0.43      0.23      0.30      7352\n",
      "\n",
      "   micro avg       0.44      0.12      0.19     20000\n",
      "   macro avg       0.12      0.01      0.02     20000\n",
      "weighted avg       0.35      0.12      0.16     20000\n",
      " samples avg       0.12      0.12      0.12     20000\n",
      "\n",
      "ROC_AUC score :\t0.5030404374607343\n"
     ]
    },
    {
     "name": "stderr",
     "output_type": "stream",
     "text": [
      "C:\\Users\\Sam\\AppData\\Local\\Programs\\Python\\Python38\\lib\\site-packages\\sklearn\\metrics\\_classification.py:1334: UndefinedMetricWarning: Precision and F-score are ill-defined and being set to 0.0 in labels with no predicted samples. Use `zero_division` parameter to control this behavior.\n",
      "  _warn_prf(average, modifier, msg_start, len(result))\n",
      "C:\\Users\\Sam\\AppData\\Local\\Programs\\Python\\Python38\\lib\\site-packages\\sklearn\\metrics\\_classification.py:1334: UndefinedMetricWarning: Precision and F-score are ill-defined and being set to 0.0 in samples with no predicted labels. Use `zero_division` parameter to control this behavior.\n",
      "  _warn_prf(average, modifier, msg_start, len(result))\n"
     ]
    }
   ],
   "source": [
    "log_reg_preds = log_reg.predict(X_test_bow[ : 20_000])\n",
    "print(classification_report(test_labels[ : 20_000], log_reg_preds))\n",
    "print(f\"ROC_AUC score :\\t{roc_auc_score(test_labels[ : 20_000], log_reg_preds)}\")"
   ]
  },
  {
   "cell_type": "markdown",
   "id": "0adb7352-2561-4043-8f65-bb5e5a08b998",
   "metadata": {},
   "source": [
    "This is also very bad... Last effort : `TfidfVectorizer`"
   ]
  },
  {
   "cell_type": "markdown",
   "id": "ed0232fb-2436-4bd1-bbaa-1aa4d65a04b2",
   "metadata": {},
   "source": [
    "#### B. Build classifier Models using other algorithms than base model. [4 Marks]"
   ]
  },
  {
   "cell_type": "code",
   "execution_count": 49,
   "id": "b9bf2274-3dd9-48ed-a49a-316ab1af2f8c",
   "metadata": {},
   "outputs": [
    {
     "data": {
      "text/plain": [
       "2311"
      ]
     },
     "execution_count": 49,
     "metadata": {},
     "output_type": "execute_result"
    }
   ],
   "source": [
    "del X_train_bow, X_test_bow, log_reg, log_reg_preds\n",
    "gc.collect()"
   ]
  },
  {
   "cell_type": "code",
   "execution_count": 50,
   "id": "59985270-3e41-446a-a3d8-d0be22186c88",
   "metadata": {},
   "outputs": [],
   "source": [
    "tf_idf = TfidfVectorizer( \n",
    "                         binary = True).fit(X_train[ : -100_000]) # getting memory/logic errors if I go beyond,  \n",
    "                                                                  #or use ngram_range = (1,2) one of the samples is ending up with  \n",
    "                                                                  #__0__ features inside it, causing tfidf to fail\n",
    "X_train_tfidf = tf_idf.transform(X_train[ : -100_000])\n",
    "X_test_tfidf = tf_idf.transform(X_test[ : -100_000])"
   ]
  },
  {
   "cell_type": "code",
   "execution_count": 51,
   "id": "2365b9a3-252a-40c8-9820-c1ad8e13d432",
   "metadata": {},
   "outputs": [
    {
     "name": "stderr",
     "output_type": "stream",
     "text": [
      "C:\\Users\\Sam\\AppData\\Local\\Programs\\Python\\Python38\\lib\\site-packages\\sklearn\\linear_model\\_logistic.py:444: ConvergenceWarning: lbfgs failed to converge (status=1):\n",
      "STOP: TOTAL NO. of ITERATIONS REACHED LIMIT.\n",
      "\n",
      "Increase the number of iterations (max_iter) or scale the data as shown in:\n",
      "    https://scikit-learn.org/stable/modules/preprocessing.html\n",
      "Please also refer to the documentation for alternative solver options:\n",
      "    https://scikit-learn.org/stable/modules/linear_model.html#logistic-regression\n",
      "  n_iter_i = _check_optimize_result(\n",
      "C:\\Users\\Sam\\AppData\\Local\\Programs\\Python\\Python38\\lib\\site-packages\\sklearn\\linear_model\\_logistic.py:444: ConvergenceWarning: lbfgs failed to converge (status=1):\n",
      "STOP: TOTAL NO. of ITERATIONS REACHED LIMIT.\n",
      "\n",
      "Increase the number of iterations (max_iter) or scale the data as shown in:\n",
      "    https://scikit-learn.org/stable/modules/preprocessing.html\n",
      "Please also refer to the documentation for alternative solver options:\n",
      "    https://scikit-learn.org/stable/modules/linear_model.html#logistic-regression\n",
      "  n_iter_i = _check_optimize_result(\n",
      "C:\\Users\\Sam\\AppData\\Local\\Programs\\Python\\Python38\\lib\\site-packages\\sklearn\\linear_model\\_logistic.py:444: ConvergenceWarning: lbfgs failed to converge (status=1):\n",
      "STOP: TOTAL NO. of ITERATIONS REACHED LIMIT.\n",
      "\n",
      "Increase the number of iterations (max_iter) or scale the data as shown in:\n",
      "    https://scikit-learn.org/stable/modules/preprocessing.html\n",
      "Please also refer to the documentation for alternative solver options:\n",
      "    https://scikit-learn.org/stable/modules/linear_model.html#logistic-regression\n",
      "  n_iter_i = _check_optimize_result(\n",
      "C:\\Users\\Sam\\AppData\\Local\\Programs\\Python\\Python38\\lib\\site-packages\\sklearn\\linear_model\\_logistic.py:444: ConvergenceWarning: lbfgs failed to converge (status=1):\n",
      "STOP: TOTAL NO. of ITERATIONS REACHED LIMIT.\n",
      "\n",
      "Increase the number of iterations (max_iter) or scale the data as shown in:\n",
      "    https://scikit-learn.org/stable/modules/preprocessing.html\n",
      "Please also refer to the documentation for alternative solver options:\n",
      "    https://scikit-learn.org/stable/modules/linear_model.html#logistic-regression\n",
      "  n_iter_i = _check_optimize_result(\n",
      "C:\\Users\\Sam\\AppData\\Local\\Programs\\Python\\Python38\\lib\\site-packages\\sklearn\\linear_model\\_logistic.py:444: ConvergenceWarning: lbfgs failed to converge (status=1):\n",
      "STOP: TOTAL NO. of ITERATIONS REACHED LIMIT.\n",
      "\n",
      "Increase the number of iterations (max_iter) or scale the data as shown in:\n",
      "    https://scikit-learn.org/stable/modules/preprocessing.html\n",
      "Please also refer to the documentation for alternative solver options:\n",
      "    https://scikit-learn.org/stable/modules/linear_model.html#logistic-regression\n",
      "  n_iter_i = _check_optimize_result(\n",
      "C:\\Users\\Sam\\AppData\\Local\\Programs\\Python\\Python38\\lib\\site-packages\\sklearn\\linear_model\\_logistic.py:444: ConvergenceWarning: lbfgs failed to converge (status=1):\n",
      "STOP: TOTAL NO. of ITERATIONS REACHED LIMIT.\n",
      "\n",
      "Increase the number of iterations (max_iter) or scale the data as shown in:\n",
      "    https://scikit-learn.org/stable/modules/preprocessing.html\n",
      "Please also refer to the documentation for alternative solver options:\n",
      "    https://scikit-learn.org/stable/modules/linear_model.html#logistic-regression\n",
      "  n_iter_i = _check_optimize_result(\n",
      "C:\\Users\\Sam\\AppData\\Local\\Programs\\Python\\Python38\\lib\\site-packages\\sklearn\\linear_model\\_logistic.py:444: ConvergenceWarning: lbfgs failed to converge (status=1):\n",
      "STOP: TOTAL NO. of ITERATIONS REACHED LIMIT.\n",
      "\n",
      "Increase the number of iterations (max_iter) or scale the data as shown in:\n",
      "    https://scikit-learn.org/stable/modules/preprocessing.html\n",
      "Please also refer to the documentation for alternative solver options:\n",
      "    https://scikit-learn.org/stable/modules/linear_model.html#logistic-regression\n",
      "  n_iter_i = _check_optimize_result(\n",
      "C:\\Users\\Sam\\AppData\\Local\\Programs\\Python\\Python38\\lib\\site-packages\\sklearn\\linear_model\\_logistic.py:444: ConvergenceWarning: lbfgs failed to converge (status=1):\n",
      "STOP: TOTAL NO. of ITERATIONS REACHED LIMIT.\n",
      "\n",
      "Increase the number of iterations (max_iter) or scale the data as shown in:\n",
      "    https://scikit-learn.org/stable/modules/preprocessing.html\n",
      "Please also refer to the documentation for alternative solver options:\n",
      "    https://scikit-learn.org/stable/modules/linear_model.html#logistic-regression\n",
      "  n_iter_i = _check_optimize_result(\n",
      "C:\\Users\\Sam\\AppData\\Local\\Programs\\Python\\Python38\\lib\\site-packages\\sklearn\\linear_model\\_logistic.py:444: ConvergenceWarning: lbfgs failed to converge (status=1):\n",
      "STOP: TOTAL NO. of ITERATIONS REACHED LIMIT.\n",
      "\n",
      "Increase the number of iterations (max_iter) or scale the data as shown in:\n",
      "    https://scikit-learn.org/stable/modules/preprocessing.html\n",
      "Please also refer to the documentation for alternative solver options:\n",
      "    https://scikit-learn.org/stable/modules/linear_model.html#logistic-regression\n",
      "  n_iter_i = _check_optimize_result(\n",
      "C:\\Users\\Sam\\AppData\\Local\\Programs\\Python\\Python38\\lib\\site-packages\\sklearn\\linear_model\\_logistic.py:444: ConvergenceWarning: lbfgs failed to converge (status=1):\n",
      "STOP: TOTAL NO. of ITERATIONS REACHED LIMIT.\n",
      "\n",
      "Increase the number of iterations (max_iter) or scale the data as shown in:\n",
      "    https://scikit-learn.org/stable/modules/preprocessing.html\n",
      "Please also refer to the documentation for alternative solver options:\n",
      "    https://scikit-learn.org/stable/modules/linear_model.html#logistic-regression\n",
      "  n_iter_i = _check_optimize_result(\n",
      "C:\\Users\\Sam\\AppData\\Local\\Programs\\Python\\Python38\\lib\\site-packages\\sklearn\\linear_model\\_logistic.py:444: ConvergenceWarning: lbfgs failed to converge (status=1):\n",
      "STOP: TOTAL NO. of ITERATIONS REACHED LIMIT.\n",
      "\n",
      "Increase the number of iterations (max_iter) or scale the data as shown in:\n",
      "    https://scikit-learn.org/stable/modules/preprocessing.html\n",
      "Please also refer to the documentation for alternative solver options:\n",
      "    https://scikit-learn.org/stable/modules/linear_model.html#logistic-regression\n",
      "  n_iter_i = _check_optimize_result(\n"
     ]
    }
   ],
   "source": [
    "log_reg_tfidf = OneVsRestClassifier(\n",
    "    LogisticRegression(\n",
    "        )\n",
    "    ).fit(X_train_tfidf, train_labels[ : -100_000])"
   ]
  },
  {
   "cell_type": "code",
   "execution_count": 52,
   "id": "5e252805-eb11-4249-8281-bdb375f801c7",
   "metadata": {},
   "outputs": [
    {
     "name": "stderr",
     "output_type": "stream",
     "text": [
      "C:\\Users\\Sam\\AppData\\Local\\Programs\\Python\\Python38\\lib\\site-packages\\sklearn\\metrics\\_classification.py:1334: UndefinedMetricWarning: Precision and F-score are ill-defined and being set to 0.0 in labels with no predicted samples. Use `zero_division` parameter to control this behavior.\n",
      "  _warn_prf(average, modifier, msg_start, len(result))\n",
      "C:\\Users\\Sam\\AppData\\Local\\Programs\\Python\\Python38\\lib\\site-packages\\sklearn\\metrics\\_classification.py:1334: UndefinedMetricWarning: Precision and F-score are ill-defined and being set to 0.0 in samples with no predicted labels. Use `zero_division` parameter to control this behavior.\n",
      "  _warn_prf(average, modifier, msg_start, len(result))\n"
     ]
    },
    {
     "name": "stdout",
     "output_type": "stream",
     "text": [
      "              precision    recall  f1-score   support\n",
      "\n",
      "           0       0.55      0.03      0.06       197\n",
      "           1       0.00      0.00      0.00       241\n",
      "           2       0.00      0.00      0.00        65\n",
      "           3       0.00      0.00      0.00        85\n",
      "           4       0.92      0.02      0.04      1679\n",
      "           5       0.00      0.00      0.00        66\n",
      "           6       0.00      0.00      0.00       225\n",
      "           7       0.00      0.00      0.00       120\n",
      "           8       1.00      0.00      0.01       267\n",
      "           9       0.00      0.00      0.00       205\n",
      "          10       0.90      0.01      0.02      1031\n",
      "          11       1.00      0.02      0.04        48\n",
      "          12       1.00      0.00      0.01       283\n",
      "          13       0.82      0.02      0.04      1523\n",
      "          14       0.75      0.02      0.04       571\n",
      "          15       0.00      0.00      0.00        21\n",
      "          16       1.00      0.08      0.14       246\n",
      "          17       0.92      0.03      0.06       368\n",
      "          18       1.00      0.01      0.01       155\n",
      "          19       0.33      0.00      0.00       798\n",
      "          20       0.00      0.00      0.00        75\n",
      "          21       0.33      0.01      0.01       488\n",
      "          22       0.00      0.00      0.00       108\n",
      "          23       0.00      0.00      0.00        99\n",
      "          24       0.00      0.00      0.00        15\n",
      "          25       0.00      0.00      0.00       248\n",
      "          26       0.00      0.00      0.00       152\n",
      "          27       0.67      0.02      0.04       174\n",
      "          28       0.52      0.02      0.03       746\n",
      "          29       1.00      0.02      0.05       381\n",
      "          30       0.00      0.00      0.00       171\n",
      "          31       0.00      0.00      0.00       270\n",
      "          32       0.50      0.00      0.01       396\n",
      "          33       0.00      0.00      0.00       152\n",
      "          34       0.61      0.20      0.30      8074\n",
      "          35       0.76      0.06      0.11      2155\n",
      "          36       1.00      0.01      0.01       198\n",
      "          37       0.00      0.00      0.00        90\n",
      "          38       1.00      0.09      0.16       112\n",
      "          39       0.60      0.21      0.31     13022\n",
      "\n",
      "   micro avg       0.61      0.13      0.22     35320\n",
      "   macro avg       0.43      0.02      0.04     35320\n",
      "weighted avg       0.62      0.13      0.20     35320\n",
      " samples avg       0.13      0.13      0.13     35320\n",
      "\n",
      "ROC_AUC score :\t0.5094201793650431\n"
     ]
    }
   ],
   "source": [
    "log_reg_preds_tfidf = log_reg_tfidf.predict(X_test_tfidf)\n",
    "print(classification_report(test_labels[ : -100_000], log_reg_preds_tfidf))\n",
    "print(f\"ROC_AUC score :\\t{roc_auc_score(test_labels[ : -100_000], log_reg_preds_tfidf)}\")"
   ]
  },
  {
   "cell_type": "markdown",
   "id": "0a2a368c-45f6-4126-83fb-635cf984115d",
   "metadata": {},
   "source": [
    "Nothing happened  "
   ]
  },
  {
   "cell_type": "markdown",
   "id": "b24b4ffb-97b7-46db-a3c7-97f97a20186d",
   "metadata": {},
   "source": [
    "### C. Tune Parameters/Hyperparameters of the model/s. [4 Marks]"
   ]
  },
  {
   "cell_type": "code",
   "execution_count": 53,
   "id": "1433a671-03e5-4f03-9e60-208ecfc0488c",
   "metadata": {},
   "outputs": [],
   "source": [
    "param_list = {\n",
    "    \"penalty\" :         [\"l2\", \"elasticnet\"],\n",
    "    \"C\" :               [ 1.0, 1e-1, 5e-1, 1e-2, 5e-2, 1e-3, 5e-3],\n",
    "    \"class_weight\" :    [\"balanced\", None],\n",
    "    \"solver\" :          [\"newton-cg\", \"sag\", \"saga\"],\n",
    "    \"l1_ratio\" :        [0.1, 0.2, 0.3, 0.4, 0.5, 0.6, 0.7, 0.8, 0.9]\n",
    "}"
   ]
  },
  {
   "cell_type": "code",
   "execution_count": null,
   "id": "32f640b1-4015-4741-811d-8214dc036d58",
   "metadata": {},
   "outputs": [
    {
     "name": "stdout",
     "output_type": "stream",
     "text": [
      "Fitting 5 folds for each of 50 candidates, totalling 250 fits\n",
      "[CV 1/5; 1/50] START C=0.001, class_weight=None, l1_ratio=0.8, penalty=l2, solver=newton-cg\n"
     ]
    },
    {
     "name": "stderr",
     "output_type": "stream",
     "text": [
      "C:\\Users\\Sam\\AppData\\Local\\Programs\\Python\\Python38\\lib\\site-packages\\sklearn\\linear_model\\_logistic.py:1106: UserWarning: l1_ratio parameter is only used when penalty is 'elasticnet'. Got (penalty=l2)\n",
      "  warnings.warn(\n"
     ]
    },
    {
     "name": "stdout",
     "output_type": "stream",
     "text": [
      "[CV 1/5; 1/50] END C=0.001, class_weight=None, l1_ratio=0.8, penalty=l2, solver=newton-cg;, score=0.013 total time= 6.4min\n",
      "[CV 2/5; 1/50] START C=0.001, class_weight=None, l1_ratio=0.8, penalty=l2, solver=newton-cg\n"
     ]
    },
    {
     "name": "stderr",
     "output_type": "stream",
     "text": [
      "C:\\Users\\Sam\\AppData\\Local\\Programs\\Python\\Python38\\lib\\site-packages\\sklearn\\linear_model\\_logistic.py:1106: UserWarning: l1_ratio parameter is only used when penalty is 'elasticnet'. Got (penalty=l2)\n",
      "  warnings.warn(\n"
     ]
    },
    {
     "name": "stdout",
     "output_type": "stream",
     "text": [
      "[CV 2/5; 1/50] END C=0.001, class_weight=None, l1_ratio=0.8, penalty=l2, solver=newton-cg;, score=0.013 total time= 6.1min\n",
      "[CV 3/5; 1/50] START C=0.001, class_weight=None, l1_ratio=0.8, penalty=l2, solver=newton-cg\n"
     ]
    },
    {
     "name": "stderr",
     "output_type": "stream",
     "text": [
      "C:\\Users\\Sam\\AppData\\Local\\Programs\\Python\\Python38\\lib\\site-packages\\sklearn\\linear_model\\_logistic.py:1106: UserWarning: l1_ratio parameter is only used when penalty is 'elasticnet'. Got (penalty=l2)\n",
      "  warnings.warn(\n"
     ]
    },
    {
     "name": "stdout",
     "output_type": "stream",
     "text": [
      "[CV 3/5; 1/50] END C=0.001, class_weight=None, l1_ratio=0.8, penalty=l2, solver=newton-cg;, score=0.013 total time= 6.6min\n",
      "[CV 4/5; 1/50] START C=0.001, class_weight=None, l1_ratio=0.8, penalty=l2, solver=newton-cg\n"
     ]
    },
    {
     "name": "stderr",
     "output_type": "stream",
     "text": [
      "C:\\Users\\Sam\\AppData\\Local\\Programs\\Python\\Python38\\lib\\site-packages\\sklearn\\linear_model\\_logistic.py:1106: UserWarning: l1_ratio parameter is only used when penalty is 'elasticnet'. Got (penalty=l2)\n",
      "  warnings.warn(\n",
      "C:\\Users\\Sam\\AppData\\Local\\Programs\\Python\\Python38\\lib\\site-packages\\scipy\\optimize\\_linesearch.py:305: LineSearchWarning: The line search algorithm did not converge\n",
      "  warn('The line search algorithm did not converge', LineSearchWarning)\n",
      "C:\\Users\\Sam\\AppData\\Local\\Programs\\Python\\Python38\\lib\\site-packages\\sklearn\\utils\\optimize.py:203: UserWarning: Line Search failed\n",
      "  warnings.warn(\"Line Search failed\")\n"
     ]
    },
    {
     "name": "stdout",
     "output_type": "stream",
     "text": [
      "[CV 4/5; 1/50] END C=0.001, class_weight=None, l1_ratio=0.8, penalty=l2, solver=newton-cg;, score=0.013 total time=15.4min\n",
      "[CV 5/5; 1/50] START C=0.001, class_weight=None, l1_ratio=0.8, penalty=l2, solver=newton-cg\n"
     ]
    },
    {
     "name": "stderr",
     "output_type": "stream",
     "text": [
      "C:\\Users\\Sam\\AppData\\Local\\Programs\\Python\\Python38\\lib\\site-packages\\sklearn\\linear_model\\_logistic.py:1106: UserWarning: l1_ratio parameter is only used when penalty is 'elasticnet'. Got (penalty=l2)\n",
      "  warnings.warn(\n"
     ]
    },
    {
     "name": "stdout",
     "output_type": "stream",
     "text": [
      "[CV 5/5; 1/50] END C=0.001, class_weight=None, l1_ratio=0.8, penalty=l2, solver=newton-cg;, score=0.013 total time= 7.5min\n",
      "[CV 1/5; 2/50] START C=0.005, class_weight=None, l1_ratio=0.9, penalty=l2, solver=saga\n"
     ]
    },
    {
     "name": "stderr",
     "output_type": "stream",
     "text": [
      "C:\\Users\\Sam\\AppData\\Local\\Programs\\Python\\Python38\\lib\\site-packages\\sklearn\\linear_model\\_logistic.py:1106: UserWarning: l1_ratio parameter is only used when penalty is 'elasticnet'. Got (penalty=l2)\n",
      "  warnings.warn(\n"
     ]
    },
    {
     "name": "stdout",
     "output_type": "stream",
     "text": [
      "[CV 1/5; 2/50] END C=0.005, class_weight=None, l1_ratio=0.9, penalty=l2, solver=saga;, score=0.015 total time= 2.1min\n",
      "[CV 2/5; 2/50] START C=0.005, class_weight=None, l1_ratio=0.9, penalty=l2, solver=saga\n"
     ]
    },
    {
     "name": "stderr",
     "output_type": "stream",
     "text": [
      "C:\\Users\\Sam\\AppData\\Local\\Programs\\Python\\Python38\\lib\\site-packages\\sklearn\\linear_model\\_logistic.py:1106: UserWarning: l1_ratio parameter is only used when penalty is 'elasticnet'. Got (penalty=l2)\n",
      "  warnings.warn(\n"
     ]
    },
    {
     "name": "stdout",
     "output_type": "stream",
     "text": [
      "[CV 2/5; 2/50] END C=0.005, class_weight=None, l1_ratio=0.9, penalty=l2, solver=saga;, score=0.015 total time= 2.0min\n",
      "[CV 3/5; 2/50] START C=0.005, class_weight=None, l1_ratio=0.9, penalty=l2, solver=saga\n"
     ]
    },
    {
     "name": "stderr",
     "output_type": "stream",
     "text": [
      "C:\\Users\\Sam\\AppData\\Local\\Programs\\Python\\Python38\\lib\\site-packages\\sklearn\\linear_model\\_logistic.py:1106: UserWarning: l1_ratio parameter is only used when penalty is 'elasticnet'. Got (penalty=l2)\n",
      "  warnings.warn(\n"
     ]
    },
    {
     "name": "stdout",
     "output_type": "stream",
     "text": [
      "[CV 3/5; 2/50] END C=0.005, class_weight=None, l1_ratio=0.9, penalty=l2, solver=saga;, score=0.015 total time= 2.4min\n",
      "[CV 4/5; 2/50] START C=0.005, class_weight=None, l1_ratio=0.9, penalty=l2, solver=saga\n"
     ]
    },
    {
     "name": "stderr",
     "output_type": "stream",
     "text": [
      "C:\\Users\\Sam\\AppData\\Local\\Programs\\Python\\Python38\\lib\\site-packages\\sklearn\\linear_model\\_logistic.py:1106: UserWarning: l1_ratio parameter is only used when penalty is 'elasticnet'. Got (penalty=l2)\n",
      "  warnings.warn(\n"
     ]
    },
    {
     "name": "stdout",
     "output_type": "stream",
     "text": [
      "[CV 4/5; 2/50] END C=0.005, class_weight=None, l1_ratio=0.9, penalty=l2, solver=saga;, score=0.015 total time= 1.9min\n",
      "[CV 5/5; 2/50] START C=0.005, class_weight=None, l1_ratio=0.9, penalty=l2, solver=saga\n"
     ]
    },
    {
     "name": "stderr",
     "output_type": "stream",
     "text": [
      "C:\\Users\\Sam\\AppData\\Local\\Programs\\Python\\Python38\\lib\\site-packages\\sklearn\\linear_model\\_logistic.py:1106: UserWarning: l1_ratio parameter is only used when penalty is 'elasticnet'. Got (penalty=l2)\n",
      "  warnings.warn(\n"
     ]
    },
    {
     "name": "stdout",
     "output_type": "stream",
     "text": [
      "[CV 5/5; 2/50] END C=0.005, class_weight=None, l1_ratio=0.9, penalty=l2, solver=saga;, score=0.015 total time= 2.1min\n",
      "[CV 1/5; 3/50] START C=0.01, class_weight=balanced, l1_ratio=0.6, penalty=elasticnet, solver=newton-cg\n",
      "[CV 1/5; 3/50] END C=0.01, class_weight=balanced, l1_ratio=0.6, penalty=elasticnet, solver=newton-cg;, score=nan total time=   0.0s\n",
      "[CV 2/5; 3/50] START C=0.01, class_weight=balanced, l1_ratio=0.6, penalty=elasticnet, solver=newton-cg\n",
      "[CV 2/5; 3/50] END C=0.01, class_weight=balanced, l1_ratio=0.6, penalty=elasticnet, solver=newton-cg;, score=nan total time=   0.0s\n",
      "[CV 3/5; 3/50] START C=0.01, class_weight=balanced, l1_ratio=0.6, penalty=elasticnet, solver=newton-cg\n",
      "[CV 3/5; 3/50] END C=0.01, class_weight=balanced, l1_ratio=0.6, penalty=elasticnet, solver=newton-cg;, score=nan total time=   0.0s\n",
      "[CV 4/5; 3/50] START C=0.01, class_weight=balanced, l1_ratio=0.6, penalty=elasticnet, solver=newton-cg\n",
      "[CV 4/5; 3/50] END C=0.01, class_weight=balanced, l1_ratio=0.6, penalty=elasticnet, solver=newton-cg;, score=nan total time=   0.0s\n",
      "[CV 5/5; 3/50] START C=0.01, class_weight=balanced, l1_ratio=0.6, penalty=elasticnet, solver=newton-cg\n",
      "[CV 5/5; 3/50] END C=0.01, class_weight=balanced, l1_ratio=0.6, penalty=elasticnet, solver=newton-cg;, score=nan total time=   0.0s\n",
      "[CV 1/5; 4/50] START C=0.01, class_weight=balanced, l1_ratio=0.9, penalty=elasticnet, solver=newton-cg\n",
      "[CV 1/5; 4/50] END C=0.01, class_weight=balanced, l1_ratio=0.9, penalty=elasticnet, solver=newton-cg;, score=nan total time=   0.0s\n",
      "[CV 2/5; 4/50] START C=0.01, class_weight=balanced, l1_ratio=0.9, penalty=elasticnet, solver=newton-cg\n",
      "[CV 2/5; 4/50] END C=0.01, class_weight=balanced, l1_ratio=0.9, penalty=elasticnet, solver=newton-cg;, score=nan total time=   0.0s\n",
      "[CV 3/5; 4/50] START C=0.01, class_weight=balanced, l1_ratio=0.9, penalty=elasticnet, solver=newton-cg\n",
      "[CV 3/5; 4/50] END C=0.01, class_weight=balanced, l1_ratio=0.9, penalty=elasticnet, solver=newton-cg;, score=nan total time=   0.0s\n",
      "[CV 4/5; 4/50] START C=0.01, class_weight=balanced, l1_ratio=0.9, penalty=elasticnet, solver=newton-cg\n",
      "[CV 4/5; 4/50] END C=0.01, class_weight=balanced, l1_ratio=0.9, penalty=elasticnet, solver=newton-cg;, score=nan total time=   0.0s\n",
      "[CV 5/5; 4/50] START C=0.01, class_weight=balanced, l1_ratio=0.9, penalty=elasticnet, solver=newton-cg\n",
      "[CV 5/5; 4/50] END C=0.01, class_weight=balanced, l1_ratio=0.9, penalty=elasticnet, solver=newton-cg;, score=nan total time=   0.0s\n",
      "[CV 1/5; 5/50] START C=0.001, class_weight=balanced, l1_ratio=0.1, penalty=l2, solver=sag\n"
     ]
    },
    {
     "name": "stderr",
     "output_type": "stream",
     "text": [
      "C:\\Users\\Sam\\AppData\\Local\\Programs\\Python\\Python38\\lib\\site-packages\\sklearn\\linear_model\\_logistic.py:1106: UserWarning: l1_ratio parameter is only used when penalty is 'elasticnet'. Got (penalty=l2)\n",
      "  warnings.warn(\n"
     ]
    },
    {
     "name": "stdout",
     "output_type": "stream",
     "text": [
      "[CV 1/5; 5/50] END C=0.001, class_weight=balanced, l1_ratio=0.1, penalty=l2, solver=sag;, score=0.060 total time= 1.8min\n",
      "[CV 2/5; 5/50] START C=0.001, class_weight=balanced, l1_ratio=0.1, penalty=l2, solver=sag\n"
     ]
    },
    {
     "name": "stderr",
     "output_type": "stream",
     "text": [
      "C:\\Users\\Sam\\AppData\\Local\\Programs\\Python\\Python38\\lib\\site-packages\\sklearn\\linear_model\\_logistic.py:1106: UserWarning: l1_ratio parameter is only used when penalty is 'elasticnet'. Got (penalty=l2)\n",
      "  warnings.warn(\n"
     ]
    },
    {
     "name": "stdout",
     "output_type": "stream",
     "text": [
      "[CV 2/5; 5/50] END C=0.001, class_weight=balanced, l1_ratio=0.1, penalty=l2, solver=sag;, score=0.060 total time= 1.8min\n",
      "[CV 3/5; 5/50] START C=0.001, class_weight=balanced, l1_ratio=0.1, penalty=l2, solver=sag\n"
     ]
    },
    {
     "name": "stderr",
     "output_type": "stream",
     "text": [
      "C:\\Users\\Sam\\AppData\\Local\\Programs\\Python\\Python38\\lib\\site-packages\\sklearn\\linear_model\\_logistic.py:1106: UserWarning: l1_ratio parameter is only used when penalty is 'elasticnet'. Got (penalty=l2)\n",
      "  warnings.warn(\n"
     ]
    },
    {
     "name": "stdout",
     "output_type": "stream",
     "text": [
      "[CV 3/5; 5/50] END C=0.001, class_weight=balanced, l1_ratio=0.1, penalty=l2, solver=sag;, score=0.060 total time= 1.7min\n",
      "[CV 4/5; 5/50] START C=0.001, class_weight=balanced, l1_ratio=0.1, penalty=l2, solver=sag\n"
     ]
    },
    {
     "name": "stderr",
     "output_type": "stream",
     "text": [
      "C:\\Users\\Sam\\AppData\\Local\\Programs\\Python\\Python38\\lib\\site-packages\\sklearn\\linear_model\\_logistic.py:1106: UserWarning: l1_ratio parameter is only used when penalty is 'elasticnet'. Got (penalty=l2)\n",
      "  warnings.warn(\n"
     ]
    },
    {
     "name": "stdout",
     "output_type": "stream",
     "text": [
      "[CV 4/5; 5/50] END C=0.001, class_weight=balanced, l1_ratio=0.1, penalty=l2, solver=sag;, score=0.057 total time= 1.5min\n",
      "[CV 5/5; 5/50] START C=0.001, class_weight=balanced, l1_ratio=0.1, penalty=l2, solver=sag\n"
     ]
    },
    {
     "name": "stderr",
     "output_type": "stream",
     "text": [
      "C:\\Users\\Sam\\AppData\\Local\\Programs\\Python\\Python38\\lib\\site-packages\\sklearn\\linear_model\\_logistic.py:1106: UserWarning: l1_ratio parameter is only used when penalty is 'elasticnet'. Got (penalty=l2)\n",
      "  warnings.warn(\n"
     ]
    },
    {
     "name": "stdout",
     "output_type": "stream",
     "text": [
      "[CV 5/5; 5/50] END C=0.001, class_weight=balanced, l1_ratio=0.1, penalty=l2, solver=sag;, score=0.058 total time= 1.6min\n",
      "[CV 1/5; 6/50] START C=0.1, class_weight=balanced, l1_ratio=0.5, penalty=l2, solver=sag\n"
     ]
    },
    {
     "name": "stderr",
     "output_type": "stream",
     "text": [
      "C:\\Users\\Sam\\AppData\\Local\\Programs\\Python\\Python38\\lib\\site-packages\\sklearn\\linear_model\\_logistic.py:1106: UserWarning: l1_ratio parameter is only used when penalty is 'elasticnet'. Got (penalty=l2)\n",
      "  warnings.warn(\n",
      "C:\\Users\\Sam\\AppData\\Local\\Programs\\Python\\Python38\\lib\\site-packages\\sklearn\\linear_model\\_sag.py:350: ConvergenceWarning: The max_iter was reached which means the coef_ did not converge\n",
      "  warnings.warn(\n"
     ]
    },
    {
     "name": "stdout",
     "output_type": "stream",
     "text": [
      "[CV 1/5; 6/50] END C=0.1, class_weight=balanced, l1_ratio=0.5, penalty=l2, solver=sag;, score=0.085 total time= 6.6min\n",
      "[CV 2/5; 6/50] START C=0.1, class_weight=balanced, l1_ratio=0.5, penalty=l2, solver=sag\n"
     ]
    },
    {
     "name": "stderr",
     "output_type": "stream",
     "text": [
      "C:\\Users\\Sam\\AppData\\Local\\Programs\\Python\\Python38\\lib\\site-packages\\sklearn\\linear_model\\_logistic.py:1106: UserWarning: l1_ratio parameter is only used when penalty is 'elasticnet'. Got (penalty=l2)\n",
      "  warnings.warn(\n",
      "C:\\Users\\Sam\\AppData\\Local\\Programs\\Python\\Python38\\lib\\site-packages\\sklearn\\linear_model\\_sag.py:350: ConvergenceWarning: The max_iter was reached which means the coef_ did not converge\n",
      "  warnings.warn(\n"
     ]
    },
    {
     "name": "stdout",
     "output_type": "stream",
     "text": [
      "[CV 2/5; 6/50] END C=0.1, class_weight=balanced, l1_ratio=0.5, penalty=l2, solver=sag;, score=0.087 total time= 6.6min\n",
      "[CV 3/5; 6/50] START C=0.1, class_weight=balanced, l1_ratio=0.5, penalty=l2, solver=sag\n"
     ]
    },
    {
     "name": "stderr",
     "output_type": "stream",
     "text": [
      "C:\\Users\\Sam\\AppData\\Local\\Programs\\Python\\Python38\\lib\\site-packages\\sklearn\\linear_model\\_logistic.py:1106: UserWarning: l1_ratio parameter is only used when penalty is 'elasticnet'. Got (penalty=l2)\n",
      "  warnings.warn(\n",
      "C:\\Users\\Sam\\AppData\\Local\\Programs\\Python\\Python38\\lib\\site-packages\\sklearn\\linear_model\\_sag.py:350: ConvergenceWarning: The max_iter was reached which means the coef_ did not converge\n",
      "  warnings.warn(\n"
     ]
    },
    {
     "name": "stdout",
     "output_type": "stream",
     "text": [
      "[CV 3/5; 6/50] END C=0.1, class_weight=balanced, l1_ratio=0.5, penalty=l2, solver=sag;, score=0.088 total time= 6.6min\n",
      "[CV 4/5; 6/50] START C=0.1, class_weight=balanced, l1_ratio=0.5, penalty=l2, solver=sag\n"
     ]
    },
    {
     "name": "stderr",
     "output_type": "stream",
     "text": [
      "C:\\Users\\Sam\\AppData\\Local\\Programs\\Python\\Python38\\lib\\site-packages\\sklearn\\linear_model\\_logistic.py:1106: UserWarning: l1_ratio parameter is only used when penalty is 'elasticnet'. Got (penalty=l2)\n",
      "  warnings.warn(\n",
      "C:\\Users\\Sam\\AppData\\Local\\Programs\\Python\\Python38\\lib\\site-packages\\sklearn\\linear_model\\_sag.py:350: ConvergenceWarning: The max_iter was reached which means the coef_ did not converge\n",
      "  warnings.warn(\n"
     ]
    },
    {
     "name": "stdout",
     "output_type": "stream",
     "text": [
      "[CV 4/5; 6/50] END C=0.1, class_weight=balanced, l1_ratio=0.5, penalty=l2, solver=sag;, score=0.085 total time= 6.6min\n",
      "[CV 5/5; 6/50] START C=0.1, class_weight=balanced, l1_ratio=0.5, penalty=l2, solver=sag\n"
     ]
    },
    {
     "name": "stderr",
     "output_type": "stream",
     "text": [
      "C:\\Users\\Sam\\AppData\\Local\\Programs\\Python\\Python38\\lib\\site-packages\\sklearn\\linear_model\\_logistic.py:1106: UserWarning: l1_ratio parameter is only used when penalty is 'elasticnet'. Got (penalty=l2)\n",
      "  warnings.warn(\n",
      "C:\\Users\\Sam\\AppData\\Local\\Programs\\Python\\Python38\\lib\\site-packages\\sklearn\\linear_model\\_sag.py:350: ConvergenceWarning: The max_iter was reached which means the coef_ did not converge\n",
      "  warnings.warn(\n"
     ]
    },
    {
     "name": "stdout",
     "output_type": "stream",
     "text": [
      "[CV 5/5; 6/50] END C=0.1, class_weight=balanced, l1_ratio=0.5, penalty=l2, solver=sag;, score=0.086 total time= 6.6min\n",
      "[CV 1/5; 7/50] START C=0.05, class_weight=balanced, l1_ratio=0.5, penalty=l2, solver=sag\n"
     ]
    },
    {
     "name": "stderr",
     "output_type": "stream",
     "text": [
      "C:\\Users\\Sam\\AppData\\Local\\Programs\\Python\\Python38\\lib\\site-packages\\sklearn\\linear_model\\_logistic.py:1106: UserWarning: l1_ratio parameter is only used when penalty is 'elasticnet'. Got (penalty=l2)\n",
      "  warnings.warn(\n"
     ]
    },
    {
     "name": "stdout",
     "output_type": "stream",
     "text": [
      "[CV 1/5; 7/50] END C=0.05, class_weight=balanced, l1_ratio=0.5, penalty=l2, solver=sag;, score=0.078 total time= 1.9min\n",
      "[CV 2/5; 7/50] START C=0.05, class_weight=balanced, l1_ratio=0.5, penalty=l2, solver=sag\n"
     ]
    },
    {
     "name": "stderr",
     "output_type": "stream",
     "text": [
      "C:\\Users\\Sam\\AppData\\Local\\Programs\\Python\\Python38\\lib\\site-packages\\sklearn\\linear_model\\_logistic.py:1106: UserWarning: l1_ratio parameter is only used when penalty is 'elasticnet'. Got (penalty=l2)\n",
      "  warnings.warn(\n"
     ]
    },
    {
     "name": "stdout",
     "output_type": "stream",
     "text": [
      "[CV 2/5; 7/50] END C=0.05, class_weight=balanced, l1_ratio=0.5, penalty=l2, solver=sag;, score=0.079 total time= 1.9min\n",
      "[CV 3/5; 7/50] START C=0.05, class_weight=balanced, l1_ratio=0.5, penalty=l2, solver=sag\n"
     ]
    },
    {
     "name": "stderr",
     "output_type": "stream",
     "text": [
      "C:\\Users\\Sam\\AppData\\Local\\Programs\\Python\\Python38\\lib\\site-packages\\sklearn\\linear_model\\_logistic.py:1106: UserWarning: l1_ratio parameter is only used when penalty is 'elasticnet'. Got (penalty=l2)\n",
      "  warnings.warn(\n"
     ]
    },
    {
     "name": "stdout",
     "output_type": "stream",
     "text": [
      "[CV 3/5; 7/50] END C=0.05, class_weight=balanced, l1_ratio=0.5, penalty=l2, solver=sag;, score=0.081 total time= 1.7min\n",
      "[CV 4/5; 7/50] START C=0.05, class_weight=balanced, l1_ratio=0.5, penalty=l2, solver=sag\n"
     ]
    },
    {
     "name": "stderr",
     "output_type": "stream",
     "text": [
      "C:\\Users\\Sam\\AppData\\Local\\Programs\\Python\\Python38\\lib\\site-packages\\sklearn\\linear_model\\_logistic.py:1106: UserWarning: l1_ratio parameter is only used when penalty is 'elasticnet'. Got (penalty=l2)\n",
      "  warnings.warn(\n"
     ]
    },
    {
     "name": "stdout",
     "output_type": "stream",
     "text": [
      "[CV 4/5; 7/50] END C=0.05, class_weight=balanced, l1_ratio=0.5, penalty=l2, solver=sag;, score=0.078 total time= 1.9min\n",
      "[CV 5/5; 7/50] START C=0.05, class_weight=balanced, l1_ratio=0.5, penalty=l2, solver=sag\n"
     ]
    },
    {
     "name": "stderr",
     "output_type": "stream",
     "text": [
      "C:\\Users\\Sam\\AppData\\Local\\Programs\\Python\\Python38\\lib\\site-packages\\sklearn\\linear_model\\_logistic.py:1106: UserWarning: l1_ratio parameter is only used when penalty is 'elasticnet'. Got (penalty=l2)\n",
      "  warnings.warn(\n"
     ]
    },
    {
     "name": "stdout",
     "output_type": "stream",
     "text": [
      "[CV 5/5; 7/50] END C=0.05, class_weight=balanced, l1_ratio=0.5, penalty=l2, solver=sag;, score=0.078 total time= 1.9min\n",
      "[CV 1/5; 8/50] START C=0.05, class_weight=None, l1_ratio=0.1, penalty=elasticnet, solver=sag\n",
      "[CV 1/5; 8/50] END C=0.05, class_weight=None, l1_ratio=0.1, penalty=elasticnet, solver=sag;, score=nan total time=   0.0s\n",
      "[CV 2/5; 8/50] START C=0.05, class_weight=None, l1_ratio=0.1, penalty=elasticnet, solver=sag\n",
      "[CV 2/5; 8/50] END C=0.05, class_weight=None, l1_ratio=0.1, penalty=elasticnet, solver=sag;, score=nan total time=   0.0s\n",
      "[CV 3/5; 8/50] START C=0.05, class_weight=None, l1_ratio=0.1, penalty=elasticnet, solver=sag\n",
      "[CV 3/5; 8/50] END C=0.05, class_weight=None, l1_ratio=0.1, penalty=elasticnet, solver=sag;, score=nan total time=   0.0s\n",
      "[CV 4/5; 8/50] START C=0.05, class_weight=None, l1_ratio=0.1, penalty=elasticnet, solver=sag\n",
      "[CV 4/5; 8/50] END C=0.05, class_weight=None, l1_ratio=0.1, penalty=elasticnet, solver=sag;, score=nan total time=   0.0s\n",
      "[CV 5/5; 8/50] START C=0.05, class_weight=None, l1_ratio=0.1, penalty=elasticnet, solver=sag\n",
      "[CV 5/5; 8/50] END C=0.05, class_weight=None, l1_ratio=0.1, penalty=elasticnet, solver=sag;, score=nan total time=   0.0s\n",
      "[CV 1/5; 9/50] START C=0.001, class_weight=None, l1_ratio=0.8, penalty=elasticnet, solver=saga\n",
      "[CV 1/5; 9/50] END C=0.001, class_weight=None, l1_ratio=0.8, penalty=elasticnet, solver=saga;, score=0.013 total time=  58.4s\n",
      "[CV 2/5; 9/50] START C=0.001, class_weight=None, l1_ratio=0.8, penalty=elasticnet, solver=saga\n",
      "[CV 2/5; 9/50] END C=0.001, class_weight=None, l1_ratio=0.8, penalty=elasticnet, solver=saga;, score=0.013 total time= 1.2min\n",
      "[CV 3/5; 9/50] START C=0.001, class_weight=None, l1_ratio=0.8, penalty=elasticnet, solver=saga\n",
      "[CV 3/5; 9/50] END C=0.001, class_weight=None, l1_ratio=0.8, penalty=elasticnet, solver=saga;, score=0.013 total time= 1.1min\n",
      "[CV 4/5; 9/50] START C=0.001, class_weight=None, l1_ratio=0.8, penalty=elasticnet, solver=saga\n",
      "[CV 4/5; 9/50] END C=0.001, class_weight=None, l1_ratio=0.8, penalty=elasticnet, solver=saga;, score=0.013 total time= 1.1min\n",
      "[CV 5/5; 9/50] START C=0.001, class_weight=None, l1_ratio=0.8, penalty=elasticnet, solver=saga\n",
      "[CV 5/5; 9/50] END C=0.001, class_weight=None, l1_ratio=0.8, penalty=elasticnet, solver=saga;, score=0.013 total time= 1.1min\n",
      "[CV 1/5; 10/50] START C=0.05, class_weight=balanced, l1_ratio=0.1, penalty=l2, solver=saga\n"
     ]
    },
    {
     "name": "stderr",
     "output_type": "stream",
     "text": [
      "C:\\Users\\Sam\\AppData\\Local\\Programs\\Python\\Python38\\lib\\site-packages\\sklearn\\linear_model\\_logistic.py:1106: UserWarning: l1_ratio parameter is only used when penalty is 'elasticnet'. Got (penalty=l2)\n",
      "  warnings.warn(\n",
      "C:\\Users\\Sam\\AppData\\Local\\Programs\\Python\\Python38\\lib\\site-packages\\sklearn\\linear_model\\_sag.py:350: ConvergenceWarning: The max_iter was reached which means the coef_ did not converge\n",
      "  warnings.warn(\n"
     ]
    },
    {
     "name": "stdout",
     "output_type": "stream",
     "text": [
      "[CV 1/5; 10/50] END C=0.05, class_weight=balanced, l1_ratio=0.1, penalty=l2, solver=saga;, score=0.078 total time= 8.2min\n",
      "[CV 2/5; 10/50] START C=0.05, class_weight=balanced, l1_ratio=0.1, penalty=l2, solver=saga\n"
     ]
    },
    {
     "name": "stderr",
     "output_type": "stream",
     "text": [
      "C:\\Users\\Sam\\AppData\\Local\\Programs\\Python\\Python38\\lib\\site-packages\\sklearn\\linear_model\\_logistic.py:1106: UserWarning: l1_ratio parameter is only used when penalty is 'elasticnet'. Got (penalty=l2)\n",
      "  warnings.warn(\n",
      "C:\\Users\\Sam\\AppData\\Local\\Programs\\Python\\Python38\\lib\\site-packages\\sklearn\\linear_model\\_sag.py:350: ConvergenceWarning: The max_iter was reached which means the coef_ did not converge\n",
      "  warnings.warn(\n"
     ]
    },
    {
     "name": "stdout",
     "output_type": "stream",
     "text": [
      "[CV 2/5; 10/50] END C=0.05, class_weight=balanced, l1_ratio=0.1, penalty=l2, solver=saga;, score=0.079 total time= 8.2min\n",
      "[CV 3/5; 10/50] START C=0.05, class_weight=balanced, l1_ratio=0.1, penalty=l2, solver=saga\n"
     ]
    },
    {
     "name": "stderr",
     "output_type": "stream",
     "text": [
      "C:\\Users\\Sam\\AppData\\Local\\Programs\\Python\\Python38\\lib\\site-packages\\sklearn\\linear_model\\_logistic.py:1106: UserWarning: l1_ratio parameter is only used when penalty is 'elasticnet'. Got (penalty=l2)\n",
      "  warnings.warn(\n",
      "C:\\Users\\Sam\\AppData\\Local\\Programs\\Python\\Python38\\lib\\site-packages\\sklearn\\linear_model\\_sag.py:350: ConvergenceWarning: The max_iter was reached which means the coef_ did not converge\n",
      "  warnings.warn(\n"
     ]
    },
    {
     "name": "stdout",
     "output_type": "stream",
     "text": [
      "[CV 3/5; 10/50] END C=0.05, class_weight=balanced, l1_ratio=0.1, penalty=l2, solver=saga;, score=0.080 total time= 8.2min\n",
      "[CV 4/5; 10/50] START C=0.05, class_weight=balanced, l1_ratio=0.1, penalty=l2, solver=saga\n"
     ]
    },
    {
     "name": "stderr",
     "output_type": "stream",
     "text": [
      "C:\\Users\\Sam\\AppData\\Local\\Programs\\Python\\Python38\\lib\\site-packages\\sklearn\\linear_model\\_logistic.py:1106: UserWarning: l1_ratio parameter is only used when penalty is 'elasticnet'. Got (penalty=l2)\n",
      "  warnings.warn(\n",
      "C:\\Users\\Sam\\AppData\\Local\\Programs\\Python\\Python38\\lib\\site-packages\\sklearn\\linear_model\\_sag.py:350: ConvergenceWarning: The max_iter was reached which means the coef_ did not converge\n",
      "  warnings.warn(\n"
     ]
    },
    {
     "name": "stdout",
     "output_type": "stream",
     "text": [
      "[CV 4/5; 10/50] END C=0.05, class_weight=balanced, l1_ratio=0.1, penalty=l2, solver=saga;, score=0.078 total time=13.3min\n",
      "[CV 5/5; 10/50] START C=0.05, class_weight=balanced, l1_ratio=0.1, penalty=l2, solver=saga\n"
     ]
    },
    {
     "name": "stderr",
     "output_type": "stream",
     "text": [
      "C:\\Users\\Sam\\AppData\\Local\\Programs\\Python\\Python38\\lib\\site-packages\\sklearn\\linear_model\\_logistic.py:1106: UserWarning: l1_ratio parameter is only used when penalty is 'elasticnet'. Got (penalty=l2)\n",
      "  warnings.warn(\n",
      "C:\\Users\\Sam\\AppData\\Local\\Programs\\Python\\Python38\\lib\\site-packages\\sklearn\\linear_model\\_sag.py:350: ConvergenceWarning: The max_iter was reached which means the coef_ did not converge\n",
      "  warnings.warn(\n"
     ]
    },
    {
     "name": "stdout",
     "output_type": "stream",
     "text": [
      "[CV 5/5; 10/50] END C=0.05, class_weight=balanced, l1_ratio=0.1, penalty=l2, solver=saga;, score=0.078 total time= 7.2min\n",
      "[CV 1/5; 11/50] START C=0.05, class_weight=None, l1_ratio=0.4, penalty=l2, solver=saga\n"
     ]
    },
    {
     "name": "stderr",
     "output_type": "stream",
     "text": [
      "C:\\Users\\Sam\\AppData\\Local\\Programs\\Python\\Python38\\lib\\site-packages\\sklearn\\linear_model\\_logistic.py:1106: UserWarning: l1_ratio parameter is only used when penalty is 'elasticnet'. Got (penalty=l2)\n",
      "  warnings.warn(\n"
     ]
    },
    {
     "name": "stdout",
     "output_type": "stream",
     "text": [
      "[CV 1/5; 11/50] END C=0.05, class_weight=None, l1_ratio=0.4, penalty=l2, solver=saga;, score=0.022 total time= 1.6min\n",
      "[CV 2/5; 11/50] START C=0.05, class_weight=None, l1_ratio=0.4, penalty=l2, solver=saga\n"
     ]
    },
    {
     "name": "stderr",
     "output_type": "stream",
     "text": [
      "C:\\Users\\Sam\\AppData\\Local\\Programs\\Python\\Python38\\lib\\site-packages\\sklearn\\linear_model\\_logistic.py:1106: UserWarning: l1_ratio parameter is only used when penalty is 'elasticnet'. Got (penalty=l2)\n",
      "  warnings.warn(\n"
     ]
    },
    {
     "name": "stdout",
     "output_type": "stream",
     "text": [
      "[CV 2/5; 11/50] END C=0.05, class_weight=None, l1_ratio=0.4, penalty=l2, solver=saga;, score=0.023 total time= 1.6min\n",
      "[CV 3/5; 11/50] START C=0.05, class_weight=None, l1_ratio=0.4, penalty=l2, solver=saga\n"
     ]
    },
    {
     "name": "stderr",
     "output_type": "stream",
     "text": [
      "C:\\Users\\Sam\\AppData\\Local\\Programs\\Python\\Python38\\lib\\site-packages\\sklearn\\linear_model\\_logistic.py:1106: UserWarning: l1_ratio parameter is only used when penalty is 'elasticnet'. Got (penalty=l2)\n",
      "  warnings.warn(\n"
     ]
    },
    {
     "name": "stdout",
     "output_type": "stream",
     "text": [
      "[CV 3/5; 11/50] END C=0.05, class_weight=None, l1_ratio=0.4, penalty=l2, solver=saga;, score=0.022 total time= 1.7min\n",
      "[CV 4/5; 11/50] START C=0.05, class_weight=None, l1_ratio=0.4, penalty=l2, solver=saga\n"
     ]
    },
    {
     "name": "stderr",
     "output_type": "stream",
     "text": [
      "C:\\Users\\Sam\\AppData\\Local\\Programs\\Python\\Python38\\lib\\site-packages\\sklearn\\linear_model\\_logistic.py:1106: UserWarning: l1_ratio parameter is only used when penalty is 'elasticnet'. Got (penalty=l2)\n",
      "  warnings.warn(\n"
     ]
    },
    {
     "name": "stdout",
     "output_type": "stream",
     "text": [
      "[CV 4/5; 11/50] END C=0.05, class_weight=None, l1_ratio=0.4, penalty=l2, solver=saga;, score=0.022 total time= 1.7min\n",
      "[CV 5/5; 11/50] START C=0.05, class_weight=None, l1_ratio=0.4, penalty=l2, solver=saga\n"
     ]
    },
    {
     "name": "stderr",
     "output_type": "stream",
     "text": [
      "C:\\Users\\Sam\\AppData\\Local\\Programs\\Python\\Python38\\lib\\site-packages\\sklearn\\linear_model\\_logistic.py:1106: UserWarning: l1_ratio parameter is only used when penalty is 'elasticnet'. Got (penalty=l2)\n",
      "  warnings.warn(\n"
     ]
    },
    {
     "name": "stdout",
     "output_type": "stream",
     "text": [
      "[CV 5/5; 11/50] END C=0.05, class_weight=None, l1_ratio=0.4, penalty=l2, solver=saga;, score=0.022 total time= 1.6min\n",
      "[CV 1/5; 12/50] START C=1.0, class_weight=balanced, l1_ratio=0.6, penalty=l2, solver=saga\n"
     ]
    },
    {
     "name": "stderr",
     "output_type": "stream",
     "text": [
      "C:\\Users\\Sam\\AppData\\Local\\Programs\\Python\\Python38\\lib\\site-packages\\sklearn\\linear_model\\_logistic.py:1106: UserWarning: l1_ratio parameter is only used when penalty is 'elasticnet'. Got (penalty=l2)\n",
      "  warnings.warn(\n",
      "C:\\Users\\Sam\\AppData\\Local\\Programs\\Python\\Python38\\lib\\site-packages\\sklearn\\linear_model\\_sag.py:350: ConvergenceWarning: The max_iter was reached which means the coef_ did not converge\n",
      "  warnings.warn(\n"
     ]
    },
    {
     "name": "stdout",
     "output_type": "stream",
     "text": [
      "[CV 1/5; 12/50] END C=1.0, class_weight=balanced, l1_ratio=0.6, penalty=l2, solver=saga;, score=0.107 total time= 6.9min\n",
      "[CV 2/5; 12/50] START C=1.0, class_weight=balanced, l1_ratio=0.6, penalty=l2, solver=saga\n"
     ]
    },
    {
     "name": "stderr",
     "output_type": "stream",
     "text": [
      "C:\\Users\\Sam\\AppData\\Local\\Programs\\Python\\Python38\\lib\\site-packages\\sklearn\\linear_model\\_logistic.py:1106: UserWarning: l1_ratio parameter is only used when penalty is 'elasticnet'. Got (penalty=l2)\n",
      "  warnings.warn(\n",
      "C:\\Users\\Sam\\AppData\\Local\\Programs\\Python\\Python38\\lib\\site-packages\\sklearn\\linear_model\\_sag.py:350: ConvergenceWarning: The max_iter was reached which means the coef_ did not converge\n",
      "  warnings.warn(\n"
     ]
    },
    {
     "name": "stdout",
     "output_type": "stream",
     "text": [
      "[CV 2/5; 12/50] END C=1.0, class_weight=balanced, l1_ratio=0.6, penalty=l2, solver=saga;, score=0.116 total time= 7.3min\n",
      "[CV 3/5; 12/50] START C=1.0, class_weight=balanced, l1_ratio=0.6, penalty=l2, solver=saga\n"
     ]
    },
    {
     "name": "stderr",
     "output_type": "stream",
     "text": [
      "C:\\Users\\Sam\\AppData\\Local\\Programs\\Python\\Python38\\lib\\site-packages\\sklearn\\linear_model\\_logistic.py:1106: UserWarning: l1_ratio parameter is only used when penalty is 'elasticnet'. Got (penalty=l2)\n",
      "  warnings.warn(\n",
      "C:\\Users\\Sam\\AppData\\Local\\Programs\\Python\\Python38\\lib\\site-packages\\sklearn\\linear_model\\_sag.py:350: ConvergenceWarning: The max_iter was reached which means the coef_ did not converge\n",
      "  warnings.warn(\n"
     ]
    },
    {
     "name": "stdout",
     "output_type": "stream",
     "text": [
      "[CV 3/5; 12/50] END C=1.0, class_weight=balanced, l1_ratio=0.6, penalty=l2, solver=saga;, score=0.108 total time= 7.3min\n",
      "[CV 4/5; 12/50] START C=1.0, class_weight=balanced, l1_ratio=0.6, penalty=l2, solver=saga\n"
     ]
    },
    {
     "name": "stderr",
     "output_type": "stream",
     "text": [
      "C:\\Users\\Sam\\AppData\\Local\\Programs\\Python\\Python38\\lib\\site-packages\\sklearn\\linear_model\\_logistic.py:1106: UserWarning: l1_ratio parameter is only used when penalty is 'elasticnet'. Got (penalty=l2)\n",
      "  warnings.warn(\n",
      "C:\\Users\\Sam\\AppData\\Local\\Programs\\Python\\Python38\\lib\\site-packages\\sklearn\\linear_model\\_sag.py:350: ConvergenceWarning: The max_iter was reached which means the coef_ did not converge\n",
      "  warnings.warn(\n"
     ]
    },
    {
     "name": "stdout",
     "output_type": "stream",
     "text": [
      "[CV 4/5; 12/50] END C=1.0, class_weight=balanced, l1_ratio=0.6, penalty=l2, solver=saga;, score=0.109 total time= 6.9min\n",
      "[CV 5/5; 12/50] START C=1.0, class_weight=balanced, l1_ratio=0.6, penalty=l2, solver=saga\n"
     ]
    },
    {
     "name": "stderr",
     "output_type": "stream",
     "text": [
      "C:\\Users\\Sam\\AppData\\Local\\Programs\\Python\\Python38\\lib\\site-packages\\sklearn\\linear_model\\_logistic.py:1106: UserWarning: l1_ratio parameter is only used when penalty is 'elasticnet'. Got (penalty=l2)\n",
      "  warnings.warn(\n",
      "C:\\Users\\Sam\\AppData\\Local\\Programs\\Python\\Python38\\lib\\site-packages\\sklearn\\linear_model\\_sag.py:350: ConvergenceWarning: The max_iter was reached which means the coef_ did not converge\n",
      "  warnings.warn(\n"
     ]
    },
    {
     "name": "stdout",
     "output_type": "stream",
     "text": [
      "[CV 5/5; 12/50] END C=1.0, class_weight=balanced, l1_ratio=0.6, penalty=l2, solver=saga;, score=0.119 total time= 6.9min\n",
      "[CV 1/5; 13/50] START C=0.1, class_weight=None, l1_ratio=0.8, penalty=elasticnet, solver=saga\n",
      "[CV 1/5; 13/50] END C=0.1, class_weight=None, l1_ratio=0.8, penalty=elasticnet, solver=saga;, score=0.029 total time= 2.8min\n",
      "[CV 2/5; 13/50] START C=0.1, class_weight=None, l1_ratio=0.8, penalty=elasticnet, solver=saga\n",
      "[CV 2/5; 13/50] END C=0.1, class_weight=None, l1_ratio=0.8, penalty=elasticnet, solver=saga;, score=0.027 total time= 2.6min\n",
      "[CV 3/5; 13/50] START C=0.1, class_weight=None, l1_ratio=0.8, penalty=elasticnet, solver=saga\n",
      "[CV 3/5; 13/50] END C=0.1, class_weight=None, l1_ratio=0.8, penalty=elasticnet, solver=saga;, score=0.030 total time= 2.6min\n",
      "[CV 4/5; 13/50] START C=0.1, class_weight=None, l1_ratio=0.8, penalty=elasticnet, solver=saga\n",
      "[CV 4/5; 13/50] END C=0.1, class_weight=None, l1_ratio=0.8, penalty=elasticnet, solver=saga;, score=0.029 total time= 2.7min\n",
      "[CV 5/5; 13/50] START C=0.1, class_weight=None, l1_ratio=0.8, penalty=elasticnet, solver=saga\n",
      "[CV 5/5; 13/50] END C=0.1, class_weight=None, l1_ratio=0.8, penalty=elasticnet, solver=saga;, score=0.029 total time= 2.9min\n",
      "[CV 1/5; 14/50] START C=0.1, class_weight=balanced, l1_ratio=0.2, penalty=l2, solver=sag\n"
     ]
    },
    {
     "name": "stderr",
     "output_type": "stream",
     "text": [
      "C:\\Users\\Sam\\AppData\\Local\\Programs\\Python\\Python38\\lib\\site-packages\\sklearn\\linear_model\\_logistic.py:1106: UserWarning: l1_ratio parameter is only used when penalty is 'elasticnet'. Got (penalty=l2)\n",
      "  warnings.warn(\n",
      "C:\\Users\\Sam\\AppData\\Local\\Programs\\Python\\Python38\\lib\\site-packages\\sklearn\\linear_model\\_sag.py:350: ConvergenceWarning: The max_iter was reached which means the coef_ did not converge\n",
      "  warnings.warn(\n"
     ]
    },
    {
     "name": "stdout",
     "output_type": "stream",
     "text": [
      "[CV 1/5; 14/50] END C=0.1, class_weight=balanced, l1_ratio=0.2, penalty=l2, solver=sag;, score=0.085 total time= 5.6min\n",
      "[CV 2/5; 14/50] START C=0.1, class_weight=balanced, l1_ratio=0.2, penalty=l2, solver=sag\n"
     ]
    },
    {
     "name": "stderr",
     "output_type": "stream",
     "text": [
      "C:\\Users\\Sam\\AppData\\Local\\Programs\\Python\\Python38\\lib\\site-packages\\sklearn\\linear_model\\_logistic.py:1106: UserWarning: l1_ratio parameter is only used when penalty is 'elasticnet'. Got (penalty=l2)\n",
      "  warnings.warn(\n",
      "C:\\Users\\Sam\\AppData\\Local\\Programs\\Python\\Python38\\lib\\site-packages\\sklearn\\linear_model\\_sag.py:350: ConvergenceWarning: The max_iter was reached which means the coef_ did not converge\n",
      "  warnings.warn(\n"
     ]
    },
    {
     "name": "stdout",
     "output_type": "stream",
     "text": [
      "[CV 2/5; 14/50] END C=0.1, class_weight=balanced, l1_ratio=0.2, penalty=l2, solver=sag;, score=0.087 total time= 5.5min\n",
      "[CV 3/5; 14/50] START C=0.1, class_weight=balanced, l1_ratio=0.2, penalty=l2, solver=sag\n"
     ]
    },
    {
     "name": "stderr",
     "output_type": "stream",
     "text": [
      "C:\\Users\\Sam\\AppData\\Local\\Programs\\Python\\Python38\\lib\\site-packages\\sklearn\\linear_model\\_logistic.py:1106: UserWarning: l1_ratio parameter is only used when penalty is 'elasticnet'. Got (penalty=l2)\n",
      "  warnings.warn(\n",
      "C:\\Users\\Sam\\AppData\\Local\\Programs\\Python\\Python38\\lib\\site-packages\\sklearn\\linear_model\\_sag.py:350: ConvergenceWarning: The max_iter was reached which means the coef_ did not converge\n",
      "  warnings.warn(\n"
     ]
    },
    {
     "name": "stdout",
     "output_type": "stream",
     "text": [
      "[CV 3/5; 14/50] END C=0.1, class_weight=balanced, l1_ratio=0.2, penalty=l2, solver=sag;, score=0.088 total time= 5.4min\n",
      "[CV 4/5; 14/50] START C=0.1, class_weight=balanced, l1_ratio=0.2, penalty=l2, solver=sag\n"
     ]
    },
    {
     "name": "stderr",
     "output_type": "stream",
     "text": [
      "C:\\Users\\Sam\\AppData\\Local\\Programs\\Python\\Python38\\lib\\site-packages\\sklearn\\linear_model\\_logistic.py:1106: UserWarning: l1_ratio parameter is only used when penalty is 'elasticnet'. Got (penalty=l2)\n",
      "  warnings.warn(\n",
      "C:\\Users\\Sam\\AppData\\Local\\Programs\\Python\\Python38\\lib\\site-packages\\sklearn\\linear_model\\_sag.py:350: ConvergenceWarning: The max_iter was reached which means the coef_ did not converge\n",
      "  warnings.warn(\n"
     ]
    },
    {
     "name": "stdout",
     "output_type": "stream",
     "text": [
      "[CV 4/5; 14/50] END C=0.1, class_weight=balanced, l1_ratio=0.2, penalty=l2, solver=sag;, score=0.085 total time= 5.4min\n",
      "[CV 5/5; 14/50] START C=0.1, class_weight=balanced, l1_ratio=0.2, penalty=l2, solver=sag\n"
     ]
    },
    {
     "name": "stderr",
     "output_type": "stream",
     "text": [
      "C:\\Users\\Sam\\AppData\\Local\\Programs\\Python\\Python38\\lib\\site-packages\\sklearn\\linear_model\\_logistic.py:1106: UserWarning: l1_ratio parameter is only used when penalty is 'elasticnet'. Got (penalty=l2)\n",
      "  warnings.warn(\n",
      "C:\\Users\\Sam\\AppData\\Local\\Programs\\Python\\Python38\\lib\\site-packages\\sklearn\\linear_model\\_sag.py:350: ConvergenceWarning: The max_iter was reached which means the coef_ did not converge\n",
      "  warnings.warn(\n"
     ]
    },
    {
     "name": "stdout",
     "output_type": "stream",
     "text": [
      "[CV 5/5; 14/50] END C=0.1, class_weight=balanced, l1_ratio=0.2, penalty=l2, solver=sag;, score=0.087 total time= 5.5min\n",
      "[CV 1/5; 15/50] START C=0.005, class_weight=None, l1_ratio=0.8, penalty=l2, solver=sag\n"
     ]
    },
    {
     "name": "stderr",
     "output_type": "stream",
     "text": [
      "C:\\Users\\Sam\\AppData\\Local\\Programs\\Python\\Python38\\lib\\site-packages\\sklearn\\linear_model\\_logistic.py:1106: UserWarning: l1_ratio parameter is only used when penalty is 'elasticnet'. Got (penalty=l2)\n",
      "  warnings.warn(\n"
     ]
    },
    {
     "name": "stdout",
     "output_type": "stream",
     "text": [
      "[CV 1/5; 15/50] END C=0.005, class_weight=None, l1_ratio=0.8, penalty=l2, solver=sag;, score=0.015 total time=  59.0s\n",
      "[CV 2/5; 15/50] START C=0.005, class_weight=None, l1_ratio=0.8, penalty=l2, solver=sag\n"
     ]
    },
    {
     "name": "stderr",
     "output_type": "stream",
     "text": [
      "C:\\Users\\Sam\\AppData\\Local\\Programs\\Python\\Python38\\lib\\site-packages\\sklearn\\linear_model\\_logistic.py:1106: UserWarning: l1_ratio parameter is only used when penalty is 'elasticnet'. Got (penalty=l2)\n",
      "  warnings.warn(\n"
     ]
    },
    {
     "name": "stdout",
     "output_type": "stream",
     "text": [
      "[CV 2/5; 15/50] END C=0.005, class_weight=None, l1_ratio=0.8, penalty=l2, solver=sag;, score=0.015 total time=  55.3s\n",
      "[CV 3/5; 15/50] START C=0.005, class_weight=None, l1_ratio=0.8, penalty=l2, solver=sag\n"
     ]
    },
    {
     "name": "stderr",
     "output_type": "stream",
     "text": [
      "C:\\Users\\Sam\\AppData\\Local\\Programs\\Python\\Python38\\lib\\site-packages\\sklearn\\linear_model\\_logistic.py:1106: UserWarning: l1_ratio parameter is only used when penalty is 'elasticnet'. Got (penalty=l2)\n",
      "  warnings.warn(\n"
     ]
    },
    {
     "name": "stdout",
     "output_type": "stream",
     "text": [
      "[CV 3/5; 15/50] END C=0.005, class_weight=None, l1_ratio=0.8, penalty=l2, solver=sag;, score=0.015 total time=  48.2s\n",
      "[CV 4/5; 15/50] START C=0.005, class_weight=None, l1_ratio=0.8, penalty=l2, solver=sag\n"
     ]
    },
    {
     "name": "stderr",
     "output_type": "stream",
     "text": [
      "C:\\Users\\Sam\\AppData\\Local\\Programs\\Python\\Python38\\lib\\site-packages\\sklearn\\linear_model\\_logistic.py:1106: UserWarning: l1_ratio parameter is only used when penalty is 'elasticnet'. Got (penalty=l2)\n",
      "  warnings.warn(\n"
     ]
    },
    {
     "name": "stdout",
     "output_type": "stream",
     "text": [
      "[CV 4/5; 15/50] END C=0.005, class_weight=None, l1_ratio=0.8, penalty=l2, solver=sag;, score=0.015 total time=  48.0s\n",
      "[CV 5/5; 15/50] START C=0.005, class_weight=None, l1_ratio=0.8, penalty=l2, solver=sag\n"
     ]
    },
    {
     "name": "stderr",
     "output_type": "stream",
     "text": [
      "C:\\Users\\Sam\\AppData\\Local\\Programs\\Python\\Python38\\lib\\site-packages\\sklearn\\linear_model\\_logistic.py:1106: UserWarning: l1_ratio parameter is only used when penalty is 'elasticnet'. Got (penalty=l2)\n",
      "  warnings.warn(\n"
     ]
    },
    {
     "name": "stdout",
     "output_type": "stream",
     "text": [
      "[CV 5/5; 15/50] END C=0.005, class_weight=None, l1_ratio=0.8, penalty=l2, solver=sag;, score=0.015 total time=  55.1s\n",
      "[CV 1/5; 16/50] START C=1.0, class_weight=balanced, l1_ratio=0.7, penalty=l2, solver=newton-cg\n"
     ]
    },
    {
     "name": "stderr",
     "output_type": "stream",
     "text": [
      "C:\\Users\\Sam\\AppData\\Local\\Programs\\Python\\Python38\\lib\\site-packages\\sklearn\\linear_model\\_logistic.py:1106: UserWarning: l1_ratio parameter is only used when penalty is 'elasticnet'. Got (penalty=l2)\n",
      "  warnings.warn(\n"
     ]
    },
    {
     "name": "stdout",
     "output_type": "stream",
     "text": [
      "[CV 1/5; 16/50] END C=1.0, class_weight=balanced, l1_ratio=0.7, penalty=l2, solver=newton-cg;, score=0.113 total time=21.2min\n",
      "[CV 2/5; 16/50] START C=1.0, class_weight=balanced, l1_ratio=0.7, penalty=l2, solver=newton-cg\n"
     ]
    },
    {
     "name": "stderr",
     "output_type": "stream",
     "text": [
      "C:\\Users\\Sam\\AppData\\Local\\Programs\\Python\\Python38\\lib\\site-packages\\sklearn\\linear_model\\_logistic.py:1106: UserWarning: l1_ratio parameter is only used when penalty is 'elasticnet'. Got (penalty=l2)\n",
      "  warnings.warn(\n"
     ]
    },
    {
     "name": "stdout",
     "output_type": "stream",
     "text": [
      "[CV 2/5; 16/50] END C=1.0, class_weight=balanced, l1_ratio=0.7, penalty=l2, solver=newton-cg;, score=0.113 total time=21.6min\n",
      "[CV 3/5; 16/50] START C=1.0, class_weight=balanced, l1_ratio=0.7, penalty=l2, solver=newton-cg\n"
     ]
    },
    {
     "name": "stderr",
     "output_type": "stream",
     "text": [
      "C:\\Users\\Sam\\AppData\\Local\\Programs\\Python\\Python38\\lib\\site-packages\\sklearn\\linear_model\\_logistic.py:1106: UserWarning: l1_ratio parameter is only used when penalty is 'elasticnet'. Got (penalty=l2)\n",
      "  warnings.warn(\n"
     ]
    },
    {
     "name": "stdout",
     "output_type": "stream",
     "text": [
      "[CV 3/5; 16/50] END C=1.0, class_weight=balanced, l1_ratio=0.7, penalty=l2, solver=newton-cg;, score=0.116 total time=21.8min\n",
      "[CV 4/5; 16/50] START C=1.0, class_weight=balanced, l1_ratio=0.7, penalty=l2, solver=newton-cg\n"
     ]
    },
    {
     "name": "stderr",
     "output_type": "stream",
     "text": [
      "C:\\Users\\Sam\\AppData\\Local\\Programs\\Python\\Python38\\lib\\site-packages\\sklearn\\linear_model\\_logistic.py:1106: UserWarning: l1_ratio parameter is only used when penalty is 'elasticnet'. Got (penalty=l2)\n",
      "  warnings.warn(\n"
     ]
    },
    {
     "name": "stdout",
     "output_type": "stream",
     "text": [
      "[CV 4/5; 16/50] END C=1.0, class_weight=balanced, l1_ratio=0.7, penalty=l2, solver=newton-cg;, score=0.112 total time=23.7min\n",
      "[CV 5/5; 16/50] START C=1.0, class_weight=balanced, l1_ratio=0.7, penalty=l2, solver=newton-cg\n"
     ]
    },
    {
     "name": "stderr",
     "output_type": "stream",
     "text": [
      "C:\\Users\\Sam\\AppData\\Local\\Programs\\Python\\Python38\\lib\\site-packages\\sklearn\\linear_model\\_logistic.py:1106: UserWarning: l1_ratio parameter is only used when penalty is 'elasticnet'. Got (penalty=l2)\n",
      "  warnings.warn(\n"
     ]
    },
    {
     "name": "stdout",
     "output_type": "stream",
     "text": [
      "[CV 5/5; 16/50] END C=1.0, class_weight=balanced, l1_ratio=0.7, penalty=l2, solver=newton-cg;, score=0.114 total time=21.8min\n",
      "[CV 1/5; 17/50] START C=0.001, class_weight=None, l1_ratio=0.8, penalty=elasticnet, solver=sag\n",
      "[CV 1/5; 17/50] END C=0.001, class_weight=None, l1_ratio=0.8, penalty=elasticnet, solver=sag;, score=nan total time=   0.0s\n",
      "[CV 2/5; 17/50] START C=0.001, class_weight=None, l1_ratio=0.8, penalty=elasticnet, solver=sag\n",
      "[CV 2/5; 17/50] END C=0.001, class_weight=None, l1_ratio=0.8, penalty=elasticnet, solver=sag;, score=nan total time=   0.0s\n",
      "[CV 3/5; 17/50] START C=0.001, class_weight=None, l1_ratio=0.8, penalty=elasticnet, solver=sag\n",
      "[CV 3/5; 17/50] END C=0.001, class_weight=None, l1_ratio=0.8, penalty=elasticnet, solver=sag;, score=nan total time=   0.0s\n",
      "[CV 4/5; 17/50] START C=0.001, class_weight=None, l1_ratio=0.8, penalty=elasticnet, solver=sag\n",
      "[CV 4/5; 17/50] END C=0.001, class_weight=None, l1_ratio=0.8, penalty=elasticnet, solver=sag;, score=nan total time=   0.0s\n",
      "[CV 5/5; 17/50] START C=0.001, class_weight=None, l1_ratio=0.8, penalty=elasticnet, solver=sag\n",
      "[CV 5/5; 17/50] END C=0.001, class_weight=None, l1_ratio=0.8, penalty=elasticnet, solver=sag;, score=nan total time=   0.0s\n",
      "[CV 1/5; 18/50] START C=0.001, class_weight=balanced, l1_ratio=0.5, penalty=elasticnet, solver=newton-cg\n",
      "[CV 1/5; 18/50] END C=0.001, class_weight=balanced, l1_ratio=0.5, penalty=elasticnet, solver=newton-cg;, score=nan total time=   0.0s\n",
      "[CV 2/5; 18/50] START C=0.001, class_weight=balanced, l1_ratio=0.5, penalty=elasticnet, solver=newton-cg\n",
      "[CV 2/5; 18/50] END C=0.001, class_weight=balanced, l1_ratio=0.5, penalty=elasticnet, solver=newton-cg;, score=nan total time=   0.0s\n",
      "[CV 3/5; 18/50] START C=0.001, class_weight=balanced, l1_ratio=0.5, penalty=elasticnet, solver=newton-cg\n",
      "[CV 3/5; 18/50] END C=0.001, class_weight=balanced, l1_ratio=0.5, penalty=elasticnet, solver=newton-cg;, score=nan total time=   0.0s\n",
      "[CV 4/5; 18/50] START C=0.001, class_weight=balanced, l1_ratio=0.5, penalty=elasticnet, solver=newton-cg\n",
      "[CV 4/5; 18/50] END C=0.001, class_weight=balanced, l1_ratio=0.5, penalty=elasticnet, solver=newton-cg;, score=nan total time=   0.0s\n",
      "[CV 5/5; 18/50] START C=0.001, class_weight=balanced, l1_ratio=0.5, penalty=elasticnet, solver=newton-cg\n",
      "[CV 5/5; 18/50] END C=0.001, class_weight=balanced, l1_ratio=0.5, penalty=elasticnet, solver=newton-cg;, score=nan total time=   0.0s\n",
      "[CV 1/5; 19/50] START C=0.05, class_weight=balanced, l1_ratio=0.5, penalty=elasticnet, solver=newton-cg\n",
      "[CV 1/5; 19/50] END C=0.05, class_weight=balanced, l1_ratio=0.5, penalty=elasticnet, solver=newton-cg;, score=nan total time=   0.0s\n",
      "[CV 2/5; 19/50] START C=0.05, class_weight=balanced, l1_ratio=0.5, penalty=elasticnet, solver=newton-cg\n",
      "[CV 2/5; 19/50] END C=0.05, class_weight=balanced, l1_ratio=0.5, penalty=elasticnet, solver=newton-cg;, score=nan total time=   0.0s\n",
      "[CV 3/5; 19/50] START C=0.05, class_weight=balanced, l1_ratio=0.5, penalty=elasticnet, solver=newton-cg\n",
      "[CV 3/5; 19/50] END C=0.05, class_weight=balanced, l1_ratio=0.5, penalty=elasticnet, solver=newton-cg;, score=nan total time=   0.0s\n",
      "[CV 4/5; 19/50] START C=0.05, class_weight=balanced, l1_ratio=0.5, penalty=elasticnet, solver=newton-cg\n",
      "[CV 4/5; 19/50] END C=0.05, class_weight=balanced, l1_ratio=0.5, penalty=elasticnet, solver=newton-cg;, score=nan total time=   0.0s\n",
      "[CV 5/5; 19/50] START C=0.05, class_weight=balanced, l1_ratio=0.5, penalty=elasticnet, solver=newton-cg\n",
      "[CV 5/5; 19/50] END C=0.05, class_weight=balanced, l1_ratio=0.5, penalty=elasticnet, solver=newton-cg;, score=nan total time=   0.0s\n",
      "[CV 1/5; 20/50] START C=0.001, class_weight=None, l1_ratio=0.7, penalty=elasticnet, solver=saga\n",
      "[CV 1/5; 20/50] END C=0.001, class_weight=None, l1_ratio=0.7, penalty=elasticnet, solver=saga;, score=0.013 total time=  50.5s\n",
      "[CV 2/5; 20/50] START C=0.001, class_weight=None, l1_ratio=0.7, penalty=elasticnet, solver=saga\n",
      "[CV 2/5; 20/50] END C=0.001, class_weight=None, l1_ratio=0.7, penalty=elasticnet, solver=saga;, score=0.013 total time=  56.4s\n",
      "[CV 3/5; 20/50] START C=0.001, class_weight=None, l1_ratio=0.7, penalty=elasticnet, solver=saga\n",
      "[CV 3/5; 20/50] END C=0.001, class_weight=None, l1_ratio=0.7, penalty=elasticnet, solver=saga;, score=0.013 total time=  50.6s\n",
      "[CV 4/5; 20/50] START C=0.001, class_weight=None, l1_ratio=0.7, penalty=elasticnet, solver=saga\n",
      "[CV 4/5; 20/50] END C=0.001, class_weight=None, l1_ratio=0.7, penalty=elasticnet, solver=saga;, score=0.013 total time=  56.0s\n",
      "[CV 5/5; 20/50] START C=0.001, class_weight=None, l1_ratio=0.7, penalty=elasticnet, solver=saga\n",
      "[CV 5/5; 20/50] END C=0.001, class_weight=None, l1_ratio=0.7, penalty=elasticnet, solver=saga;, score=0.013 total time=  50.5s\n",
      "[CV 1/5; 21/50] START C=0.1, class_weight=balanced, l1_ratio=0.2, penalty=l2, solver=newton-cg\n"
     ]
    },
    {
     "name": "stderr",
     "output_type": "stream",
     "text": [
      "C:\\Users\\Sam\\AppData\\Local\\Programs\\Python\\Python38\\lib\\site-packages\\sklearn\\linear_model\\_logistic.py:1106: UserWarning: l1_ratio parameter is only used when penalty is 'elasticnet'. Got (penalty=l2)\n",
      "  warnings.warn(\n"
     ]
    },
    {
     "name": "stdout",
     "output_type": "stream",
     "text": [
      "[CV 1/5; 21/50] END C=0.1, class_weight=balanced, l1_ratio=0.2, penalty=l2, solver=newton-cg;, score=0.085 total time= 7.3min\n",
      "[CV 2/5; 21/50] START C=0.1, class_weight=balanced, l1_ratio=0.2, penalty=l2, solver=newton-cg\n"
     ]
    },
    {
     "name": "stderr",
     "output_type": "stream",
     "text": [
      "C:\\Users\\Sam\\AppData\\Local\\Programs\\Python\\Python38\\lib\\site-packages\\sklearn\\linear_model\\_logistic.py:1106: UserWarning: l1_ratio parameter is only used when penalty is 'elasticnet'. Got (penalty=l2)\n",
      "  warnings.warn(\n"
     ]
    },
    {
     "name": "stdout",
     "output_type": "stream",
     "text": [
      "[CV 2/5; 21/50] END C=0.1, class_weight=balanced, l1_ratio=0.2, penalty=l2, solver=newton-cg;, score=0.086 total time= 7.2min\n",
      "[CV 3/5; 21/50] START C=0.1, class_weight=balanced, l1_ratio=0.2, penalty=l2, solver=newton-cg\n"
     ]
    },
    {
     "name": "stderr",
     "output_type": "stream",
     "text": [
      "C:\\Users\\Sam\\AppData\\Local\\Programs\\Python\\Python38\\lib\\site-packages\\sklearn\\linear_model\\_logistic.py:1106: UserWarning: l1_ratio parameter is only used when penalty is 'elasticnet'. Got (penalty=l2)\n",
      "  warnings.warn(\n"
     ]
    },
    {
     "name": "stdout",
     "output_type": "stream",
     "text": [
      "[CV 3/5; 21/50] END C=0.1, class_weight=balanced, l1_ratio=0.2, penalty=l2, solver=newton-cg;, score=0.088 total time= 6.7min\n",
      "[CV 4/5; 21/50] START C=0.1, class_weight=balanced, l1_ratio=0.2, penalty=l2, solver=newton-cg\n"
     ]
    },
    {
     "name": "stderr",
     "output_type": "stream",
     "text": [
      "C:\\Users\\Sam\\AppData\\Local\\Programs\\Python\\Python38\\lib\\site-packages\\sklearn\\linear_model\\_logistic.py:1106: UserWarning: l1_ratio parameter is only used when penalty is 'elasticnet'. Got (penalty=l2)\n",
      "  warnings.warn(\n"
     ]
    },
    {
     "name": "stdout",
     "output_type": "stream",
     "text": [
      "[CV 4/5; 21/50] END C=0.1, class_weight=balanced, l1_ratio=0.2, penalty=l2, solver=newton-cg;, score=0.085 total time= 6.4min\n",
      "[CV 5/5; 21/50] START C=0.1, class_weight=balanced, l1_ratio=0.2, penalty=l2, solver=newton-cg\n"
     ]
    },
    {
     "name": "stderr",
     "output_type": "stream",
     "text": [
      "C:\\Users\\Sam\\AppData\\Local\\Programs\\Python\\Python38\\lib\\site-packages\\sklearn\\linear_model\\_logistic.py:1106: UserWarning: l1_ratio parameter is only used when penalty is 'elasticnet'. Got (penalty=l2)\n",
      "  warnings.warn(\n"
     ]
    },
    {
     "name": "stdout",
     "output_type": "stream",
     "text": [
      "[CV 5/5; 21/50] END C=0.1, class_weight=balanced, l1_ratio=0.2, penalty=l2, solver=newton-cg;, score=0.086 total time= 6.4min\n",
      "[CV 1/5; 22/50] START C=0.001, class_weight=balanced, l1_ratio=0.8, penalty=l2, solver=sag\n"
     ]
    },
    {
     "name": "stderr",
     "output_type": "stream",
     "text": [
      "C:\\Users\\Sam\\AppData\\Local\\Programs\\Python\\Python38\\lib\\site-packages\\sklearn\\linear_model\\_logistic.py:1106: UserWarning: l1_ratio parameter is only used when penalty is 'elasticnet'. Got (penalty=l2)\n",
      "  warnings.warn(\n"
     ]
    },
    {
     "name": "stdout",
     "output_type": "stream",
     "text": [
      "[CV 1/5; 22/50] END C=0.001, class_weight=balanced, l1_ratio=0.8, penalty=l2, solver=sag;, score=0.060 total time= 1.6min\n",
      "[CV 2/5; 22/50] START C=0.001, class_weight=balanced, l1_ratio=0.8, penalty=l2, solver=sag\n"
     ]
    },
    {
     "name": "stderr",
     "output_type": "stream",
     "text": [
      "C:\\Users\\Sam\\AppData\\Local\\Programs\\Python\\Python38\\lib\\site-packages\\sklearn\\linear_model\\_logistic.py:1106: UserWarning: l1_ratio parameter is only used when penalty is 'elasticnet'. Got (penalty=l2)\n",
      "  warnings.warn(\n"
     ]
    },
    {
     "name": "stdout",
     "output_type": "stream",
     "text": [
      "[CV 2/5; 22/50] END C=0.001, class_weight=balanced, l1_ratio=0.8, penalty=l2, solver=sag;, score=0.060 total time= 1.6min\n",
      "[CV 3/5; 22/50] START C=0.001, class_weight=balanced, l1_ratio=0.8, penalty=l2, solver=sag\n"
     ]
    },
    {
     "name": "stderr",
     "output_type": "stream",
     "text": [
      "C:\\Users\\Sam\\AppData\\Local\\Programs\\Python\\Python38\\lib\\site-packages\\sklearn\\linear_model\\_logistic.py:1106: UserWarning: l1_ratio parameter is only used when penalty is 'elasticnet'. Got (penalty=l2)\n",
      "  warnings.warn(\n"
     ]
    },
    {
     "name": "stdout",
     "output_type": "stream",
     "text": [
      "[CV 3/5; 22/50] END C=0.001, class_weight=balanced, l1_ratio=0.8, penalty=l2, solver=sag;, score=0.060 total time= 1.5min\n",
      "[CV 4/5; 22/50] START C=0.001, class_weight=balanced, l1_ratio=0.8, penalty=l2, solver=sag\n"
     ]
    },
    {
     "name": "stderr",
     "output_type": "stream",
     "text": [
      "C:\\Users\\Sam\\AppData\\Local\\Programs\\Python\\Python38\\lib\\site-packages\\sklearn\\linear_model\\_logistic.py:1106: UserWarning: l1_ratio parameter is only used when penalty is 'elasticnet'. Got (penalty=l2)\n",
      "  warnings.warn(\n"
     ]
    },
    {
     "name": "stdout",
     "output_type": "stream",
     "text": [
      "[CV 4/5; 22/50] END C=0.001, class_weight=balanced, l1_ratio=0.8, penalty=l2, solver=sag;, score=0.058 total time= 1.5min\n",
      "[CV 5/5; 22/50] START C=0.001, class_weight=balanced, l1_ratio=0.8, penalty=l2, solver=sag\n"
     ]
    },
    {
     "name": "stderr",
     "output_type": "stream",
     "text": [
      "C:\\Users\\Sam\\AppData\\Local\\Programs\\Python\\Python38\\lib\\site-packages\\sklearn\\linear_model\\_logistic.py:1106: UserWarning: l1_ratio parameter is only used when penalty is 'elasticnet'. Got (penalty=l2)\n",
      "  warnings.warn(\n"
     ]
    },
    {
     "name": "stdout",
     "output_type": "stream",
     "text": [
      "[CV 5/5; 22/50] END C=0.001, class_weight=balanced, l1_ratio=0.8, penalty=l2, solver=sag;, score=0.058 total time= 1.5min\n",
      "[CV 1/5; 23/50] START C=0.01, class_weight=None, l1_ratio=0.9, penalty=elasticnet, solver=newton-cg\n",
      "[CV 1/5; 23/50] END C=0.01, class_weight=None, l1_ratio=0.9, penalty=elasticnet, solver=newton-cg;, score=nan total time=   0.0s\n",
      "[CV 2/5; 23/50] START C=0.01, class_weight=None, l1_ratio=0.9, penalty=elasticnet, solver=newton-cg\n",
      "[CV 2/5; 23/50] END C=0.01, class_weight=None, l1_ratio=0.9, penalty=elasticnet, solver=newton-cg;, score=nan total time=   0.0s\n",
      "[CV 3/5; 23/50] START C=0.01, class_weight=None, l1_ratio=0.9, penalty=elasticnet, solver=newton-cg\n",
      "[CV 3/5; 23/50] END C=0.01, class_weight=None, l1_ratio=0.9, penalty=elasticnet, solver=newton-cg;, score=nan total time=   0.0s\n",
      "[CV 4/5; 23/50] START C=0.01, class_weight=None, l1_ratio=0.9, penalty=elasticnet, solver=newton-cg\n",
      "[CV 4/5; 23/50] END C=0.01, class_weight=None, l1_ratio=0.9, penalty=elasticnet, solver=newton-cg;, score=nan total time=   0.0s\n",
      "[CV 5/5; 23/50] START C=0.01, class_weight=None, l1_ratio=0.9, penalty=elasticnet, solver=newton-cg\n",
      "[CV 5/5; 23/50] END C=0.01, class_weight=None, l1_ratio=0.9, penalty=elasticnet, solver=newton-cg;, score=nan total time=   0.0s\n",
      "[CV 1/5; 24/50] START C=0.01, class_weight=None, l1_ratio=0.5, penalty=l2, solver=saga\n"
     ]
    },
    {
     "name": "stderr",
     "output_type": "stream",
     "text": [
      "C:\\Users\\Sam\\AppData\\Local\\Programs\\Python\\Python38\\lib\\site-packages\\sklearn\\linear_model\\_logistic.py:1106: UserWarning: l1_ratio parameter is only used when penalty is 'elasticnet'. Got (penalty=l2)\n",
      "  warnings.warn(\n"
     ]
    },
    {
     "name": "stdout",
     "output_type": "stream",
     "text": [
      "[CV 1/5; 24/50] END C=0.01, class_weight=None, l1_ratio=0.5, penalty=l2, solver=saga;, score=0.018 total time= 1.6min\n",
      "[CV 2/5; 24/50] START C=0.01, class_weight=None, l1_ratio=0.5, penalty=l2, solver=saga\n"
     ]
    },
    {
     "name": "stderr",
     "output_type": "stream",
     "text": [
      "C:\\Users\\Sam\\AppData\\Local\\Programs\\Python\\Python38\\lib\\site-packages\\sklearn\\linear_model\\_logistic.py:1106: UserWarning: l1_ratio parameter is only used when penalty is 'elasticnet'. Got (penalty=l2)\n",
      "  warnings.warn(\n"
     ]
    },
    {
     "name": "stdout",
     "output_type": "stream",
     "text": [
      "[CV 2/5; 24/50] END C=0.01, class_weight=None, l1_ratio=0.5, penalty=l2, solver=saga;, score=0.018 total time= 1.6min\n",
      "[CV 3/5; 24/50] START C=0.01, class_weight=None, l1_ratio=0.5, penalty=l2, solver=saga\n"
     ]
    },
    {
     "name": "stderr",
     "output_type": "stream",
     "text": [
      "C:\\Users\\Sam\\AppData\\Local\\Programs\\Python\\Python38\\lib\\site-packages\\sklearn\\linear_model\\_logistic.py:1106: UserWarning: l1_ratio parameter is only used when penalty is 'elasticnet'. Got (penalty=l2)\n",
      "  warnings.warn(\n"
     ]
    },
    {
     "name": "stdout",
     "output_type": "stream",
     "text": [
      "[CV 3/5; 24/50] END C=0.01, class_weight=None, l1_ratio=0.5, penalty=l2, solver=saga;, score=0.018 total time= 1.7min\n",
      "[CV 4/5; 24/50] START C=0.01, class_weight=None, l1_ratio=0.5, penalty=l2, solver=saga\n"
     ]
    },
    {
     "name": "stderr",
     "output_type": "stream",
     "text": [
      "C:\\Users\\Sam\\AppData\\Local\\Programs\\Python\\Python38\\lib\\site-packages\\sklearn\\linear_model\\_logistic.py:1106: UserWarning: l1_ratio parameter is only used when penalty is 'elasticnet'. Got (penalty=l2)\n",
      "  warnings.warn(\n"
     ]
    },
    {
     "name": "stdout",
     "output_type": "stream",
     "text": [
      "[CV 4/5; 24/50] END C=0.01, class_weight=None, l1_ratio=0.5, penalty=l2, solver=saga;, score=0.018 total time= 1.7min\n",
      "[CV 5/5; 24/50] START C=0.01, class_weight=None, l1_ratio=0.5, penalty=l2, solver=saga\n"
     ]
    },
    {
     "name": "stderr",
     "output_type": "stream",
     "text": [
      "C:\\Users\\Sam\\AppData\\Local\\Programs\\Python\\Python38\\lib\\site-packages\\sklearn\\linear_model\\_logistic.py:1106: UserWarning: l1_ratio parameter is only used when penalty is 'elasticnet'. Got (penalty=l2)\n",
      "  warnings.warn(\n"
     ]
    },
    {
     "name": "stdout",
     "output_type": "stream",
     "text": [
      "[CV 5/5; 24/50] END C=0.01, class_weight=None, l1_ratio=0.5, penalty=l2, solver=saga;, score=0.018 total time= 1.6min\n",
      "[CV 1/5; 25/50] START C=0.005, class_weight=None, l1_ratio=0.5, penalty=l2, solver=sag\n"
     ]
    },
    {
     "name": "stderr",
     "output_type": "stream",
     "text": [
      "C:\\Users\\Sam\\AppData\\Local\\Programs\\Python\\Python38\\lib\\site-packages\\sklearn\\linear_model\\_logistic.py:1106: UserWarning: l1_ratio parameter is only used when penalty is 'elasticnet'. Got (penalty=l2)\n",
      "  warnings.warn(\n"
     ]
    },
    {
     "name": "stdout",
     "output_type": "stream",
     "text": [
      "[CV 1/5; 25/50] END C=0.005, class_weight=None, l1_ratio=0.5, penalty=l2, solver=sag;, score=0.015 total time=  52.0s\n",
      "[CV 2/5; 25/50] START C=0.005, class_weight=None, l1_ratio=0.5, penalty=l2, solver=sag\n"
     ]
    },
    {
     "name": "stderr",
     "output_type": "stream",
     "text": [
      "C:\\Users\\Sam\\AppData\\Local\\Programs\\Python\\Python38\\lib\\site-packages\\sklearn\\linear_model\\_logistic.py:1106: UserWarning: l1_ratio parameter is only used when penalty is 'elasticnet'. Got (penalty=l2)\n",
      "  warnings.warn(\n"
     ]
    },
    {
     "name": "stdout",
     "output_type": "stream",
     "text": [
      "[CV 2/5; 25/50] END C=0.005, class_weight=None, l1_ratio=0.5, penalty=l2, solver=sag;, score=0.015 total time=  59.5s\n",
      "[CV 3/5; 25/50] START C=0.005, class_weight=None, l1_ratio=0.5, penalty=l2, solver=sag\n"
     ]
    },
    {
     "name": "stderr",
     "output_type": "stream",
     "text": [
      "C:\\Users\\Sam\\AppData\\Local\\Programs\\Python\\Python38\\lib\\site-packages\\sklearn\\linear_model\\_logistic.py:1106: UserWarning: l1_ratio parameter is only used when penalty is 'elasticnet'. Got (penalty=l2)\n",
      "  warnings.warn(\n"
     ]
    },
    {
     "name": "stdout",
     "output_type": "stream",
     "text": [
      "[CV 3/5; 25/50] END C=0.005, class_weight=None, l1_ratio=0.5, penalty=l2, solver=sag;, score=0.015 total time=  48.4s\n",
      "[CV 4/5; 25/50] START C=0.005, class_weight=None, l1_ratio=0.5, penalty=l2, solver=sag\n"
     ]
    },
    {
     "name": "stderr",
     "output_type": "stream",
     "text": [
      "C:\\Users\\Sam\\AppData\\Local\\Programs\\Python\\Python38\\lib\\site-packages\\sklearn\\linear_model\\_logistic.py:1106: UserWarning: l1_ratio parameter is only used when penalty is 'elasticnet'. Got (penalty=l2)\n",
      "  warnings.warn(\n"
     ]
    },
    {
     "name": "stdout",
     "output_type": "stream",
     "text": [
      "[CV 4/5; 25/50] END C=0.005, class_weight=None, l1_ratio=0.5, penalty=l2, solver=sag;, score=0.015 total time=  56.0s\n",
      "[CV 5/5; 25/50] START C=0.005, class_weight=None, l1_ratio=0.5, penalty=l2, solver=sag\n"
     ]
    },
    {
     "name": "stderr",
     "output_type": "stream",
     "text": [
      "C:\\Users\\Sam\\AppData\\Local\\Programs\\Python\\Python38\\lib\\site-packages\\sklearn\\linear_model\\_logistic.py:1106: UserWarning: l1_ratio parameter is only used when penalty is 'elasticnet'. Got (penalty=l2)\n",
      "  warnings.warn(\n"
     ]
    },
    {
     "name": "stdout",
     "output_type": "stream",
     "text": [
      "[CV 5/5; 25/50] END C=0.005, class_weight=None, l1_ratio=0.5, penalty=l2, solver=sag;, score=0.015 total time=  52.3s\n",
      "[CV 1/5; 26/50] START C=0.005, class_weight=None, l1_ratio=0.2, penalty=l2, solver=newton-cg\n"
     ]
    },
    {
     "name": "stderr",
     "output_type": "stream",
     "text": [
      "C:\\Users\\Sam\\AppData\\Local\\Programs\\Python\\Python38\\lib\\site-packages\\sklearn\\linear_model\\_logistic.py:1106: UserWarning: l1_ratio parameter is only used when penalty is 'elasticnet'. Got (penalty=l2)\n",
      "  warnings.warn(\n"
     ]
    },
    {
     "name": "stdout",
     "output_type": "stream",
     "text": [
      "[CV 1/5; 26/50] END C=0.005, class_weight=None, l1_ratio=0.2, penalty=l2, solver=newton-cg;, score=0.015 total time= 7.8min\n",
      "[CV 2/5; 26/50] START C=0.005, class_weight=None, l1_ratio=0.2, penalty=l2, solver=newton-cg\n"
     ]
    },
    {
     "name": "stderr",
     "output_type": "stream",
     "text": [
      "C:\\Users\\Sam\\AppData\\Local\\Programs\\Python\\Python38\\lib\\site-packages\\sklearn\\linear_model\\_logistic.py:1106: UserWarning: l1_ratio parameter is only used when penalty is 'elasticnet'. Got (penalty=l2)\n",
      "  warnings.warn(\n",
      "C:\\Users\\Sam\\AppData\\Local\\Programs\\Python\\Python38\\lib\\site-packages\\scipy\\optimize\\_linesearch.py:305: LineSearchWarning: The line search algorithm did not converge\n",
      "  warn('The line search algorithm did not converge', LineSearchWarning)\n",
      "C:\\Users\\Sam\\AppData\\Local\\Programs\\Python\\Python38\\lib\\site-packages\\sklearn\\utils\\optimize.py:203: UserWarning: Line Search failed\n",
      "  warnings.warn(\"Line Search failed\")\n"
     ]
    },
    {
     "name": "stdout",
     "output_type": "stream",
     "text": [
      "[CV 2/5; 26/50] END C=0.005, class_weight=None, l1_ratio=0.2, penalty=l2, solver=newton-cg;, score=0.015 total time=12.2min\n",
      "[CV 3/5; 26/50] START C=0.005, class_weight=None, l1_ratio=0.2, penalty=l2, solver=newton-cg\n"
     ]
    },
    {
     "name": "stderr",
     "output_type": "stream",
     "text": [
      "C:\\Users\\Sam\\AppData\\Local\\Programs\\Python\\Python38\\lib\\site-packages\\sklearn\\linear_model\\_logistic.py:1106: UserWarning: l1_ratio parameter is only used when penalty is 'elasticnet'. Got (penalty=l2)\n",
      "  warnings.warn(\n"
     ]
    },
    {
     "name": "stdout",
     "output_type": "stream",
     "text": [
      "[CV 3/5; 26/50] END C=0.005, class_weight=None, l1_ratio=0.2, penalty=l2, solver=newton-cg;, score=0.015 total time= 9.1min\n",
      "[CV 4/5; 26/50] START C=0.005, class_weight=None, l1_ratio=0.2, penalty=l2, solver=newton-cg\n"
     ]
    },
    {
     "name": "stderr",
     "output_type": "stream",
     "text": [
      "C:\\Users\\Sam\\AppData\\Local\\Programs\\Python\\Python38\\lib\\site-packages\\sklearn\\linear_model\\_logistic.py:1106: UserWarning: l1_ratio parameter is only used when penalty is 'elasticnet'. Got (penalty=l2)\n",
      "  warnings.warn(\n"
     ]
    },
    {
     "name": "stdout",
     "output_type": "stream",
     "text": [
      "[CV 4/5; 26/50] END C=0.005, class_weight=None, l1_ratio=0.2, penalty=l2, solver=newton-cg;, score=0.015 total time= 9.2min\n",
      "[CV 5/5; 26/50] START C=0.005, class_weight=None, l1_ratio=0.2, penalty=l2, solver=newton-cg\n"
     ]
    },
    {
     "name": "stderr",
     "output_type": "stream",
     "text": [
      "C:\\Users\\Sam\\AppData\\Local\\Programs\\Python\\Python38\\lib\\site-packages\\sklearn\\linear_model\\_logistic.py:1106: UserWarning: l1_ratio parameter is only used when penalty is 'elasticnet'. Got (penalty=l2)\n",
      "  warnings.warn(\n"
     ]
    },
    {
     "name": "stdout",
     "output_type": "stream",
     "text": [
      "[CV 5/5; 26/50] END C=0.005, class_weight=None, l1_ratio=0.2, penalty=l2, solver=newton-cg;, score=0.015 total time= 9.1min\n",
      "[CV 1/5; 27/50] START C=0.5, class_weight=None, l1_ratio=0.4, penalty=l2, solver=saga\n"
     ]
    },
    {
     "name": "stderr",
     "output_type": "stream",
     "text": [
      "C:\\Users\\Sam\\AppData\\Local\\Programs\\Python\\Python38\\lib\\site-packages\\sklearn\\linear_model\\_logistic.py:1106: UserWarning: l1_ratio parameter is only used when penalty is 'elasticnet'. Got (penalty=l2)\n",
      "  warnings.warn(\n"
     ]
    },
    {
     "name": "stdout",
     "output_type": "stream",
     "text": [
      "[CV 1/5; 27/50] END C=0.5, class_weight=None, l1_ratio=0.4, penalty=l2, solver=saga;, score=0.049 total time= 2.0min\n",
      "[CV 2/5; 27/50] START C=0.5, class_weight=None, l1_ratio=0.4, penalty=l2, solver=saga\n"
     ]
    },
    {
     "name": "stderr",
     "output_type": "stream",
     "text": [
      "C:\\Users\\Sam\\AppData\\Local\\Programs\\Python\\Python38\\lib\\site-packages\\sklearn\\linear_model\\_logistic.py:1106: UserWarning: l1_ratio parameter is only used when penalty is 'elasticnet'. Got (penalty=l2)\n",
      "  warnings.warn(\n"
     ]
    },
    {
     "name": "stdout",
     "output_type": "stream",
     "text": [
      "[CV 2/5; 27/50] END C=0.5, class_weight=None, l1_ratio=0.4, penalty=l2, solver=saga;, score=0.050 total time= 2.2min\n",
      "[CV 3/5; 27/50] START C=0.5, class_weight=None, l1_ratio=0.4, penalty=l2, solver=saga\n"
     ]
    },
    {
     "name": "stderr",
     "output_type": "stream",
     "text": [
      "C:\\Users\\Sam\\AppData\\Local\\Programs\\Python\\Python38\\lib\\site-packages\\sklearn\\linear_model\\_logistic.py:1106: UserWarning: l1_ratio parameter is only used when penalty is 'elasticnet'. Got (penalty=l2)\n",
      "  warnings.warn(\n"
     ]
    },
    {
     "name": "stdout",
     "output_type": "stream",
     "text": [
      "[CV 3/5; 27/50] END C=0.5, class_weight=None, l1_ratio=0.4, penalty=l2, solver=saga;, score=0.051 total time= 2.0min\n",
      "[CV 4/5; 27/50] START C=0.5, class_weight=None, l1_ratio=0.4, penalty=l2, solver=saga\n"
     ]
    },
    {
     "name": "stderr",
     "output_type": "stream",
     "text": [
      "C:\\Users\\Sam\\AppData\\Local\\Programs\\Python\\Python38\\lib\\site-packages\\sklearn\\linear_model\\_logistic.py:1106: UserWarning: l1_ratio parameter is only used when penalty is 'elasticnet'. Got (penalty=l2)\n",
      "  warnings.warn(\n"
     ]
    },
    {
     "name": "stdout",
     "output_type": "stream",
     "text": [
      "[CV 4/5; 27/50] END C=0.5, class_weight=None, l1_ratio=0.4, penalty=l2, solver=saga;, score=0.050 total time= 1.9min\n",
      "[CV 5/5; 27/50] START C=0.5, class_weight=None, l1_ratio=0.4, penalty=l2, solver=saga\n"
     ]
    },
    {
     "name": "stderr",
     "output_type": "stream",
     "text": [
      "C:\\Users\\Sam\\AppData\\Local\\Programs\\Python\\Python38\\lib\\site-packages\\sklearn\\linear_model\\_logistic.py:1106: UserWarning: l1_ratio parameter is only used when penalty is 'elasticnet'. Got (penalty=l2)\n",
      "  warnings.warn(\n"
     ]
    },
    {
     "name": "stdout",
     "output_type": "stream",
     "text": [
      "[CV 5/5; 27/50] END C=0.5, class_weight=None, l1_ratio=0.4, penalty=l2, solver=saga;, score=0.050 total time= 2.0min\n",
      "[CV 1/5; 28/50] START C=0.1, class_weight=balanced, l1_ratio=0.4, penalty=elasticnet, solver=sag\n",
      "[CV 1/5; 28/50] END C=0.1, class_weight=balanced, l1_ratio=0.4, penalty=elasticnet, solver=sag;, score=nan total time=   0.0s\n",
      "[CV 2/5; 28/50] START C=0.1, class_weight=balanced, l1_ratio=0.4, penalty=elasticnet, solver=sag\n",
      "[CV 2/5; 28/50] END C=0.1, class_weight=balanced, l1_ratio=0.4, penalty=elasticnet, solver=sag;, score=nan total time=   0.0s\n",
      "[CV 3/5; 28/50] START C=0.1, class_weight=balanced, l1_ratio=0.4, penalty=elasticnet, solver=sag\n",
      "[CV 3/5; 28/50] END C=0.1, class_weight=balanced, l1_ratio=0.4, penalty=elasticnet, solver=sag;, score=nan total time=   0.0s\n",
      "[CV 4/5; 28/50] START C=0.1, class_weight=balanced, l1_ratio=0.4, penalty=elasticnet, solver=sag\n",
      "[CV 4/5; 28/50] END C=0.1, class_weight=balanced, l1_ratio=0.4, penalty=elasticnet, solver=sag;, score=nan total time=   0.0s\n",
      "[CV 5/5; 28/50] START C=0.1, class_weight=balanced, l1_ratio=0.4, penalty=elasticnet, solver=sag\n",
      "[CV 5/5; 28/50] END C=0.1, class_weight=balanced, l1_ratio=0.4, penalty=elasticnet, solver=sag;, score=nan total time=   0.0s\n",
      "[CV 1/5; 29/50] START C=0.001, class_weight=None, l1_ratio=0.2, penalty=l2, solver=sag\n"
     ]
    },
    {
     "name": "stderr",
     "output_type": "stream",
     "text": [
      "C:\\Users\\Sam\\AppData\\Local\\Programs\\Python\\Python38\\lib\\site-packages\\sklearn\\linear_model\\_logistic.py:1106: UserWarning: l1_ratio parameter is only used when penalty is 'elasticnet'. Got (penalty=l2)\n",
      "  warnings.warn(\n"
     ]
    },
    {
     "name": "stdout",
     "output_type": "stream",
     "text": [
      "[CV 1/5; 29/50] END C=0.001, class_weight=None, l1_ratio=0.2, penalty=l2, solver=sag;, score=0.013 total time= 1.4min\n",
      "[CV 2/5; 29/50] START C=0.001, class_weight=None, l1_ratio=0.2, penalty=l2, solver=sag\n"
     ]
    },
    {
     "name": "stderr",
     "output_type": "stream",
     "text": [
      "C:\\Users\\Sam\\AppData\\Local\\Programs\\Python\\Python38\\lib\\site-packages\\sklearn\\linear_model\\_logistic.py:1106: UserWarning: l1_ratio parameter is only used when penalty is 'elasticnet'. Got (penalty=l2)\n",
      "  warnings.warn(\n"
     ]
    },
    {
     "name": "stdout",
     "output_type": "stream",
     "text": [
      "[CV 2/5; 29/50] END C=0.001, class_weight=None, l1_ratio=0.2, penalty=l2, solver=sag;, score=0.013 total time= 1.6min\n",
      "[CV 3/5; 29/50] START C=0.001, class_weight=None, l1_ratio=0.2, penalty=l2, solver=sag\n"
     ]
    },
    {
     "name": "stderr",
     "output_type": "stream",
     "text": [
      "C:\\Users\\Sam\\AppData\\Local\\Programs\\Python\\Python38\\lib\\site-packages\\sklearn\\linear_model\\_logistic.py:1106: UserWarning: l1_ratio parameter is only used when penalty is 'elasticnet'. Got (penalty=l2)\n",
      "  warnings.warn(\n"
     ]
    },
    {
     "name": "stdout",
     "output_type": "stream",
     "text": [
      "[CV 3/5; 29/50] END C=0.001, class_weight=None, l1_ratio=0.2, penalty=l2, solver=sag;, score=0.013 total time= 1.7min\n",
      "[CV 4/5; 29/50] START C=0.001, class_weight=None, l1_ratio=0.2, penalty=l2, solver=sag\n"
     ]
    },
    {
     "name": "stderr",
     "output_type": "stream",
     "text": [
      "C:\\Users\\Sam\\AppData\\Local\\Programs\\Python\\Python38\\lib\\site-packages\\sklearn\\linear_model\\_logistic.py:1106: UserWarning: l1_ratio parameter is only used when penalty is 'elasticnet'. Got (penalty=l2)\n",
      "  warnings.warn(\n"
     ]
    },
    {
     "name": "stdout",
     "output_type": "stream",
     "text": [
      "[CV 4/5; 29/50] END C=0.001, class_weight=None, l1_ratio=0.2, penalty=l2, solver=sag;, score=0.013 total time= 1.5min\n",
      "[CV 5/5; 29/50] START C=0.001, class_weight=None, l1_ratio=0.2, penalty=l2, solver=sag\n"
     ]
    },
    {
     "name": "stderr",
     "output_type": "stream",
     "text": [
      "C:\\Users\\Sam\\AppData\\Local\\Programs\\Python\\Python38\\lib\\site-packages\\sklearn\\linear_model\\_logistic.py:1106: UserWarning: l1_ratio parameter is only used when penalty is 'elasticnet'. Got (penalty=l2)\n",
      "  warnings.warn(\n"
     ]
    },
    {
     "name": "stdout",
     "output_type": "stream",
     "text": [
      "[CV 5/5; 29/50] END C=0.001, class_weight=None, l1_ratio=0.2, penalty=l2, solver=sag;, score=0.013 total time= 1.6min\n",
      "[CV 1/5; 30/50] START C=0.05, class_weight=None, l1_ratio=0.6, penalty=l2, solver=sag\n"
     ]
    },
    {
     "name": "stderr",
     "output_type": "stream",
     "text": [
      "C:\\Users\\Sam\\AppData\\Local\\Programs\\Python\\Python38\\lib\\site-packages\\sklearn\\linear_model\\_logistic.py:1106: UserWarning: l1_ratio parameter is only used when penalty is 'elasticnet'. Got (penalty=l2)\n",
      "  warnings.warn(\n"
     ]
    },
    {
     "name": "stdout",
     "output_type": "stream",
     "text": [
      "[CV 1/5; 30/50] END C=0.05, class_weight=None, l1_ratio=0.6, penalty=l2, solver=sag;, score=0.022 total time= 1.1min\n",
      "[CV 2/5; 30/50] START C=0.05, class_weight=None, l1_ratio=0.6, penalty=l2, solver=sag\n"
     ]
    },
    {
     "name": "stderr",
     "output_type": "stream",
     "text": [
      "C:\\Users\\Sam\\AppData\\Local\\Programs\\Python\\Python38\\lib\\site-packages\\sklearn\\linear_model\\_logistic.py:1106: UserWarning: l1_ratio parameter is only used when penalty is 'elasticnet'. Got (penalty=l2)\n",
      "  warnings.warn(\n"
     ]
    },
    {
     "name": "stdout",
     "output_type": "stream",
     "text": [
      "[CV 2/5; 30/50] END C=0.05, class_weight=None, l1_ratio=0.6, penalty=l2, solver=sag;, score=0.023 total time=  59.9s\n",
      "[CV 3/5; 30/50] START C=0.05, class_weight=None, l1_ratio=0.6, penalty=l2, solver=sag\n"
     ]
    },
    {
     "name": "stderr",
     "output_type": "stream",
     "text": [
      "C:\\Users\\Sam\\AppData\\Local\\Programs\\Python\\Python38\\lib\\site-packages\\sklearn\\linear_model\\_logistic.py:1106: UserWarning: l1_ratio parameter is only used when penalty is 'elasticnet'. Got (penalty=l2)\n",
      "  warnings.warn(\n"
     ]
    },
    {
     "name": "stdout",
     "output_type": "stream",
     "text": [
      "[CV 3/5; 30/50] END C=0.05, class_weight=None, l1_ratio=0.6, penalty=l2, solver=sag;, score=0.022 total time= 1.1min\n",
      "[CV 4/5; 30/50] START C=0.05, class_weight=None, l1_ratio=0.6, penalty=l2, solver=sag\n"
     ]
    },
    {
     "name": "stderr",
     "output_type": "stream",
     "text": [
      "C:\\Users\\Sam\\AppData\\Local\\Programs\\Python\\Python38\\lib\\site-packages\\sklearn\\linear_model\\_logistic.py:1106: UserWarning: l1_ratio parameter is only used when penalty is 'elasticnet'. Got (penalty=l2)\n",
      "  warnings.warn(\n"
     ]
    },
    {
     "name": "stdout",
     "output_type": "stream",
     "text": [
      "[CV 4/5; 30/50] END C=0.05, class_weight=None, l1_ratio=0.6, penalty=l2, solver=sag;, score=0.022 total time=  54.6s\n",
      "[CV 5/5; 30/50] START C=0.05, class_weight=None, l1_ratio=0.6, penalty=l2, solver=sag\n"
     ]
    },
    {
     "name": "stderr",
     "output_type": "stream",
     "text": [
      "C:\\Users\\Sam\\AppData\\Local\\Programs\\Python\\Python38\\lib\\site-packages\\sklearn\\linear_model\\_logistic.py:1106: UserWarning: l1_ratio parameter is only used when penalty is 'elasticnet'. Got (penalty=l2)\n",
      "  warnings.warn(\n"
     ]
    },
    {
     "name": "stdout",
     "output_type": "stream",
     "text": [
      "[CV 5/5; 30/50] END C=0.05, class_weight=None, l1_ratio=0.6, penalty=l2, solver=sag;, score=0.022 total time=  51.4s\n",
      "[CV 1/5; 31/50] START C=0.005, class_weight=balanced, l1_ratio=0.7, penalty=l2, solver=sag\n"
     ]
    },
    {
     "name": "stderr",
     "output_type": "stream",
     "text": [
      "C:\\Users\\Sam\\AppData\\Local\\Programs\\Python\\Python38\\lib\\site-packages\\sklearn\\linear_model\\_logistic.py:1106: UserWarning: l1_ratio parameter is only used when penalty is 'elasticnet'. Got (penalty=l2)\n",
      "  warnings.warn(\n"
     ]
    },
    {
     "name": "stdout",
     "output_type": "stream",
     "text": [
      "[CV 1/5; 31/50] END C=0.005, class_weight=balanced, l1_ratio=0.7, penalty=l2, solver=sag;, score=0.064 total time=  57.3s\n",
      "[CV 2/5; 31/50] START C=0.005, class_weight=balanced, l1_ratio=0.7, penalty=l2, solver=sag\n"
     ]
    },
    {
     "name": "stderr",
     "output_type": "stream",
     "text": [
      "C:\\Users\\Sam\\AppData\\Local\\Programs\\Python\\Python38\\lib\\site-packages\\sklearn\\linear_model\\_logistic.py:1106: UserWarning: l1_ratio parameter is only used when penalty is 'elasticnet'. Got (penalty=l2)\n",
      "  warnings.warn(\n"
     ]
    },
    {
     "name": "stdout",
     "output_type": "stream",
     "text": [
      "[CV 2/5; 31/50] END C=0.005, class_weight=balanced, l1_ratio=0.7, penalty=l2, solver=sag;, score=0.064 total time= 1.1min\n",
      "[CV 3/5; 31/50] START C=0.005, class_weight=balanced, l1_ratio=0.7, penalty=l2, solver=sag\n"
     ]
    },
    {
     "name": "stderr",
     "output_type": "stream",
     "text": [
      "C:\\Users\\Sam\\AppData\\Local\\Programs\\Python\\Python38\\lib\\site-packages\\sklearn\\linear_model\\_logistic.py:1106: UserWarning: l1_ratio parameter is only used when penalty is 'elasticnet'. Got (penalty=l2)\n",
      "  warnings.warn(\n"
     ]
    },
    {
     "name": "stdout",
     "output_type": "stream",
     "text": [
      "[CV 3/5; 31/50] END C=0.005, class_weight=balanced, l1_ratio=0.7, penalty=l2, solver=sag;, score=0.064 total time= 1.1min\n",
      "[CV 4/5; 31/50] START C=0.005, class_weight=balanced, l1_ratio=0.7, penalty=l2, solver=sag\n"
     ]
    },
    {
     "name": "stderr",
     "output_type": "stream",
     "text": [
      "C:\\Users\\Sam\\AppData\\Local\\Programs\\Python\\Python38\\lib\\site-packages\\sklearn\\linear_model\\_logistic.py:1106: UserWarning: l1_ratio parameter is only used when penalty is 'elasticnet'. Got (penalty=l2)\n",
      "  warnings.warn(\n"
     ]
    },
    {
     "name": "stdout",
     "output_type": "stream",
     "text": [
      "[CV 4/5; 31/50] END C=0.005, class_weight=balanced, l1_ratio=0.7, penalty=l2, solver=sag;, score=0.061 total time= 1.1min\n",
      "[CV 5/5; 31/50] START C=0.005, class_weight=balanced, l1_ratio=0.7, penalty=l2, solver=sag\n"
     ]
    },
    {
     "name": "stderr",
     "output_type": "stream",
     "text": [
      "C:\\Users\\Sam\\AppData\\Local\\Programs\\Python\\Python38\\lib\\site-packages\\sklearn\\linear_model\\_logistic.py:1106: UserWarning: l1_ratio parameter is only used when penalty is 'elasticnet'. Got (penalty=l2)\n",
      "  warnings.warn(\n"
     ]
    },
    {
     "name": "stdout",
     "output_type": "stream",
     "text": [
      "[CV 5/5; 31/50] END C=0.005, class_weight=balanced, l1_ratio=0.7, penalty=l2, solver=sag;, score=0.063 total time=  50.3s\n",
      "[CV 1/5; 32/50] START C=0.5, class_weight=balanced, l1_ratio=0.7, penalty=l2, solver=newton-cg\n"
     ]
    },
    {
     "name": "stderr",
     "output_type": "stream",
     "text": [
      "C:\\Users\\Sam\\AppData\\Local\\Programs\\Python\\Python38\\lib\\site-packages\\sklearn\\linear_model\\_logistic.py:1106: UserWarning: l1_ratio parameter is only used when penalty is 'elasticnet'. Got (penalty=l2)\n",
      "  warnings.warn(\n"
     ]
    },
    {
     "name": "stdout",
     "output_type": "stream",
     "text": [
      "[CV 1/5; 32/50] END C=0.5, class_weight=balanced, l1_ratio=0.7, penalty=l2, solver=newton-cg;, score=0.105 total time=18.6min\n",
      "[CV 2/5; 32/50] START C=0.5, class_weight=balanced, l1_ratio=0.7, penalty=l2, solver=newton-cg\n"
     ]
    },
    {
     "name": "stderr",
     "output_type": "stream",
     "text": [
      "C:\\Users\\Sam\\AppData\\Local\\Programs\\Python\\Python38\\lib\\site-packages\\sklearn\\linear_model\\_logistic.py:1106: UserWarning: l1_ratio parameter is only used when penalty is 'elasticnet'. Got (penalty=l2)\n",
      "  warnings.warn(\n"
     ]
    },
    {
     "name": "stdout",
     "output_type": "stream",
     "text": [
      "[CV 2/5; 32/50] END C=0.5, class_weight=balanced, l1_ratio=0.7, penalty=l2, solver=newton-cg;, score=0.105 total time=16.5min\n",
      "[CV 3/5; 32/50] START C=0.5, class_weight=balanced, l1_ratio=0.7, penalty=l2, solver=newton-cg\n"
     ]
    },
    {
     "name": "stderr",
     "output_type": "stream",
     "text": [
      "C:\\Users\\Sam\\AppData\\Local\\Programs\\Python\\Python38\\lib\\site-packages\\sklearn\\linear_model\\_logistic.py:1106: UserWarning: l1_ratio parameter is only used when penalty is 'elasticnet'. Got (penalty=l2)\n",
      "  warnings.warn(\n"
     ]
    },
    {
     "name": "stdout",
     "output_type": "stream",
     "text": [
      "[CV 3/5; 32/50] END C=0.5, class_weight=balanced, l1_ratio=0.7, penalty=l2, solver=newton-cg;, score=0.107 total time=17.9min\n",
      "[CV 4/5; 32/50] START C=0.5, class_weight=balanced, l1_ratio=0.7, penalty=l2, solver=newton-cg\n"
     ]
    },
    {
     "name": "stderr",
     "output_type": "stream",
     "text": [
      "C:\\Users\\Sam\\AppData\\Local\\Programs\\Python\\Python38\\lib\\site-packages\\sklearn\\linear_model\\_logistic.py:1106: UserWarning: l1_ratio parameter is only used when penalty is 'elasticnet'. Got (penalty=l2)\n",
      "  warnings.warn(\n"
     ]
    },
    {
     "name": "stdout",
     "output_type": "stream",
     "text": [
      "[CV 4/5; 32/50] END C=0.5, class_weight=balanced, l1_ratio=0.7, penalty=l2, solver=newton-cg;, score=0.104 total time=12.6min\n",
      "[CV 5/5; 32/50] START C=0.5, class_weight=balanced, l1_ratio=0.7, penalty=l2, solver=newton-cg\n"
     ]
    },
    {
     "name": "stderr",
     "output_type": "stream",
     "text": [
      "C:\\Users\\Sam\\AppData\\Local\\Programs\\Python\\Python38\\lib\\site-packages\\sklearn\\linear_model\\_logistic.py:1106: UserWarning: l1_ratio parameter is only used when penalty is 'elasticnet'. Got (penalty=l2)\n",
      "  warnings.warn(\n"
     ]
    },
    {
     "name": "stdout",
     "output_type": "stream",
     "text": [
      "[CV 5/5; 32/50] END C=0.5, class_weight=balanced, l1_ratio=0.7, penalty=l2, solver=newton-cg;, score=0.106 total time=14.0min\n",
      "[CV 1/5; 33/50] START C=0.1, class_weight=None, l1_ratio=0.9, penalty=elasticnet, solver=sag\n",
      "[CV 1/5; 33/50] END C=0.1, class_weight=None, l1_ratio=0.9, penalty=elasticnet, solver=sag;, score=nan total time=   0.0s\n",
      "[CV 2/5; 33/50] START C=0.1, class_weight=None, l1_ratio=0.9, penalty=elasticnet, solver=sag\n",
      "[CV 2/5; 33/50] END C=0.1, class_weight=None, l1_ratio=0.9, penalty=elasticnet, solver=sag;, score=nan total time=   0.0s\n",
      "[CV 3/5; 33/50] START C=0.1, class_weight=None, l1_ratio=0.9, penalty=elasticnet, solver=sag\n",
      "[CV 3/5; 33/50] END C=0.1, class_weight=None, l1_ratio=0.9, penalty=elasticnet, solver=sag;, score=nan total time=   0.0s\n",
      "[CV 4/5; 33/50] START C=0.1, class_weight=None, l1_ratio=0.9, penalty=elasticnet, solver=sag\n",
      "[CV 4/5; 33/50] END C=0.1, class_weight=None, l1_ratio=0.9, penalty=elasticnet, solver=sag;, score=nan total time=   0.0s\n",
      "[CV 5/5; 33/50] START C=0.1, class_weight=None, l1_ratio=0.9, penalty=elasticnet, solver=sag\n",
      "[CV 5/5; 33/50] END C=0.1, class_weight=None, l1_ratio=0.9, penalty=elasticnet, solver=sag;, score=nan total time=   0.0s\n",
      "[CV 1/5; 34/50] START C=0.5, class_weight=None, l1_ratio=0.7, penalty=elasticnet, solver=saga\n",
      "[CV 1/5; 34/50] END C=0.5, class_weight=None, l1_ratio=0.7, penalty=elasticnet, solver=saga;, score=0.063 total time=17.6min\n",
      "[CV 2/5; 34/50] START C=0.5, class_weight=None, l1_ratio=0.7, penalty=elasticnet, solver=saga\n",
      "[CV 2/5; 34/50] END C=0.5, class_weight=None, l1_ratio=0.7, penalty=elasticnet, solver=saga;, score=0.063 total time=16.1min\n",
      "[CV 3/5; 34/50] START C=0.5, class_weight=None, l1_ratio=0.7, penalty=elasticnet, solver=saga\n",
      "[CV 3/5; 34/50] END C=0.5, class_weight=None, l1_ratio=0.7, penalty=elasticnet, solver=saga;, score=0.065 total time=16.9min\n",
      "[CV 4/5; 34/50] START C=0.5, class_weight=None, l1_ratio=0.7, penalty=elasticnet, solver=saga\n",
      "[CV 4/5; 34/50] END C=0.5, class_weight=None, l1_ratio=0.7, penalty=elasticnet, solver=saga;, score=0.061 total time=19.0min\n",
      "[CV 5/5; 34/50] START C=0.5, class_weight=None, l1_ratio=0.7, penalty=elasticnet, solver=saga\n",
      "[CV 5/5; 34/50] END C=0.5, class_weight=None, l1_ratio=0.7, penalty=elasticnet, solver=saga;, score=0.060 total time=20.5min\n",
      "[CV 1/5; 35/50] START C=0.5, class_weight=None, l1_ratio=0.1, penalty=l2, solver=saga\n"
     ]
    },
    {
     "name": "stderr",
     "output_type": "stream",
     "text": [
      "C:\\Users\\Sam\\AppData\\Local\\Programs\\Python\\Python38\\lib\\site-packages\\sklearn\\linear_model\\_logistic.py:1106: UserWarning: l1_ratio parameter is only used when penalty is 'elasticnet'. Got (penalty=l2)\n",
      "  warnings.warn(\n"
     ]
    },
    {
     "name": "stdout",
     "output_type": "stream",
     "text": [
      "[CV 1/5; 35/50] END C=0.5, class_weight=None, l1_ratio=0.1, penalty=l2, solver=saga;, score=0.049 total time= 1.9min\n",
      "[CV 2/5; 35/50] START C=0.5, class_weight=None, l1_ratio=0.1, penalty=l2, solver=saga\n"
     ]
    },
    {
     "name": "stderr",
     "output_type": "stream",
     "text": [
      "C:\\Users\\Sam\\AppData\\Local\\Programs\\Python\\Python38\\lib\\site-packages\\sklearn\\linear_model\\_logistic.py:1106: UserWarning: l1_ratio parameter is only used when penalty is 'elasticnet'. Got (penalty=l2)\n",
      "  warnings.warn(\n"
     ]
    },
    {
     "name": "stdout",
     "output_type": "stream",
     "text": [
      "[CV 2/5; 35/50] END C=0.5, class_weight=None, l1_ratio=0.1, penalty=l2, solver=saga;, score=0.050 total time= 1.9min\n",
      "[CV 3/5; 35/50] START C=0.5, class_weight=None, l1_ratio=0.1, penalty=l2, solver=saga\n"
     ]
    },
    {
     "name": "stderr",
     "output_type": "stream",
     "text": [
      "C:\\Users\\Sam\\AppData\\Local\\Programs\\Python\\Python38\\lib\\site-packages\\sklearn\\linear_model\\_logistic.py:1106: UserWarning: l1_ratio parameter is only used when penalty is 'elasticnet'. Got (penalty=l2)\n",
      "  warnings.warn(\n"
     ]
    },
    {
     "name": "stdout",
     "output_type": "stream",
     "text": [
      "[CV 3/5; 35/50] END C=0.5, class_weight=None, l1_ratio=0.1, penalty=l2, solver=saga;, score=0.051 total time= 2.0min\n",
      "[CV 4/5; 35/50] START C=0.5, class_weight=None, l1_ratio=0.1, penalty=l2, solver=saga\n"
     ]
    },
    {
     "name": "stderr",
     "output_type": "stream",
     "text": [
      "C:\\Users\\Sam\\AppData\\Local\\Programs\\Python\\Python38\\lib\\site-packages\\sklearn\\linear_model\\_logistic.py:1106: UserWarning: l1_ratio parameter is only used when penalty is 'elasticnet'. Got (penalty=l2)\n",
      "  warnings.warn(\n"
     ]
    },
    {
     "name": "stdout",
     "output_type": "stream",
     "text": [
      "[CV 4/5; 35/50] END C=0.5, class_weight=None, l1_ratio=0.1, penalty=l2, solver=saga;, score=0.050 total time= 2.2min\n",
      "[CV 5/5; 35/50] START C=0.5, class_weight=None, l1_ratio=0.1, penalty=l2, solver=saga\n"
     ]
    },
    {
     "name": "stderr",
     "output_type": "stream",
     "text": [
      "C:\\Users\\Sam\\AppData\\Local\\Programs\\Python\\Python38\\lib\\site-packages\\sklearn\\linear_model\\_logistic.py:1106: UserWarning: l1_ratio parameter is only used when penalty is 'elasticnet'. Got (penalty=l2)\n",
      "  warnings.warn(\n"
     ]
    },
    {
     "name": "stdout",
     "output_type": "stream",
     "text": [
      "[CV 5/5; 35/50] END C=0.5, class_weight=None, l1_ratio=0.1, penalty=l2, solver=saga;, score=0.050 total time= 2.0min\n",
      "[CV 1/5; 36/50] START C=1.0, class_weight=balanced, l1_ratio=0.8, penalty=elasticnet, solver=saga\n"
     ]
    }
   ],
   "source": [
    "\n",
    "tuned_log_reg = RandomizedSearchCV(LogisticRegression(), \n",
    "                                   param_list, \n",
    "                                   verbose = 10,\n",
    "                                   scoring = make_scorer(f1_score, **{\"average\" : \"macro\"}),\n",
    "                                   n_iter = 50, # only few iterations because n_jobs = -1 crashes the notebook\n",
    "                                   #n_jobs = -1   \n",
    "                                  ).fit(X_train_tfidf, train_labels[ : -100_000].argmax(axis = 1))"
   ]
  },
  {
   "cell_type": "markdown",
   "id": "904dde44-5176-428d-9adc-17f825d75f90",
   "metadata": {},
   "source": [
    "My hp tuning got interrupted by something inside jupyter, so it froze and failed to complete\n",
    "\n",
    "I'll pick the one that appears best and move on : `C=1.0, class_weight=balanced, l1_ratio=0.2, penalty=l2, solver=saga`"
   ]
  },
  {
   "cell_type": "code",
   "execution_count": null,
   "id": "86a2dc06-8c4f-4aa0-bb3e-dd004740036a",
   "metadata": {},
   "outputs": [],
   "source": [
    "log_reg_tfidf_tuned = OneVsRestClassifier(\n",
    "    LogisticRegression(C = 1.0, \n",
    "                       class_weight = \"balanced\", \n",
    "                       #l1_ratio = 0.2, \n",
    "                       penalty = \"l2\", \n",
    "                       solver = \"saga\",\n",
    "                       max_iter = 500\n",
    "        )\n",
    "    ).fit(X_train_tfidf, train_labels[ : -100_000])"
   ]
  },
  {
   "cell_type": "code",
   "execution_count": null,
   "id": "26c910e9-a194-4dd1-8981-a1c301a9b5a9",
   "metadata": {},
   "outputs": [],
   "source": [
    "dump(log_reg_tfidf_tuned, \"tuned_clf.joblib\")"
   ]
  },
  {
   "cell_type": "markdown",
   "id": "25479970-ccd7-46e5-be86-0d852f194278",
   "metadata": {},
   "source": [
    "### D. Clearly print Performance Metrics. [2 Marks]"
   ]
  },
  {
   "cell_type": "markdown",
   "id": "d02e98ec-ce87-4826-bbfe-28cdb4eadd23",
   "metadata": {},
   "source": [
    "Performance on __training__ data"
   ]
  },
  {
   "cell_type": "code",
   "execution_count": null,
   "id": "53c63beb",
   "metadata": {},
   "outputs": [],
   "source": [
    "print(classification_report(test_labels[ : -100_000], tuned_log_reg_preds))\n",
    "print(f\"ROC_AUC score :\\t{roc_auc_score(test_labels[ : -100_000], tuned_log_reg_preds)}\")"
   ]
  },
  {
   "cell_type": "markdown",
   "id": "44581cde-8ec3-435e-870e-fb8c105a432e",
   "metadata": {},
   "source": [
    "```\n",
    "              precision    recall  f1-score   support\n",
    "\n",
    "           0       0.02      0.86      0.03      2404\n",
    "           1       0.01      0.92      0.02      3043\n",
    "           2       0.00      0.88      0.01       798\n",
    "           3       0.01      0.92      0.01      1061\n",
    "           4       0.11      0.75      0.19     21031\n",
    "           5       0.00      0.85      0.01       823\n",
    "           6       0.01      0.96      0.02      2565\n",
    "           7       0.01      0.85      0.02      1490\n",
    "           8       0.01      0.88      0.02      2901\n",
    "           9       0.01      0.93      0.02      2574\n",
    "          10       0.03      0.98      0.07     13062\n",
    "          11       0.07      0.39      0.12       677\n",
    "          12       0.01      0.98      0.02      3791\n",
    "          13       0.07      0.88      0.13     19212\n",
    "          14       0.47      0.18      0.26      7612\n",
    "          15       0.00      1.00      0.00       392\n",
    "          16       0.02      0.86      0.03      3160\n",
    "          17       0.29      0.28      0.28      4441\n",
    "          18       0.26      0.21      0.23      1931\n",
    "          19       0.24      0.32      0.27     10396\n",
    "          20       0.01      0.83      0.01       832\n",
    "          21       0.37      0.19      0.25      5844\n",
    "          22       0.03      0.60      0.05      1208\n",
    "          23       0.49      0.29      0.36      1507\n",
    "          24       0.75      0.32      0.45       179\n",
    "          25       0.02      0.76      0.04      3102\n",
    "          26       0.26      0.32      0.29      2037\n",
    "          27       0.01      0.87      0.02      1993\n",
    "          28       0.20      0.38      0.26      9543\n",
    "          29       0.03      0.88      0.05      5052\n",
    "          30       0.00      1.00      0.01      1863\n",
    "          31       0.02      0.84      0.05      3390\n",
    "          32       0.11      0.44      0.18      4748\n",
    "          33       0.00      1.00      0.01      1948\n",
    "          34       0.49      0.76      0.59     99802\n",
    "          35       0.32      0.46      0.38     27450\n",
    "          36       0.01      0.94      0.02      2529\n",
    "          37       1.00      0.00      0.00      1268\n",
    "          38       0.17      0.44      0.25      1411\n",
    "          39       0.59      0.71      0.64    162208\n",
    "\n",
    "   micro avg       0.05      0.69      0.10    441278\n",
    "   macro avg       0.16      0.67      0.14    441278\n",
    "weighted avg       0.39      0.69      0.44    441278\n",
    " samples avg       0.05      0.69      0.10    441278\n",
    "\n",
    "ROC_AUC score :\t0.6749733509951363\n",
    "```"
   ]
  },
  {
   "cell_type": "markdown",
   "id": "97edbaa8-8021-48be-9796-9a0bb75ac0ab",
   "metadata": {},
   "source": [
    "Performance on __testing__ data"
   ]
  },
  {
   "cell_type": "code",
   "execution_count": 3,
   "id": "39ae24cd-ce39-4913-9fb5-4dae893244ef",
   "metadata": {},
   "outputs": [
    {
     "ename": "NameError",
     "evalue": "name 'log_reg_tfidf_tuned' is not defined",
     "output_type": "error",
     "traceback": [
      "\u001b[1;31m---------------------------------------------------------------------------\u001b[0m",
      "\u001b[1;31mNameError\u001b[0m                                 Traceback (most recent call last)",
      "Input \u001b[1;32mIn [3]\u001b[0m, in \u001b[0;36m<cell line: 1>\u001b[1;34m()\u001b[0m\n\u001b[1;32m----> 1\u001b[0m tuned_log_reg_preds \u001b[38;5;241m=\u001b[39m \u001b[43mlog_reg_tfidf_tuned\u001b[49m\u001b[38;5;241m.\u001b[39mpredict(X_test_tfidf)\n\u001b[0;32m      2\u001b[0m \u001b[38;5;28mprint\u001b[39m(classification_report(test_labels[ : \u001b[38;5;241m-\u001b[39m\u001b[38;5;241m100_000\u001b[39m], tuned_log_reg_preds))\n\u001b[0;32m      3\u001b[0m \u001b[38;5;28mprint\u001b[39m(\u001b[38;5;124mf\u001b[39m\u001b[38;5;124m\"\u001b[39m\u001b[38;5;124mROC_AUC score :\u001b[39m\u001b[38;5;130;01m\\t\u001b[39;00m\u001b[38;5;132;01m{\u001b[39;00mroc_auc_score(test_labels[ : \u001b[38;5;241m-\u001b[39m\u001b[38;5;241m100_000\u001b[39m], tuned_log_reg_preds)\u001b[38;5;132;01m}\u001b[39;00m\u001b[38;5;124m\"\u001b[39m)\n",
      "\u001b[1;31mNameError\u001b[0m: name 'log_reg_tfidf_tuned' is not defined"
     ]
    },
    {
     "ename": "NameError",
     "evalue": "name 'log_reg_tfidf_tuned' is not defined",
     "output_type": "error",
     "traceback": [
      "\u001b[1;31m---------------------------------------------------------------------------\u001b[0m",
      "\u001b[1;31mNameError\u001b[0m                                 Traceback (most recent call last)",
      "Input \u001b[1;32mIn [3]\u001b[0m, in \u001b[0;36m<cell line: 1>\u001b[1;34m()\u001b[0m\n\u001b[1;32m----> 1\u001b[0m tuned_log_reg_preds \u001b[38;5;241m=\u001b[39m \u001b[43mlog_reg_tfidf_tuned\u001b[49m\u001b[38;5;241m.\u001b[39mpredict(X_test_tfidf)\n\u001b[0;32m      2\u001b[0m \u001b[38;5;28mprint\u001b[39m(classification_report(test_labels[ : \u001b[38;5;241m-\u001b[39m\u001b[38;5;241m100_000\u001b[39m], tuned_log_reg_preds))\n\u001b[0;32m      3\u001b[0m \u001b[38;5;28mprint\u001b[39m(\u001b[38;5;124mf\u001b[39m\u001b[38;5;124m\"\u001b[39m\u001b[38;5;124mROC_AUC score :\u001b[39m\u001b[38;5;130;01m\\t\u001b[39;00m\u001b[38;5;132;01m{\u001b[39;00mroc_auc_score(test_labels[ : \u001b[38;5;241m-\u001b[39m\u001b[38;5;241m100_000\u001b[39m], tuned_log_reg_preds)\u001b[38;5;132;01m}\u001b[39;00m\u001b[38;5;124m\"\u001b[39m)\n",
      "\u001b[1;31mNameError\u001b[0m: name 'log_reg_tfidf_tuned' is not defined"
     ]
    }
   ],
   "source": [
    "tuned_log_reg_preds = log_reg_tfidf_tuned.predict(X_test_tfidf)\n",
    "print(classification_report(test_labels[ : -100_000], tuned_log_reg_preds))\n",
    "print(f\"ROC_AUC score :\\t{roc_auc_score(test_labels[ : -100_000], tuned_log_reg_preds)}\")\n"
   ]
  },
  {
   "cell_type": "markdown",
   "id": "e69d210c-7a61-4738-a4e7-7e202679a765",
   "metadata": {},
   "source": [
    "### 5. Share insights on relative performance comparison [8 Marks]"
   ]
  },
  {
   "cell_type": "markdown",
   "id": "77a10720-dfa7-4e6d-bb77-de665fef04dd",
   "metadata": {},
   "source": [
    "#### A. Which vectorizer performed better? Probable reason?."
   ]
  },
  {
   "cell_type": "markdown",
   "id": "86c08e2a-d7d9-4951-8239-65b10dc4b974",
   "metadata": {},
   "source": [
    "- The original model performed poorly, even though I used a much more robust vectorizer like `glove`, and even the entire training dataset via libraries like `hdf5`\n",
    "- It's possible the performance could've improved by hyperparameter tuning, but that is infeasible for me, it took 6-8 hours just to train that model, and tuned parameters trained on a smaller dataset don't translate properly to the larger dataset either\n",
    "- The data was then vectorized with `Bow (1, 2)-grams` and `tf_idf 1-gram` vectorizers. neither vectorizer improved performance by themselves, although a relatively large subset of the data could now be stored in memory by `tf_idf 1-gram`.\n",
    "- Overall `tf_idf 1-gram` became the preferred vectorizer by virtue of not crashing my machine when I used it"
   ]
  },
  {
   "cell_type": "markdown",
   "id": "a3ccbd2f-8624-423e-810b-eabab31ecc1a",
   "metadata": {},
   "source": [
    "####  B. Which model outperformed? Probable reason? [2 Marks]"
   ]
  },
  {
   "cell_type": "markdown",
   "id": "f30902cc-e0fb-46d3-8e89-0d89de342c4e",
   "metadata": {},
   "source": [
    "- Tuned `SGD Logistic Regression` trained on subset of data outperformed `SGD linear SVC` trained on entire data\n",
    "- I don't know if one model is strictly better than the other sicne they both trained on different representations of the data, and the cost of computing on the `glove` vectorized dataset is too expensive for me to try again\n",
    "- However, the __reason__ why LR outdid SVM seems to be because of better data vectorization in `LR` since I'm seeing othe people's code where using `glove` and/or `word2vec` hurt performance for them as well"
   ]
  },
  {
   "cell_type": "markdown",
   "id": "541ec2c4-660a-41b4-88d6-abb3c3ef1e9d",
   "metadata": {},
   "source": [
    "### C. Which parameter/hyperparameter significantly helped to improve performance?Probable reason?. [2 Marks]"
   ]
  },
  {
   "cell_type": "markdown",
   "id": "6d7b5950-b1a3-4668-8711-76447c3792d5",
   "metadata": {},
   "source": [
    "- The `loss` hyperparameter seems among the most significant, since it actually seems to take the `SGD` nature of the classifier into account, unlike the others\n",
    "- The second would be `class_weights`, important since the dataset is very imbalanced"
   ]
  },
  {
   "cell_type": "markdown",
   "id": "05d7187b-b064-4fc8-9891-eaa18acb8ea9",
   "metadata": {},
   "source": [
    "### D. According to you, which performance metric should be given most importance, why?. [2 Marks]"
   ]
  },
  {
   "cell_type": "markdown",
   "id": "a65bf716-1f4a-4f00-8e51-711f7b854fff",
   "metadata": {},
   "source": [
    "- `f1-score`, since we need to somehow account for the fact that the data is very imbalanced, resulting in a dumb classifier easily getting 30%+ accuracy by simply classifying every point as `39` in the test dataset\n"
   ]
  },
  {
   "cell_type": "markdown",
   "id": "4720e13f-40b4-469c-bf2a-90073a2f9c55",
   "metadata": {},
   "source": [
    "# Part B - 20 Marks"
   ]
  },
  {
   "cell_type": "markdown",
   "id": "85f4bdb8-54e8-4a9c-8a09-e7b95c382013",
   "metadata": {},
   "source": [
    "__DOMAIN__: Customer support"
   ]
  },
  {
   "cell_type": "markdown",
   "id": "36c2360b-24fb-4ee7-a433-297e3d54ceba",
   "metadata": {},
   "source": [
    "__CONTEXT__: Great Learning has a an academic support department which receives numerous support requests every day throughout the year.Teams are spread across geographies and try to provide support round the year. Sometimes there are circumstances where due to heavy workload certain request resolutions are delayed, impacting company’s business. Some of the requests are very generic where a proper resolution procedure delivered to the user can solve the problem. Company is looking forward to design an automation which can interact with the user, understand the problem and display the resolution procedure (if found as a generic request) or redirect the request to an actual human support executive if the request is complex or not in it’s database."
   ]
  },
  {
   "cell_type": "markdown",
   "id": "db1d7b08-ab6f-4091-aefe-693467ee3f8b",
   "metadata": {},
   "source": [
    "__DATA DESCRIPTION__: A sample corpus is attached for your reference. Please enhance/add more data to the corpus using your linguistics skills."
   ]
  },
  {
   "cell_type": "markdown",
   "id": "dc9bcf83-2eeb-4b79-b7e3-d9157eeebc2e",
   "metadata": {},
   "source": [
    "__PROJECT OBJECTIVE__: Design a python based interactive semi - rule based chatbot which can do the following:\n",
    "1. Start chat session with greetings and ask what the user is looking for. [5 Marks]\n",
    "2. Accept dynamic text based questions from the user. Reply back with relevant answer from the designed corpus. [10 Marks]\n",
    "3. End the chat session only if the user requests to end else ask what the user is looking for. Loop continues till the user asks to end it. [5 Marks]"
   ]
  },
  {
   "cell_type": "code",
   "execution_count": 9,
   "id": "0622da66",
   "metadata": {},
   "outputs": [
    {
     "name": "stdout",
     "output_type": "stream",
     "text": [
      "Collecting en-core-web-lg==3.4.0\n",
      "  Downloading https://github.com/explosion/spacy-models/releases/download/en_core_web_lg-3.4.0/en_core_web_lg-3.4.0-py3-none-any.whl (587.7 MB)\n",
      "     -------------------------------------- 587.7/587.7 MB 1.4 MB/s eta 0:00:00\n",
      "Requirement already satisfied: spacy<3.5.0,>=3.4.0 in c:\\users\\sam\\appdata\\local\\programs\\python\\python38\\lib\\site-packages (from en-core-web-lg==3.4.0) (3.4.1)\n",
      "Requirement already satisfied: tqdm<5.0.0,>=4.38.0 in c:\\users\\sam\\appdata\\local\\programs\\python\\python38\\lib\\site-packages (from spacy<3.5.0,>=3.4.0->en-core-web-lg==3.4.0) (4.64.0)\n",
      "Requirement already satisfied: thinc<8.2.0,>=8.1.0 in c:\\users\\sam\\appdata\\local\\programs\\python\\python38\\lib\\site-packages (from spacy<3.5.0,>=3.4.0->en-core-web-lg==3.4.0) (8.1.0)\n",
      "Requirement already satisfied: wasabi<1.1.0,>=0.9.1 in c:\\users\\sam\\appdata\\local\\programs\\python\\python38\\lib\\site-packages (from spacy<3.5.0,>=3.4.0->en-core-web-lg==3.4.0) (0.10.1)\n",
      "Requirement already satisfied: srsly<3.0.0,>=2.4.3 in c:\\users\\sam\\appdata\\local\\programs\\python\\python38\\lib\\site-packages (from spacy<3.5.0,>=3.4.0->en-core-web-lg==3.4.0) (2.4.4)\n",
      "Requirement already satisfied: typer<0.5.0,>=0.3.0 in c:\\users\\sam\\appdata\\local\\programs\\python\\python38\\lib\\site-packages (from spacy<3.5.0,>=3.4.0->en-core-web-lg==3.4.0) (0.4.2)\n",
      "Requirement already satisfied: spacy-legacy<3.1.0,>=3.0.9 in c:\\users\\sam\\appdata\\local\\programs\\python\\python38\\lib\\site-packages (from spacy<3.5.0,>=3.4.0->en-core-web-lg==3.4.0) (3.0.10)\n",
      "Requirement already satisfied: numpy>=1.15.0 in c:\\users\\sam\\appdata\\local\\programs\\python\\python38\\lib\\site-packages (from spacy<3.5.0,>=3.4.0->en-core-web-lg==3.4.0) (1.23.2)\n",
      "Requirement already satisfied: cymem<2.1.0,>=2.0.2 in c:\\users\\sam\\appdata\\local\\programs\\python\\python38\\lib\\site-packages (from spacy<3.5.0,>=3.4.0->en-core-web-lg==3.4.0) (2.0.6)\n",
      "Requirement already satisfied: catalogue<2.1.0,>=2.0.6 in c:\\users\\sam\\appdata\\local\\programs\\python\\python38\\lib\\site-packages (from spacy<3.5.0,>=3.4.0->en-core-web-lg==3.4.0) (2.0.8)\n",
      "Requirement already satisfied: pathy>=0.3.5 in c:\\users\\sam\\appdata\\local\\programs\\python\\python38\\lib\\site-packages (from spacy<3.5.0,>=3.4.0->en-core-web-lg==3.4.0) (0.6.2)\n",
      "Requirement already satisfied: preshed<3.1.0,>=3.0.2 in c:\\users\\sam\\appdata\\local\\programs\\python\\python38\\lib\\site-packages (from spacy<3.5.0,>=3.4.0->en-core-web-lg==3.4.0) (3.0.7)\n",
      "Requirement already satisfied: pydantic!=1.8,!=1.8.1,<1.10.0,>=1.7.4 in c:\\users\\sam\\appdata\\local\\programs\\python\\python38\\lib\\site-packages (from spacy<3.5.0,>=3.4.0->en-core-web-lg==3.4.0) (1.9.2)\n",
      "Requirement already satisfied: murmurhash<1.1.0,>=0.28.0 in c:\\users\\sam\\appdata\\local\\programs\\python\\python38\\lib\\site-packages (from spacy<3.5.0,>=3.4.0->en-core-web-lg==3.4.0) (1.0.8)\n",
      "Requirement already satisfied: packaging>=20.0 in c:\\users\\sam\\appdata\\local\\programs\\python\\python38\\lib\\site-packages (from spacy<3.5.0,>=3.4.0->en-core-web-lg==3.4.0) (21.3)\n",
      "Requirement already satisfied: requests<3.0.0,>=2.13.0 in c:\\users\\sam\\appdata\\local\\programs\\python\\python38\\lib\\site-packages (from spacy<3.5.0,>=3.4.0->en-core-web-lg==3.4.0) (2.21.0)\n",
      "Requirement already satisfied: langcodes<4.0.0,>=3.2.0 in c:\\users\\sam\\appdata\\local\\programs\\python\\python38\\lib\\site-packages (from spacy<3.5.0,>=3.4.0->en-core-web-lg==3.4.0) (3.3.0)\n",
      "Requirement already satisfied: spacy-loggers<2.0.0,>=1.0.0 in c:\\users\\sam\\appdata\\local\\programs\\python\\python38\\lib\\site-packages (from spacy<3.5.0,>=3.4.0->en-core-web-lg==3.4.0) (1.0.3)\n",
      "Requirement already satisfied: setuptools in c:\\users\\sam\\appdata\\local\\programs\\python\\python38\\lib\\site-packages (from spacy<3.5.0,>=3.4.0->en-core-web-lg==3.4.0) (49.2.1)\n",
      "Requirement already satisfied: jinja2 in c:\\users\\sam\\appdata\\local\\programs\\python\\python38\\lib\\site-packages (from spacy<3.5.0,>=3.4.0->en-core-web-lg==3.4.0) (3.1.2)\n",
      "Requirement already satisfied: pyparsing!=3.0.5,>=2.0.2 in c:\\users\\sam\\appdata\\local\\programs\\python\\python38\\lib\\site-packages (from packaging>=20.0->spacy<3.5.0,>=3.4.0->en-core-web-lg==3.4.0) (3.0.9)\n",
      "Requirement already satisfied: smart-open<6.0.0,>=5.2.1 in c:\\users\\sam\\appdata\\local\\programs\\python\\python38\\lib\\site-packages (from pathy>=0.3.5->spacy<3.5.0,>=3.4.0->en-core-web-lg==3.4.0) (5.2.1)\n",
      "Requirement already satisfied: typing-extensions>=3.7.4.3 in c:\\users\\sam\\appdata\\local\\programs\\python\\python38\\lib\\site-packages (from pydantic!=1.8,!=1.8.1,<1.10.0,>=1.7.4->spacy<3.5.0,>=3.4.0->en-core-web-lg==3.4.0) (4.3.0)\n",
      "Requirement already satisfied: idna<2.9,>=2.5 in c:\\users\\sam\\appdata\\local\\programs\\python\\python38\\lib\\site-packages (from requests<3.0.0,>=2.13.0->spacy<3.5.0,>=3.4.0->en-core-web-lg==3.4.0) (2.8)\n",
      "Requirement already satisfied: chardet<3.1.0,>=3.0.2 in c:\\users\\sam\\appdata\\local\\programs\\python\\python38\\lib\\site-packages (from requests<3.0.0,>=2.13.0->spacy<3.5.0,>=3.4.0->en-core-web-lg==3.4.0) (3.0.4)\n",
      "Requirement already satisfied: certifi>=2017.4.17 in c:\\users\\sam\\appdata\\local\\programs\\python\\python38\\lib\\site-packages (from requests<3.0.0,>=2.13.0->spacy<3.5.0,>=3.4.0->en-core-web-lg==3.4.0) (2022.6.15)\n",
      "Requirement already satisfied: urllib3<1.25,>=1.21.1 in c:\\users\\sam\\appdata\\local\\programs\\python\\python38\\lib\\site-packages (from requests<3.0.0,>=2.13.0->spacy<3.5.0,>=3.4.0->en-core-web-lg==3.4.0) (1.24.3)\n",
      "Requirement already satisfied: blis<0.8.0,>=0.7.8 in c:\\users\\sam\\appdata\\local\\programs\\python\\python38\\lib\\site-packages (from thinc<8.2.0,>=8.1.0->spacy<3.5.0,>=3.4.0->en-core-web-lg==3.4.0) (0.7.8)\n",
      "Requirement already satisfied: colorama in c:\\users\\sam\\appdata\\local\\programs\\python\\python38\\lib\\site-packages (from tqdm<5.0.0,>=4.38.0->spacy<3.5.0,>=3.4.0->en-core-web-lg==3.4.0) (0.4.5)\n",
      "Requirement already satisfied: click<9.0.0,>=7.1.1 in c:\\users\\sam\\appdata\\local\\programs\\python\\python38\\lib\\site-packages (from typer<0.5.0,>=0.3.0->spacy<3.5.0,>=3.4.0->en-core-web-lg==3.4.0) (8.1.3)\n",
      "Requirement already satisfied: MarkupSafe>=2.0 in c:\\users\\sam\\appdata\\local\\programs\\python\\python38\\lib\\site-packages (from jinja2->spacy<3.5.0,>=3.4.0->en-core-web-lg==3.4.0) (2.1.1)\n",
      "Installing collected packages: en-core-web-lg\n",
      "Successfully installed en-core-web-lg-3.4.0\n",
      "[+] Download and installation successful\n",
      "You can now load the package via spacy.load('en_core_web_lg')\n"
     ]
    },
    {
     "name": "stderr",
     "output_type": "stream",
     "text": [
      "2022-09-07 21:46:22.618957: W tensorflow/stream_executor/platform/default/dso_loader.cc:64] Could not load dynamic library 'cudart64_110.dll'; dlerror: cudart64_110.dll not found\n",
      "2022-09-07 21:46:22.618998: I tensorflow/stream_executor/cuda/cudart_stub.cc:29] Ignore above cudart dlerror if you do not have a GPU set up on your machine.\n",
      "2022-09-07 21:46:26.156122: W tensorflow/stream_executor/platform/default/dso_loader.cc:64] Could not load dynamic library 'nvcuda.dll'; dlerror: nvcuda.dll not found\n",
      "2022-09-07 21:46:26.156148: W tensorflow/stream_executor/cuda/cuda_driver.cc:269] failed call to cuInit: UNKNOWN ERROR (303)\n",
      "2022-09-07 21:46:26.162703: I tensorflow/stream_executor/cuda/cuda_diagnostics.cc:169] retrieving CUDA diagnostic information for host: Sam\n",
      "2022-09-07 21:46:26.162890: I tensorflow/stream_executor/cuda/cuda_diagnostics.cc:176] hostname: Sam\n"
     ]
    },
    {
     "name": "stdout",
     "output_type": "stream",
     "text": [
      "Collecting en-core-web-lg==3.4.0\n",
      "  Downloading https://github.com/explosion/spacy-models/releases/download/en_core_web_lg-3.4.0/en_core_web_lg-3.4.0-py3-none-any.whl (587.7 MB)\n",
      "     -------------------------------------- 587.7/587.7 MB 1.4 MB/s eta 0:00:00\n",
      "Requirement already satisfied: spacy<3.5.0,>=3.4.0 in c:\\users\\sam\\appdata\\local\\programs\\python\\python38\\lib\\site-packages (from en-core-web-lg==3.4.0) (3.4.1)\n",
      "Requirement already satisfied: tqdm<5.0.0,>=4.38.0 in c:\\users\\sam\\appdata\\local\\programs\\python\\python38\\lib\\site-packages (from spacy<3.5.0,>=3.4.0->en-core-web-lg==3.4.0) (4.64.0)\n",
      "Requirement already satisfied: thinc<8.2.0,>=8.1.0 in c:\\users\\sam\\appdata\\local\\programs\\python\\python38\\lib\\site-packages (from spacy<3.5.0,>=3.4.0->en-core-web-lg==3.4.0) (8.1.0)\n",
      "Requirement already satisfied: wasabi<1.1.0,>=0.9.1 in c:\\users\\sam\\appdata\\local\\programs\\python\\python38\\lib\\site-packages (from spacy<3.5.0,>=3.4.0->en-core-web-lg==3.4.0) (0.10.1)\n",
      "Requirement already satisfied: srsly<3.0.0,>=2.4.3 in c:\\users\\sam\\appdata\\local\\programs\\python\\python38\\lib\\site-packages (from spacy<3.5.0,>=3.4.0->en-core-web-lg==3.4.0) (2.4.4)\n",
      "Requirement already satisfied: typer<0.5.0,>=0.3.0 in c:\\users\\sam\\appdata\\local\\programs\\python\\python38\\lib\\site-packages (from spacy<3.5.0,>=3.4.0->en-core-web-lg==3.4.0) (0.4.2)\n",
      "Requirement already satisfied: spacy-legacy<3.1.0,>=3.0.9 in c:\\users\\sam\\appdata\\local\\programs\\python\\python38\\lib\\site-packages (from spacy<3.5.0,>=3.4.0->en-core-web-lg==3.4.0) (3.0.10)\n",
      "Requirement already satisfied: numpy>=1.15.0 in c:\\users\\sam\\appdata\\local\\programs\\python\\python38\\lib\\site-packages (from spacy<3.5.0,>=3.4.0->en-core-web-lg==3.4.0) (1.23.2)\n",
      "Requirement already satisfied: cymem<2.1.0,>=2.0.2 in c:\\users\\sam\\appdata\\local\\programs\\python\\python38\\lib\\site-packages (from spacy<3.5.0,>=3.4.0->en-core-web-lg==3.4.0) (2.0.6)\n",
      "Requirement already satisfied: catalogue<2.1.0,>=2.0.6 in c:\\users\\sam\\appdata\\local\\programs\\python\\python38\\lib\\site-packages (from spacy<3.5.0,>=3.4.0->en-core-web-lg==3.4.0) (2.0.8)\n",
      "Requirement already satisfied: pathy>=0.3.5 in c:\\users\\sam\\appdata\\local\\programs\\python\\python38\\lib\\site-packages (from spacy<3.5.0,>=3.4.0->en-core-web-lg==3.4.0) (0.6.2)\n",
      "Requirement already satisfied: preshed<3.1.0,>=3.0.2 in c:\\users\\sam\\appdata\\local\\programs\\python\\python38\\lib\\site-packages (from spacy<3.5.0,>=3.4.0->en-core-web-lg==3.4.0) (3.0.7)\n",
      "Requirement already satisfied: pydantic!=1.8,!=1.8.1,<1.10.0,>=1.7.4 in c:\\users\\sam\\appdata\\local\\programs\\python\\python38\\lib\\site-packages (from spacy<3.5.0,>=3.4.0->en-core-web-lg==3.4.0) (1.9.2)\n",
      "Requirement already satisfied: murmurhash<1.1.0,>=0.28.0 in c:\\users\\sam\\appdata\\local\\programs\\python\\python38\\lib\\site-packages (from spacy<3.5.0,>=3.4.0->en-core-web-lg==3.4.0) (1.0.8)\n",
      "Requirement already satisfied: packaging>=20.0 in c:\\users\\sam\\appdata\\local\\programs\\python\\python38\\lib\\site-packages (from spacy<3.5.0,>=3.4.0->en-core-web-lg==3.4.0) (21.3)\n",
      "Requirement already satisfied: requests<3.0.0,>=2.13.0 in c:\\users\\sam\\appdata\\local\\programs\\python\\python38\\lib\\site-packages (from spacy<3.5.0,>=3.4.0->en-core-web-lg==3.4.0) (2.21.0)\n",
      "Requirement already satisfied: langcodes<4.0.0,>=3.2.0 in c:\\users\\sam\\appdata\\local\\programs\\python\\python38\\lib\\site-packages (from spacy<3.5.0,>=3.4.0->en-core-web-lg==3.4.0) (3.3.0)\n",
      "Requirement already satisfied: spacy-loggers<2.0.0,>=1.0.0 in c:\\users\\sam\\appdata\\local\\programs\\python\\python38\\lib\\site-packages (from spacy<3.5.0,>=3.4.0->en-core-web-lg==3.4.0) (1.0.3)\n",
      "Requirement already satisfied: setuptools in c:\\users\\sam\\appdata\\local\\programs\\python\\python38\\lib\\site-packages (from spacy<3.5.0,>=3.4.0->en-core-web-lg==3.4.0) (49.2.1)\n",
      "Requirement already satisfied: jinja2 in c:\\users\\sam\\appdata\\local\\programs\\python\\python38\\lib\\site-packages (from spacy<3.5.0,>=3.4.0->en-core-web-lg==3.4.0) (3.1.2)\n",
      "Requirement already satisfied: pyparsing!=3.0.5,>=2.0.2 in c:\\users\\sam\\appdata\\local\\programs\\python\\python38\\lib\\site-packages (from packaging>=20.0->spacy<3.5.0,>=3.4.0->en-core-web-lg==3.4.0) (3.0.9)\n",
      "Requirement already satisfied: smart-open<6.0.0,>=5.2.1 in c:\\users\\sam\\appdata\\local\\programs\\python\\python38\\lib\\site-packages (from pathy>=0.3.5->spacy<3.5.0,>=3.4.0->en-core-web-lg==3.4.0) (5.2.1)\n",
      "Requirement already satisfied: typing-extensions>=3.7.4.3 in c:\\users\\sam\\appdata\\local\\programs\\python\\python38\\lib\\site-packages (from pydantic!=1.8,!=1.8.1,<1.10.0,>=1.7.4->spacy<3.5.0,>=3.4.0->en-core-web-lg==3.4.0) (4.3.0)\n",
      "Requirement already satisfied: idna<2.9,>=2.5 in c:\\users\\sam\\appdata\\local\\programs\\python\\python38\\lib\\site-packages (from requests<3.0.0,>=2.13.0->spacy<3.5.0,>=3.4.0->en-core-web-lg==3.4.0) (2.8)\n",
      "Requirement already satisfied: chardet<3.1.0,>=3.0.2 in c:\\users\\sam\\appdata\\local\\programs\\python\\python38\\lib\\site-packages (from requests<3.0.0,>=2.13.0->spacy<3.5.0,>=3.4.0->en-core-web-lg==3.4.0) (3.0.4)\n",
      "Requirement already satisfied: certifi>=2017.4.17 in c:\\users\\sam\\appdata\\local\\programs\\python\\python38\\lib\\site-packages (from requests<3.0.0,>=2.13.0->spacy<3.5.0,>=3.4.0->en-core-web-lg==3.4.0) (2022.6.15)\n",
      "Requirement already satisfied: urllib3<1.25,>=1.21.1 in c:\\users\\sam\\appdata\\local\\programs\\python\\python38\\lib\\site-packages (from requests<3.0.0,>=2.13.0->spacy<3.5.0,>=3.4.0->en-core-web-lg==3.4.0) (1.24.3)\n",
      "Requirement already satisfied: blis<0.8.0,>=0.7.8 in c:\\users\\sam\\appdata\\local\\programs\\python\\python38\\lib\\site-packages (from thinc<8.2.0,>=8.1.0->spacy<3.5.0,>=3.4.0->en-core-web-lg==3.4.0) (0.7.8)\n",
      "Requirement already satisfied: colorama in c:\\users\\sam\\appdata\\local\\programs\\python\\python38\\lib\\site-packages (from tqdm<5.0.0,>=4.38.0->spacy<3.5.0,>=3.4.0->en-core-web-lg==3.4.0) (0.4.5)\n",
      "Requirement already satisfied: click<9.0.0,>=7.1.1 in c:\\users\\sam\\appdata\\local\\programs\\python\\python38\\lib\\site-packages (from typer<0.5.0,>=0.3.0->spacy<3.5.0,>=3.4.0->en-core-web-lg==3.4.0) (8.1.3)\n",
      "Requirement already satisfied: MarkupSafe>=2.0 in c:\\users\\sam\\appdata\\local\\programs\\python\\python38\\lib\\site-packages (from jinja2->spacy<3.5.0,>=3.4.0->en-core-web-lg==3.4.0) (2.1.1)\n",
      "Installing collected packages: en-core-web-lg\n",
      "Successfully installed en-core-web-lg-3.4.0\n",
      "[+] Download and installation successful\n",
      "You can now load the package via spacy.load('en_core_web_lg')\n"
     ]
    },
    {
     "name": "stderr",
     "output_type": "stream",
     "text": [
      "2022-09-07 21:46:22.618957: W tensorflow/stream_executor/platform/default/dso_loader.cc:64] Could not load dynamic library 'cudart64_110.dll'; dlerror: cudart64_110.dll not found\n",
      "2022-09-07 21:46:22.618998: I tensorflow/stream_executor/cuda/cudart_stub.cc:29] Ignore above cudart dlerror if you do not have a GPU set up on your machine.\n",
      "2022-09-07 21:46:26.156122: W tensorflow/stream_executor/platform/default/dso_loader.cc:64] Could not load dynamic library 'nvcuda.dll'; dlerror: nvcuda.dll not found\n",
      "2022-09-07 21:46:26.156148: W tensorflow/stream_executor/cuda/cuda_driver.cc:269] failed call to cuInit: UNKNOWN ERROR (303)\n",
      "2022-09-07 21:46:26.162703: I tensorflow/stream_executor/cuda/cuda_diagnostics.cc:169] retrieving CUDA diagnostic information for host: Sam\n",
      "2022-09-07 21:46:26.162890: I tensorflow/stream_executor/cuda/cuda_diagnostics.cc:176] hostname: Sam\n"
     ]
    }
   ],
   "source": [
    "\n",
    "\n",
    "!python -m spacy download en_core_web_lg"
   ]
  },
  {
   "cell_type": "code",
   "execution_count": 2,
   "id": "ceb747cb",
   "metadata": {},
   "outputs": [
    {
     "name": "stdout",
     "output_type": "stream",
     "text": [
      "Collecting spacy\n",
      "  Downloading spacy-3.4.1-cp38-cp38-win_amd64.whl (12.1 MB)\n",
      "     ---------------------------------------- 12.1/12.1 MB 1.5 MB/s eta 0:00:00\n",
      "Collecting langcodes<4.0.0,>=3.2.0\n",
      "  Downloading langcodes-3.3.0-py3-none-any.whl (181 kB)\n",
      "     ------------------------------------ 181.6/181.6 kB 844.4 kB/s eta 0:00:00\n",
      "Collecting wasabi<1.1.0,>=0.9.1\n",
      "  Downloading wasabi-0.10.1-py3-none-any.whl (26 kB)\n",
      "Collecting typer<0.5.0,>=0.3.0\n",
      "  Downloading typer-0.4.2-py3-none-any.whl (27 kB)\n",
      "Collecting catalogue<2.1.0,>=2.0.6\n",
      "  Downloading catalogue-2.0.8-py3-none-any.whl (17 kB)\n",
      "Requirement already satisfied: numpy>=1.15.0 in c:\\users\\sam\\appdata\\local\\programs\\python\\python38\\lib\\site-packages (from spacy) (1.23.2)\n",
      "Collecting preshed<3.1.0,>=3.0.2\n",
      "  Downloading preshed-3.0.7-cp38-cp38-win_amd64.whl (96 kB)\n",
      "     ---------------------------------------- 96.7/96.7 kB 1.4 MB/s eta 0:00:00\n",
      "Collecting cymem<2.1.0,>=2.0.2\n",
      "  Downloading cymem-2.0.6-cp38-cp38-win_amd64.whl (36 kB)\n",
      "Requirement already satisfied: jinja2 in c:\\users\\sam\\appdata\\local\\programs\\python\\python38\\lib\\site-packages (from spacy) (3.1.2)\n",
      "Collecting spacy-loggers<2.0.0,>=1.0.0\n",
      "  Downloading spacy_loggers-1.0.3-py3-none-any.whl (9.3 kB)\n",
      "Requirement already satisfied: tqdm<5.0.0,>=4.38.0 in c:\\users\\sam\\appdata\\local\\programs\\python\\python38\\lib\\site-packages (from spacy) (4.64.0)\n",
      "Collecting pathy>=0.3.5\n",
      "  Downloading pathy-0.6.2-py3-none-any.whl (42 kB)\n",
      "     ---------------------------------------- 42.8/42.8 kB 2.2 MB/s eta 0:00:00\n",
      "Collecting spacy-legacy<3.1.0,>=3.0.9\n",
      "  Downloading spacy_legacy-3.0.10-py2.py3-none-any.whl (21 kB)\n",
      "Collecting murmurhash<1.1.0,>=0.28.0\n",
      "  Downloading murmurhash-1.0.8-cp38-cp38-win_amd64.whl (18 kB)\n",
      "Requirement already satisfied: packaging>=20.0 in c:\\users\\sam\\appdata\\local\\programs\\python\\python38\\lib\\site-packages (from spacy) (21.3)\n",
      "Requirement already satisfied: setuptools in c:\\users\\sam\\appdata\\local\\programs\\python\\python38\\lib\\site-packages (from spacy) (49.2.1)\n",
      "Collecting pydantic!=1.8,!=1.8.1,<1.10.0,>=1.7.4\n",
      "  Downloading pydantic-1.9.2-cp38-cp38-win_amd64.whl (2.1 MB)\n",
      "     ---------------------------------------- 2.1/2.1 MB 2.6 MB/s eta 0:00:00\n",
      "Collecting thinc<8.2.0,>=8.1.0\n",
      "  Downloading thinc-8.1.0-cp38-cp38-win_amd64.whl (1.3 MB)\n",
      "     ---------------------------------------- 1.3/1.3 MB 3.8 MB/s eta 0:00:00\n",
      "Collecting srsly<3.0.0,>=2.4.3\n",
      "  Downloading srsly-2.4.4-cp38-cp38-win_amd64.whl (449 kB)\n",
      "     -------------------------------------- 449.9/449.9 kB 3.1 MB/s eta 0:00:00\n",
      "Requirement already satisfied: requests<3.0.0,>=2.13.0 in c:\\users\\sam\\appdata\\local\\programs\\python\\python38\\lib\\site-packages (from spacy) (2.21.0)\n",
      "Requirement already satisfied: pyparsing!=3.0.5,>=2.0.2 in c:\\users\\sam\\appdata\\local\\programs\\python\\python38\\lib\\site-packages (from packaging>=20.0->spacy) (3.0.9)\n",
      "Collecting smart-open<6.0.0,>=5.2.1\n",
      "  Downloading smart_open-5.2.1-py3-none-any.whl (58 kB)\n",
      "     ---------------------------------------- 58.6/58.6 kB 3.0 MB/s eta 0:00:00\n",
      "Requirement already satisfied: typing-extensions>=3.7.4.3 in c:\\users\\sam\\appdata\\local\\programs\\python\\python38\\lib\\site-packages (from pydantic!=1.8,!=1.8.1,<1.10.0,>=1.7.4->spacy) (4.3.0)\n",
      "Requirement already satisfied: idna<2.9,>=2.5 in c:\\users\\sam\\appdata\\local\\programs\\python\\python38\\lib\\site-packages (from requests<3.0.0,>=2.13.0->spacy) (2.8)\n",
      "Requirement already satisfied: certifi>=2017.4.17 in c:\\users\\sam\\appdata\\local\\programs\\python\\python38\\lib\\site-packages (from requests<3.0.0,>=2.13.0->spacy) (2022.6.15)\n",
      "Requirement already satisfied: chardet<3.1.0,>=3.0.2 in c:\\users\\sam\\appdata\\local\\programs\\python\\python38\\lib\\site-packages (from requests<3.0.0,>=2.13.0->spacy) (3.0.4)\n",
      "Requirement already satisfied: urllib3<1.25,>=1.21.1 in c:\\users\\sam\\appdata\\local\\programs\\python\\python38\\lib\\site-packages (from requests<3.0.0,>=2.13.0->spacy) (1.24.3)\n",
      "Collecting blis<0.8.0,>=0.7.8\n",
      "  Downloading blis-0.7.8-cp38-cp38-win_amd64.whl (6.6 MB)\n",
      "     ---------------------------------------- 6.6/6.6 MB 3.2 MB/s eta 0:00:00\n",
      "Requirement already satisfied: colorama in c:\\users\\sam\\appdata\\local\\programs\\python\\python38\\lib\\site-packages (from tqdm<5.0.0,>=4.38.0->spacy) (0.4.5)\n",
      "Requirement already satisfied: click<9.0.0,>=7.1.1 in c:\\users\\sam\\appdata\\local\\programs\\python\\python38\\lib\\site-packages (from typer<0.5.0,>=0.3.0->spacy) (8.1.3)\n",
      "Requirement already satisfied: MarkupSafe>=2.0 in c:\\users\\sam\\appdata\\local\\programs\\python\\python38\\lib\\site-packages (from jinja2->spacy) (2.1.1)\n",
      "Installing collected packages: wasabi, cymem, spacy-loggers, spacy-legacy, smart-open, pydantic, murmurhash, langcodes, catalogue, blis, typer, srsly, preshed, thinc, pathy, spacy\n",
      "Successfully installed blis-0.7.8 catalogue-2.0.8 cymem-2.0.6 langcodes-3.3.0 murmurhash-1.0.8 pathy-0.6.2 preshed-3.0.7 pydantic-1.9.2 smart-open-5.2.1 spacy-3.4.1 spacy-legacy-3.0.10 spacy-loggers-1.0.3 srsly-2.4.4 thinc-8.1.0 typer-0.4.2 wasabi-0.10.1\n"
     ]
    },
    {
     "name": "stderr",
     "output_type": "stream",
     "text": [
      "WARNING: Retrying (Retry(total=4, connect=None, read=None, redirect=None, status=None)) after connection broken by 'ProtocolError('Connection aborted.', ConnectionResetError(10054, 'An existing connection was forcibly closed by the remote host', None, 10054, None))': /simple/spacy/\n",
      "WARNING: Retrying (Retry(total=3, connect=None, read=None, redirect=None, status=None)) after connection broken by 'NewConnectionError('<pip._vendor.urllib3.connection.HTTPSConnection object at 0x00000173FBB9DE50>: Failed to establish a new connection: [Errno 11001] getaddrinfo failed')': /simple/spacy/\n",
      "WARNING: Retrying (Retry(total=2, connect=None, read=None, redirect=None, status=None)) after connection broken by 'NewConnectionError('<pip._vendor.urllib3.connection.HTTPSConnection object at 0x00000173FBB9DFA0>: Failed to establish a new connection: [Errno 11001] getaddrinfo failed')': /simple/spacy/\n",
      "WARNING: Retrying (Retry(total=1, connect=None, read=None, redirect=None, status=None)) after connection broken by 'NewConnectionError('<pip._vendor.urllib3.connection.HTTPSConnection object at 0x00000173FBBC1340>: Failed to establish a new connection: [Errno 11001] getaddrinfo failed')': /simple/spacy/\n",
      "WARNING: Retrying (Retry(total=0, connect=None, read=None, redirect=None, status=None)) after connection broken by 'NewConnectionError('<pip._vendor.urllib3.connection.HTTPSConnection object at 0x00000173FBBC14F0>: Failed to establish a new connection: [Errno 11001] getaddrinfo failed')': /simple/spacy/\n"
     ]
    },
    {
     "name": "stdout",
     "output_type": "stream",
     "text": [
      "Collecting spacy\n",
      "  Downloading spacy-3.4.1-cp38-cp38-win_amd64.whl (12.1 MB)\n",
      "     ---------------------------------------- 12.1/12.1 MB 1.5 MB/s eta 0:00:00\n",
      "Collecting langcodes<4.0.0,>=3.2.0\n",
      "  Downloading langcodes-3.3.0-py3-none-any.whl (181 kB)\n",
      "     ------------------------------------ 181.6/181.6 kB 844.4 kB/s eta 0:00:00\n",
      "Collecting wasabi<1.1.0,>=0.9.1\n",
      "  Downloading wasabi-0.10.1-py3-none-any.whl (26 kB)\n",
      "Collecting typer<0.5.0,>=0.3.0\n",
      "  Downloading typer-0.4.2-py3-none-any.whl (27 kB)\n",
      "Collecting catalogue<2.1.0,>=2.0.6\n",
      "  Downloading catalogue-2.0.8-py3-none-any.whl (17 kB)\n",
      "Requirement already satisfied: numpy>=1.15.0 in c:\\users\\sam\\appdata\\local\\programs\\python\\python38\\lib\\site-packages (from spacy) (1.23.2)\n",
      "Collecting preshed<3.1.0,>=3.0.2\n",
      "  Downloading preshed-3.0.7-cp38-cp38-win_amd64.whl (96 kB)\n",
      "     ---------------------------------------- 96.7/96.7 kB 1.4 MB/s eta 0:00:00\n",
      "Collecting cymem<2.1.0,>=2.0.2\n",
      "  Downloading cymem-2.0.6-cp38-cp38-win_amd64.whl (36 kB)\n",
      "Requirement already satisfied: jinja2 in c:\\users\\sam\\appdata\\local\\programs\\python\\python38\\lib\\site-packages (from spacy) (3.1.2)\n",
      "Collecting spacy-loggers<2.0.0,>=1.0.0\n",
      "  Downloading spacy_loggers-1.0.3-py3-none-any.whl (9.3 kB)\n",
      "Requirement already satisfied: tqdm<5.0.0,>=4.38.0 in c:\\users\\sam\\appdata\\local\\programs\\python\\python38\\lib\\site-packages (from spacy) (4.64.0)\n",
      "Collecting pathy>=0.3.5\n",
      "  Downloading pathy-0.6.2-py3-none-any.whl (42 kB)\n",
      "     ---------------------------------------- 42.8/42.8 kB 2.2 MB/s eta 0:00:00\n",
      "Collecting spacy-legacy<3.1.0,>=3.0.9\n",
      "  Downloading spacy_legacy-3.0.10-py2.py3-none-any.whl (21 kB)\n",
      "Collecting murmurhash<1.1.0,>=0.28.0\n",
      "  Downloading murmurhash-1.0.8-cp38-cp38-win_amd64.whl (18 kB)\n",
      "Requirement already satisfied: packaging>=20.0 in c:\\users\\sam\\appdata\\local\\programs\\python\\python38\\lib\\site-packages (from spacy) (21.3)\n",
      "Requirement already satisfied: setuptools in c:\\users\\sam\\appdata\\local\\programs\\python\\python38\\lib\\site-packages (from spacy) (49.2.1)\n",
      "Collecting pydantic!=1.8,!=1.8.1,<1.10.0,>=1.7.4\n",
      "  Downloading pydantic-1.9.2-cp38-cp38-win_amd64.whl (2.1 MB)\n",
      "     ---------------------------------------- 2.1/2.1 MB 2.6 MB/s eta 0:00:00\n",
      "Collecting thinc<8.2.0,>=8.1.0\n",
      "  Downloading thinc-8.1.0-cp38-cp38-win_amd64.whl (1.3 MB)\n",
      "     ---------------------------------------- 1.3/1.3 MB 3.8 MB/s eta 0:00:00\n",
      "Collecting srsly<3.0.0,>=2.4.3\n",
      "  Downloading srsly-2.4.4-cp38-cp38-win_amd64.whl (449 kB)\n",
      "     -------------------------------------- 449.9/449.9 kB 3.1 MB/s eta 0:00:00\n",
      "Requirement already satisfied: requests<3.0.0,>=2.13.0 in c:\\users\\sam\\appdata\\local\\programs\\python\\python38\\lib\\site-packages (from spacy) (2.21.0)\n",
      "Requirement already satisfied: pyparsing!=3.0.5,>=2.0.2 in c:\\users\\sam\\appdata\\local\\programs\\python\\python38\\lib\\site-packages (from packaging>=20.0->spacy) (3.0.9)\n",
      "Collecting smart-open<6.0.0,>=5.2.1\n",
      "  Downloading smart_open-5.2.1-py3-none-any.whl (58 kB)\n",
      "     ---------------------------------------- 58.6/58.6 kB 3.0 MB/s eta 0:00:00\n",
      "Requirement already satisfied: typing-extensions>=3.7.4.3 in c:\\users\\sam\\appdata\\local\\programs\\python\\python38\\lib\\site-packages (from pydantic!=1.8,!=1.8.1,<1.10.0,>=1.7.4->spacy) (4.3.0)\n",
      "Requirement already satisfied: idna<2.9,>=2.5 in c:\\users\\sam\\appdata\\local\\programs\\python\\python38\\lib\\site-packages (from requests<3.0.0,>=2.13.0->spacy) (2.8)\n",
      "Requirement already satisfied: certifi>=2017.4.17 in c:\\users\\sam\\appdata\\local\\programs\\python\\python38\\lib\\site-packages (from requests<3.0.0,>=2.13.0->spacy) (2022.6.15)\n",
      "Requirement already satisfied: chardet<3.1.0,>=3.0.2 in c:\\users\\sam\\appdata\\local\\programs\\python\\python38\\lib\\site-packages (from requests<3.0.0,>=2.13.0->spacy) (3.0.4)\n",
      "Requirement already satisfied: urllib3<1.25,>=1.21.1 in c:\\users\\sam\\appdata\\local\\programs\\python\\python38\\lib\\site-packages (from requests<3.0.0,>=2.13.0->spacy) (1.24.3)\n",
      "Collecting blis<0.8.0,>=0.7.8\n",
      "  Downloading blis-0.7.8-cp38-cp38-win_amd64.whl (6.6 MB)\n",
      "     ---------------------------------------- 6.6/6.6 MB 3.2 MB/s eta 0:00:00\n",
      "Requirement already satisfied: colorama in c:\\users\\sam\\appdata\\local\\programs\\python\\python38\\lib\\site-packages (from tqdm<5.0.0,>=4.38.0->spacy) (0.4.5)\n",
      "Requirement already satisfied: click<9.0.0,>=7.1.1 in c:\\users\\sam\\appdata\\local\\programs\\python\\python38\\lib\\site-packages (from typer<0.5.0,>=0.3.0->spacy) (8.1.3)\n",
      "Requirement already satisfied: MarkupSafe>=2.0 in c:\\users\\sam\\appdata\\local\\programs\\python\\python38\\lib\\site-packages (from jinja2->spacy) (2.1.1)\n",
      "Installing collected packages: wasabi, cymem, spacy-loggers, spacy-legacy, smart-open, pydantic, murmurhash, langcodes, catalogue, blis, typer, srsly, preshed, thinc, pathy, spacy\n",
      "Successfully installed blis-0.7.8 catalogue-2.0.8 cymem-2.0.6 langcodes-3.3.0 murmurhash-1.0.8 pathy-0.6.2 preshed-3.0.7 pydantic-1.9.2 smart-open-5.2.1 spacy-3.4.1 spacy-legacy-3.0.10 spacy-loggers-1.0.3 srsly-2.4.4 thinc-8.1.0 typer-0.4.2 wasabi-0.10.1\n"
     ]
    },
    {
     "name": "stderr",
     "output_type": "stream",
     "text": [
      "WARNING: Retrying (Retry(total=4, connect=None, read=None, redirect=None, status=None)) after connection broken by 'ProtocolError('Connection aborted.', ConnectionResetError(10054, 'An existing connection was forcibly closed by the remote host', None, 10054, None))': /simple/spacy/\n",
      "WARNING: Retrying (Retry(total=3, connect=None, read=None, redirect=None, status=None)) after connection broken by 'NewConnectionError('<pip._vendor.urllib3.connection.HTTPSConnection object at 0x00000173FBB9DE50>: Failed to establish a new connection: [Errno 11001] getaddrinfo failed')': /simple/spacy/\n",
      "WARNING: Retrying (Retry(total=2, connect=None, read=None, redirect=None, status=None)) after connection broken by 'NewConnectionError('<pip._vendor.urllib3.connection.HTTPSConnection object at 0x00000173FBB9DFA0>: Failed to establish a new connection: [Errno 11001] getaddrinfo failed')': /simple/spacy/\n",
      "WARNING: Retrying (Retry(total=1, connect=None, read=None, redirect=None, status=None)) after connection broken by 'NewConnectionError('<pip._vendor.urllib3.connection.HTTPSConnection object at 0x00000173FBBC1340>: Failed to establish a new connection: [Errno 11001] getaddrinfo failed')': /simple/spacy/\n",
      "WARNING: Retrying (Retry(total=0, connect=None, read=None, redirect=None, status=None)) after connection broken by 'NewConnectionError('<pip._vendor.urllib3.connection.HTTPSConnection object at 0x00000173FBBC14F0>: Failed to establish a new connection: [Errno 11001] getaddrinfo failed')': /simple/spacy/\n"
     ]
    }
   ],
   "source": [
    "!pip install -U spacy\n"
   ]
  },
  {
   "cell_type": "code",
   "execution_count": 6,
   "id": "0f0408d0",
   "metadata": {},
   "outputs": [
    {
     "name": "stdout",
     "output_type": "stream",
     "text": [
      "Requirement already satisfied: pip in c:\\users\\sam\\appdata\\local\\programs\\python\\python38\\lib\\site-packages (22.2.2)\n",
      "Requirement already satisfied: setuptools in c:\\users\\sam\\appdata\\local\\programs\\python\\python38\\lib\\site-packages (49.2.1)\n",
      "Requirement already satisfied: wheel in c:\\users\\sam\\appdata\\local\\programs\\python\\python38\\lib\\site-packages (0.37.1)\n",
      "Requirement already satisfied: pip in c:\\users\\sam\\appdata\\local\\programs\\python\\python38\\lib\\site-packages (22.2.2)\n",
      "Requirement already satisfied: setuptools in c:\\users\\sam\\appdata\\local\\programs\\python\\python38\\lib\\site-packages (49.2.1)\n",
      "Requirement already satisfied: wheel in c:\\users\\sam\\appdata\\local\\programs\\python\\python38\\lib\\site-packages (0.37.1)\n"
     ]
    },
    {
     "name": "stderr",
     "output_type": "stream",
     "text": [
      "WARNING: Retrying (Retry(total=4, connect=None, read=None, redirect=None, status=None)) after connection broken by 'ReadTimeoutError(\"HTTPSConnectionPool(host='pypi.org', port=443): Read timed out. (read timeout=15)\")': /simple/wheel/\n",
      "WARNING: Retrying (Retry(total=3, connect=None, read=None, redirect=None, status=None)) after connection broken by 'ReadTimeoutError(\"HTTPSConnectionPool(host='pypi.org', port=443): Read timed out. (read timeout=15)\")': /simple/wheel/\n",
      "WARNING: Retrying (Retry(total=2, connect=None, read=None, redirect=None, status=None)) after connection broken by 'ReadTimeoutError(\"HTTPSConnectionPool(host='pypi.org', port=443): Read timed out. (read timeout=15)\")': /simple/wheel/\n",
      "WARNING: Retrying (Retry(total=1, connect=None, read=None, redirect=None, status=None)) after connection broken by 'ReadTimeoutError(\"HTTPSConnectionPool(host='pypi.org', port=443): Read timed out. (read timeout=15)\")': /simple/wheel/\n",
      "WARNING: Retrying (Retry(total=4, connect=None, read=None, redirect=None, status=None)) after connection broken by 'ReadTimeoutError(\"HTTPSConnectionPool(host='pypi.org', port=443): Read timed out. (read timeout=15)\")': /simple/wheel/\n",
      "WARNING: Retrying (Retry(total=3, connect=None, read=None, redirect=None, status=None)) after connection broken by 'ReadTimeoutError(\"HTTPSConnectionPool(host='pypi.org', port=443): Read timed out. (read timeout=15)\")': /simple/wheel/\n",
      "WARNING: Retrying (Retry(total=2, connect=None, read=None, redirect=None, status=None)) after connection broken by 'ReadTimeoutError(\"HTTPSConnectionPool(host='pypi.org', port=443): Read timed out. (read timeout=15)\")': /simple/wheel/\n",
      "WARNING: Retrying (Retry(total=1, connect=None, read=None, redirect=None, status=None)) after connection broken by 'ReadTimeoutError(\"HTTPSConnectionPool(host='pypi.org', port=443): Read timed out. (read timeout=15)\")': /simple/wheel/\n"
     ]
    }
   ],
   "source": [
    "!pip install -U pip setuptools wheel \n"
   ]
  },
  {
   "cell_type": "code",
   "execution_count": 7,
   "id": "e091e6b4-4273-42b0-8fa4-34bcd23503f3",
   "metadata": {},
   "outputs": [],
   "source": [
    "import spacy\n",
    "import json"
   ]
  },
  {
   "cell_type": "code",
   "execution_count": 11,
   "id": "2f9c373d-7617-4394-be8e-3b4eee9fc82a",
   "metadata": {},
   "outputs": [],
   "source": [
    "nlu_agent = spacy.load('en_core_web_lg')\n",
    "with open(\"GL Bot.json\", \"r\") as f:\n",
    "    corpus = json.load(f)\n"
   ]
  },
  {
   "cell_type": "code",
   "execution_count": 12,
   "id": "46c18378-9083-4093-95f9-29f28e8a33cf",
   "metadata": {},
   "outputs": [
    {
     "data": {
      "text/plain": [
       "dict_keys(['tag', 'patterns', 'responses', 'context_set'])"
      ]
     },
     "execution_count": 12,
     "metadata": {},
     "output_type": "execute_result"
    },
    {
     "data": {
      "text/plain": [
       "dict_keys(['tag', 'patterns', 'responses', 'context_set'])"
      ]
     },
     "execution_count": 12,
     "metadata": {},
     "output_type": "execute_result"
    }
   ],
   "source": [
    "corpus[\"intents\"][0].keys()"
   ]
  },
  {
   "cell_type": "code",
   "execution_count": 13,
   "id": "f8c0634f-abb3-4f95-8508-87f7846a769a",
   "metadata": {},
   "outputs": [
    {
     "data": {
      "text/plain": [
       "'Intro'"
      ]
     },
     "execution_count": 13,
     "metadata": {},
     "output_type": "execute_result"
    },
    {
     "data": {
      "text/plain": [
       "'Intro'"
      ]
     },
     "execution_count": 13,
     "metadata": {},
     "output_type": "execute_result"
    }
   ],
   "source": [
    "corpus[\"intents\"][0][\"tag\"]"
   ]
  },
  {
   "cell_type": "code",
   "execution_count": 14,
   "id": "9ba93362-e4ba-4405-a870-b660dce845cf",
   "metadata": {},
   "outputs": [],
   "source": [
    "tags = [intent[\"tag\"] for intent in corpus[\"intents\"]]"
   ]
  },
  {
   "cell_type": "code",
   "execution_count": 15,
   "id": "b43d76c6-bef6-4a34-9a20-032986ce2cf6",
   "metadata": {},
   "outputs": [
    {
     "data": {
      "text/plain": [
       "['Intro', 'Exit', 'Olympus', 'SL', 'NN', 'Bot', 'Profane', 'Ticket']"
      ]
     },
     "execution_count": 15,
     "metadata": {},
     "output_type": "execute_result"
    },
    {
     "data": {
      "text/plain": [
       "['Intro', 'Exit', 'Olympus', 'SL', 'NN', 'Bot', 'Profane', 'Ticket']"
      ]
     },
     "execution_count": 15,
     "metadata": {},
     "output_type": "execute_result"
    }
   ],
   "source": [
    "tags"
   ]
  },
  {
   "cell_type": "code",
   "execution_count": 16,
   "id": "d6e80d9f-57bc-400b-907c-5964a02e5de3",
   "metadata": {},
   "outputs": [],
   "source": [
    "patterns = {}\n",
    "for intent,tag in zip(corpus[\"intents\"], tags):\n",
    "    patterns[tag] = intent[\"patterns\"]"
   ]
  },
  {
   "cell_type": "code",
   "execution_count": 17,
   "id": "f5c0a0f8-1aad-4f80-8dbe-dbf8f4cc8e26",
   "metadata": {},
   "outputs": [
    {
     "data": {
      "text/plain": [
       "dict_keys(['Intro', 'Exit', 'Olympus', 'SL', 'NN', 'Bot', 'Profane', 'Ticket'])"
      ]
     },
     "execution_count": 17,
     "metadata": {},
     "output_type": "execute_result"
    },
    {
     "data": {
      "text/plain": [
       "dict_keys(['Intro', 'Exit', 'Olympus', 'SL', 'NN', 'Bot', 'Profane', 'Ticket'])"
      ]
     },
     "execution_count": 17,
     "metadata": {},
     "output_type": "execute_result"
    }
   ],
   "source": [
    "patterns.keys()"
   ]
  },
  {
   "cell_type": "code",
   "execution_count": 18,
   "id": "30e931b0-52ee-4415-bb75-744a2a0b57ec",
   "metadata": {},
   "outputs": [],
   "source": [
    "responses = {}\n",
    "for intent,tag in zip(corpus[\"intents\"], tags):\n",
    "    responses[tag] = intent[\"responses\"]"
   ]
  },
  {
   "cell_type": "code",
   "execution_count": 19,
   "id": "715d8739-5629-4d14-98b5-aae1027533cf",
   "metadata": {},
   "outputs": [
    {
     "data": {
      "text/plain": [
       "dict_keys(['Intro', 'Exit', 'Olympus', 'SL', 'NN', 'Bot', 'Profane', 'Ticket'])"
      ]
     },
     "execution_count": 19,
     "metadata": {},
     "output_type": "execute_result"
    },
    {
     "data": {
      "text/plain": [
       "dict_keys(['Intro', 'Exit', 'Olympus', 'SL', 'NN', 'Bot', 'Profane', 'Ticket'])"
      ]
     },
     "execution_count": 19,
     "metadata": {},
     "output_type": "execute_result"
    }
   ],
   "source": [
    "responses.keys()"
   ]
  },
  {
   "cell_type": "code",
   "execution_count": 20,
   "id": "195ac104-8a24-47d9-ac89-2bf07946e565",
   "metadata": {},
   "outputs": [
    {
     "data": {
      "text/plain": [
       "1.0"
      ]
     },
     "execution_count": 20,
     "metadata": {},
     "output_type": "execute_result"
    },
    {
     "data": {
      "text/plain": [
       "1.0"
      ]
     },
     "execution_count": 20,
     "metadata": {},
     "output_type": "execute_result"
    }
   ],
   "source": [
    "nlu_agent(\"hello\").similarity(nlu_agent(\"hello\"))"
   ]
  },
  {
   "cell_type": "code",
   "execution_count": null,
   "id": "a4b3101c-e01f-47af-bf84-c758dddf96ad",
   "metadata": {},
   "outputs": [
    {
     "name": "stdout",
     "output_type": "stream",
     "text": [
      "I hope I was able to encourage you, Good Bye'\n",
      "max_similarity = 0.11733216115001627 for user_intent = 'Intro'\n",
      "max_similarity = 0.6205560258085092 for user_intent = 'Intro'\n",
      "max_similarity = 0.657622820326334 for user_intent = 'Intro'\n",
      "max_similarity = 0.7559291230031941 for user_intent = 'Intro'\n",
      "max_similarity = 0.761843886005391 for user_intent = 'Intro'\n",
      "max_similarity = 0.11733216115001627 for user_intent = 'Intro'\n",
      "max_similarity = 0.6205560258085092 for user_intent = 'Intro'\n",
      "max_similarity = 0.657622820326334 for user_intent = 'Intro'\n",
      "max_similarity = 0.7559291230031941 for user_intent = 'Intro'\n",
      "max_similarity = 0.761843886005391 for user_intent = 'Intro'\n",
      "max_similarity = 0.8502959569859891 for user_intent = 'Olympus'\n",
      "max_similarity = 0.8502959569859891 for user_intent = 'Olympus'\n"
     ]
    },
    {
     "name": "stderr",
     "output_type": "stream",
     "text": [
      "C:\\Users\\Sam\\AppData\\Local\\Temp\\ipykernel_26812\\2187551628.py:7: UserWarning: [W008] Evaluating Doc.similarity based on empty vectors.\n",
      "  similarity = nlu_agent(text).similarity(nlu_agent(pattern))\n",
      "C:\\Users\\Sam\\AppData\\Local\\Temp\\ipykernel_26812\\2187551628.py:7: UserWarning: [W008] Evaluating Doc.similarity based on empty vectors.\n",
      "  similarity = nlu_agent(text).similarity(nlu_agent(pattern))\n"
     ]
    },
    {
     "name": "stdout",
     "output_type": "stream",
     "text": [
      "['Link: Olympus wiki']\n",
      "['Link: Olympus wiki']\n",
      "Hello! may i help you\n",
      "max_similarity = 0.2315078385729302 for user_intent = 'Intro'\n",
      "max_similarity = 0.6678389371005324 for user_intent = 'Intro'\n",
      "max_similarity = 0.7339450005774003 for user_intent = 'Intro'\n",
      "max_similarity = 0.7677422844319655 for user_intent = 'Intro'\n",
      "max_similarity = 0.2315078385729302 for user_intent = 'Intro'\n",
      "max_similarity = 0.6678389371005324 for user_intent = 'Intro'\n",
      "max_similarity = 0.7339450005774003 for user_intent = 'Intro'\n",
      "max_similarity = 0.7677422844319655 for user_intent = 'Intro'\n",
      "max_similarity = 0.7915181915621307 for user_intent = 'SL'\n",
      "max_similarity = 0.7944862547168513 for user_intent = 'SL'\n",
      "max_similarity = 0.7915181915621307 for user_intent = 'SL'\n",
      "max_similarity = 0.7944862547168513 for user_intent = 'SL'\n",
      "max_similarity = 0.8417538893531247 for user_intent = 'Profane'\n",
      "['Please use respectful words']\n",
      "max_similarity = 0.8417538893531247 for user_intent = 'Profane'\n",
      "['Please use respectful words']\n",
      "i can understand that i was unable to do that\n",
      "max_similarity = 0.11581570364350842 for user_intent = 'Intro'\n",
      "max_similarity = 0.6823973112205786 for user_intent = 'Intro'\n",
      "max_similarity = 0.8936138840310701 for user_intent = 'Intro'\n",
      "max_similarity = 0.11581570364350842 for user_intent = 'Intro'\n",
      "max_similarity = 0.6823973112205786 for user_intent = 'Intro'\n",
      "max_similarity = 0.8936138840310701 for user_intent = 'Intro'\n",
      "max_similarity = 0.8970374205516803 for user_intent = 'SL'\n",
      "max_similarity = 0.9028081437665464 for user_intent = 'SL'\n",
      "max_similarity = 0.9029358447398528 for user_intent = 'SL'\n",
      "max_similarity = 0.8970374205516803 for user_intent = 'SL'\n",
      "max_similarity = 0.9028081437665464 for user_intent = 'SL'\n",
      "max_similarity = 0.9029358447398528 for user_intent = 'SL'\n",
      "['Link: Machine Learning wiki ']\n",
      "['Link: Machine Learning wiki ']\n",
      "i can do it as much i can do better\n",
      "max_similarity = 0.14960275401398104 for user_intent = 'Intro'\n",
      "max_similarity = 0.6863369985219028 for user_intent = 'Intro'\n",
      "max_similarity = 0.7476971478481219 for user_intent = 'Intro'\n",
      "max_similarity = 0.14960275401398104 for user_intent = 'Intro'\n",
      "max_similarity = 0.6863369985219028 for user_intent = 'Intro'\n",
      "max_similarity = 0.7476971478481219 for user_intent = 'Intro'\n",
      "max_similarity = 0.7505843670871902 for user_intent = 'Olympus'\n",
      "max_similarity = 0.7879169097720281 for user_intent = 'SL'\n",
      "max_similarity = 0.7938941570107887 for user_intent = 'SL'\n",
      "max_similarity = 0.7505843670871902 for user_intent = 'Olympus'\n",
      "max_similarity = 0.7879169097720281 for user_intent = 'SL'\n",
      "max_similarity = 0.7938941570107887 for user_intent = 'SL'\n",
      "max_similarity = 0.7983329894077356 for user_intent = 'Profane'\n",
      "['Please use respectful words']\n",
      "max_similarity = 0.7983329894077356 for user_intent = 'Profane'\n",
      "['Please use respectful words']\n",
      "i hope i done it very well, good bye\n",
      "max_similarity = 0.23910802970243408 for user_intent = 'Intro'\n",
      "max_similarity = 0.5785153180742673 for user_intent = 'Intro'\n",
      "max_similarity = 0.6930092062294602 for user_intent = 'Intro'\n",
      "max_similarity = 0.712317202823697 for user_intent = 'Intro'\n",
      "max_similarity = 0.23910802970243408 for user_intent = 'Intro'\n",
      "max_similarity = 0.5785153180742673 for user_intent = 'Intro'\n",
      "max_similarity = 0.6930092062294602 for user_intent = 'Intro'\n",
      "max_similarity = 0.712317202823697 for user_intent = 'Intro'\n",
      "max_similarity = 0.7528138368594485 for user_intent = 'SL'\n",
      "max_similarity = 0.7589676520459997 for user_intent = 'SL'\n",
      "max_similarity = 0.7596458690033043 for user_intent = 'SL'\n",
      "max_similarity = 0.7636493296896208 for user_intent = 'SL'\n",
      "max_similarity = 0.7528138368594485 for user_intent = 'SL'\n",
      "max_similarity = 0.7589676520459997 for user_intent = 'SL'\n",
      "max_similarity = 0.7596458690033043 for user_intent = 'SL'\n",
      "max_similarity = 0.7636493296896208 for user_intent = 'SL'\n",
      "max_similarity = 0.8301275882435183 for user_intent = 'Profane'\n",
      "['Please use respectful words']\n",
      "max_similarity = 0.8301275882435183 for user_intent = 'Profane'\n",
      "['Please use respectful words']\n",
      "nothing is impossible\n",
      "max_similarity = 0.5048150476370683 for user_intent = 'Intro'\n",
      "max_similarity = 0.9355536022730674 for user_intent = 'Intro'\n",
      "max_similarity = 0.5048150476370683 for user_intent = 'Intro'\n",
      "max_similarity = 0.9355536022730674 for user_intent = 'Intro'\n",
      "['Hello! how can i help you ?']\n",
      "['Hello! how can i help you ?']\n",
      "Hello! how can i help you ?\n",
      "max_similarity = 0.1972901253455319 for user_intent = 'Intro'\n",
      "max_similarity = 0.7594149546519735 for user_intent = 'Intro'\n",
      "max_similarity = 0.7663639079941896 for user_intent = 'Intro'\n",
      "max_similarity = 0.1972901253455319 for user_intent = 'Intro'\n",
      "max_similarity = 0.7594149546519735 for user_intent = 'Intro'\n",
      "max_similarity = 0.7663639079941896 for user_intent = 'Intro'\n",
      "max_similarity = 0.7817666960660666 for user_intent = 'Profane'\n",
      "max_similarity = 0.8052950368903746 for user_intent = 'Profane'\n",
      "max_similarity = 0.8172304918779125 for user_intent = 'Ticket'\n",
      "['Tarnsferring the request to your PM']\n",
      "max_similarity = 0.7817666960660666 for user_intent = 'Profane'\n",
      "max_similarity = 0.8052950368903746 for user_intent = 'Profane'\n",
      "max_similarity = 0.8172304918779125 for user_intent = 'Ticket'\n",
      "['Tarnsferring the request to your PM']\n",
      "'Tarnsferring the request to your PM'\n",
      "max_similarity = 0.3148008747716285 for user_intent = 'Intro'\n",
      "max_similarity = 0.3414036892774837 for user_intent = 'Intro'\n",
      "max_similarity = 0.4393980364892121 for user_intent = 'Intro'\n",
      "max_similarity = 0.5683931842122228 for user_intent = 'Intro'\n",
      "max_similarity = 0.3148008747716285 for user_intent = 'Intro'\n",
      "max_similarity = 0.3414036892774837 for user_intent = 'Intro'\n",
      "max_similarity = 0.4393980364892121 for user_intent = 'Intro'\n",
      "max_similarity = 0.5683931842122228 for user_intent = 'Intro'\n",
      "max_similarity = 0.5704859010672113 for user_intent = 'Olympus'\n",
      "max_similarity = 0.5704859010672113 for user_intent = 'Olympus'\n",
      "max_similarity = 0.5799926179787851 for user_intent = 'NN'\n",
      "max_similarity = 0.5799926179787851 for user_intent = 'NN'\n",
      "['Link: Neural Nets wiki']\n",
      "['Link: Neural Nets wiki']\n",
      "'Link: Machine Learning wiki '\n",
      "max_similarity = 0.012594346080713909 for user_intent = 'Intro'\n",
      "max_similarity = 0.02520149993904402 for user_intent = 'Intro'\n",
      "max_similarity = 0.10057895336060405 for user_intent = 'Intro'\n",
      "max_similarity = 0.13580625552532555 for user_intent = 'Intro'\n",
      "max_similarity = 0.012594346080713909 for user_intent = 'Intro'\n",
      "max_similarity = 0.02520149993904402 for user_intent = 'Intro'\n",
      "max_similarity = 0.10057895336060405 for user_intent = 'Intro'\n",
      "max_similarity = 0.13580625552532555 for user_intent = 'Intro'\n",
      "max_similarity = 0.2012569127544915 for user_intent = 'SL'\n",
      "max_similarity = 0.24271469522583286 for user_intent = 'SL'\n",
      "max_similarity = 0.31080700990217147 for user_intent = 'SL'\n",
      "max_similarity = 0.2012569127544915 for user_intent = 'SL'\n",
      "max_similarity = 0.24271469522583286 for user_intent = 'SL'\n",
      "max_similarity = 0.31080700990217147 for user_intent = 'SL'\n",
      "['Link: Machine Learning wiki ']\n",
      "['Link: Machine Learning wiki ']\n",
      "I hope I was able to assist you, Good Bye\n",
      "max_similarity = 0.10681052244203872 for user_intent = 'Intro'\n",
      "max_similarity = 0.6410017325877474 for user_intent = 'Intro'\n",
      "max_similarity = 0.6859939607637126 for user_intent = 'Intro'\n",
      "max_similarity = 0.7670239459856357 for user_intent = 'Intro'\n",
      "max_similarity = 0.7807256686241136 for user_intent = 'Intro'\n",
      "max_similarity = 0.10681052244203872 for user_intent = 'Intro'\n",
      "max_similarity = 0.6410017325877474 for user_intent = 'Intro'\n",
      "max_similarity = 0.6859939607637126 for user_intent = 'Intro'\n",
      "max_similarity = 0.7670239459856357 for user_intent = 'Intro'\n",
      "max_similarity = 0.7807256686241136 for user_intent = 'Intro'\n",
      "max_similarity = 0.8833719012997977 for user_intent = 'Olympus'\n",
      "max_similarity = 0.8833719012997977 for user_intent = 'Olympus'\n",
      "['Link: Olympus wiki']\n",
      "['Link: Olympus wiki']\n",
      "Link: Machine Learning wiki\n",
      "max_similarity = 0.0020196652286047848 for user_intent = 'Intro'\n",
      "max_similarity = 0.04428788492207187 for user_intent = 'Intro'\n",
      "max_similarity = 0.1390546493272673 for user_intent = 'Intro'\n",
      "max_similarity = 0.2918920567944422 for user_intent = 'Intro'\n",
      "max_similarity = 0.0020196652286047848 for user_intent = 'Intro'\n",
      "max_similarity = 0.04428788492207187 for user_intent = 'Intro'\n",
      "max_similarity = 0.1390546493272673 for user_intent = 'Intro'\n",
      "max_similarity = 0.2918920567944422 for user_intent = 'Intro'\n",
      "max_similarity = 0.3201970164544284 for user_intent = 'SL'\n",
      "max_similarity = 0.3630013263355487 for user_intent = 'SL'\n",
      "max_similarity = 0.40120008647908 for user_intent = 'SL'\n",
      "max_similarity = 0.3201970164544284 for user_intent = 'SL'\n",
      "max_similarity = 0.3630013263355487 for user_intent = 'SL'\n",
      "max_similarity = 0.40120008647908 for user_intent = 'SL'\n",
      "['Link: Machine Learning wiki ']\n",
      "['Link: Machine Learning wiki ']\n",
      "Link: Machine Learning wiki\n",
      "max_similarity = 0.0020196652286047848 for user_intent = 'Intro'\n",
      "max_similarity = 0.04428788492207187 for user_intent = 'Intro'\n",
      "max_similarity = 0.1390546493272673 for user_intent = 'Intro'\n",
      "max_similarity = 0.2918920567944422 for user_intent = 'Intro'\n",
      "max_similarity = 0.0020196652286047848 for user_intent = 'Intro'\n",
      "max_similarity = 0.04428788492207187 for user_intent = 'Intro'\n",
      "max_similarity = 0.1390546493272673 for user_intent = 'Intro'\n",
      "max_similarity = 0.2918920567944422 for user_intent = 'Intro'\n",
      "max_similarity = 0.3201970164544284 for user_intent = 'SL'\n",
      "max_similarity = 0.3630013263355487 for user_intent = 'SL'\n",
      "max_similarity = 0.40120008647908 for user_intent = 'SL'\n",
      "max_similarity = 0.3201970164544284 for user_intent = 'SL'\n",
      "max_similarity = 0.3630013263355487 for user_intent = 'SL'\n",
      "max_similarity = 0.40120008647908 for user_intent = 'SL'\n",
      "['Link: Machine Learning wiki ']\n",
      "['Link: Machine Learning wiki ']\n",
      "I hope I was able to assist you, Good Bye\n",
      "max_similarity = 0.10681052244203872 for user_intent = 'Intro'\n",
      "max_similarity = 0.6410017325877474 for user_intent = 'Intro'\n",
      "max_similarity = 0.6859939607637126 for user_intent = 'Intro'\n",
      "max_similarity = 0.7670239459856357 for user_intent = 'Intro'\n",
      "max_similarity = 0.7807256686241136 for user_intent = 'Intro'\n",
      "max_similarity = 0.10681052244203872 for user_intent = 'Intro'\n",
      "max_similarity = 0.6410017325877474 for user_intent = 'Intro'\n",
      "max_similarity = 0.6859939607637126 for user_intent = 'Intro'\n",
      "max_similarity = 0.7670239459856357 for user_intent = 'Intro'\n",
      "max_similarity = 0.7807256686241136 for user_intent = 'Intro'\n",
      "max_similarity = 0.8833719012997977 for user_intent = 'Olympus'\n",
      "max_similarity = 0.8833719012997977 for user_intent = 'Olympus'\n",
      "['Link: Olympus wiki']\n",
      "['Link: Olympus wiki']\n",
      "Link: Olympus wiki\n",
      "max_similarity = 0.007595331127708853 for user_intent = 'Intro'\n",
      "max_similarity = 0.02244189573250018 for user_intent = 'Intro'\n",
      "max_similarity = 0.19504085371505803 for user_intent = 'Intro'\n",
      "max_similarity = 0.007595331127708853 for user_intent = 'Intro'\n",
      "max_similarity = 0.02244189573250018 for user_intent = 'Intro'\n",
      "max_similarity = 0.19504085371505803 for user_intent = 'Intro'\n",
      "max_similarity = 0.23755357804594895 for user_intent = 'Olympus'\n",
      "max_similarity = 0.275244482498209 for user_intent = 'SL'\n",
      "max_similarity = 0.23755357804594895 for user_intent = 'Olympus'\n",
      "max_similarity = 0.275244482498209 for user_intent = 'SL'\n",
      "max_similarity = 0.2942978223722346 for user_intent = 'SL'\n",
      "max_similarity = 0.2942978223722346 for user_intent = 'SL'\n",
      "['Link: Machine Learning wiki ']\n",
      "['Link: Machine Learning wiki ']\n",
      "Link: Machine Learning wiki\n",
      "max_similarity = 0.0020196652286047848 for user_intent = 'Intro'\n",
      "max_similarity = 0.04428788492207187 for user_intent = 'Intro'\n",
      "max_similarity = 0.1390546493272673 for user_intent = 'Intro'\n",
      "max_similarity = 0.2918920567944422 for user_intent = 'Intro'\n",
      "max_similarity = 0.0020196652286047848 for user_intent = 'Intro'\n",
      "max_similarity = 0.04428788492207187 for user_intent = 'Intro'\n",
      "max_similarity = 0.1390546493272673 for user_intent = 'Intro'\n",
      "max_similarity = 0.2918920567944422 for user_intent = 'Intro'\n",
      "max_similarity = 0.3201970164544284 for user_intent = 'SL'\n",
      "max_similarity = 0.3630013263355487 for user_intent = 'SL'\n",
      "max_similarity = 0.40120008647908 for user_intent = 'SL'\n",
      "max_similarity = 0.3201970164544284 for user_intent = 'SL'\n",
      "max_similarity = 0.3630013263355487 for user_intent = 'SL'\n",
      "max_similarity = 0.40120008647908 for user_intent = 'SL'\n",
      "['Link: Machine Learning wiki ']\n",
      "['Link: Machine Learning wiki ']\n",
      "I hope I was able to assist you, Good Bye\n",
      "max_similarity = 0.10681052244203872 for user_intent = 'Intro'\n",
      "max_similarity = 0.6410017325877474 for user_intent = 'Intro'\n",
      "max_similarity = 0.6859939607637126 for user_intent = 'Intro'\n",
      "max_similarity = 0.7670239459856357 for user_intent = 'Intro'\n",
      "max_similarity = 0.7807256686241136 for user_intent = 'Intro'\n",
      "max_similarity = 0.10681052244203872 for user_intent = 'Intro'\n",
      "max_similarity = 0.6410017325877474 for user_intent = 'Intro'\n",
      "max_similarity = 0.6859939607637126 for user_intent = 'Intro'\n",
      "max_similarity = 0.7670239459856357 for user_intent = 'Intro'\n",
      "max_similarity = 0.7807256686241136 for user_intent = 'Intro'\n",
      "max_similarity = 0.8833719012997977 for user_intent = 'Olympus'\n",
      "max_similarity = 0.8833719012997977 for user_intent = 'Olympus'\n",
      "['Link: Olympus wiki']\n",
      "['Link: Olympus wiki']\n"
     ]
    }
   ],
   "source": [
    "while True:\n",
    "    text = input()\n",
    "    user_intent = \"\"\n",
    "    max_similarity = 0\n",
    "    for intent, patterns_ in patterns.items():\n",
    "        for pattern in patterns_:\n",
    "            similarity = nlu_agent(text).similarity(nlu_agent(pattern))\n",
    "            if similarity > max_similarity:\n",
    "                user_intent = intent\n",
    "                max_similarity = similarity\n",
    "                print(f\"{max_similarity = } for {user_intent = }\")\n",
    "    print(responses[user_intent])\n",
    "    if user_intent == \"Exit\":\n",
    "        break"
   ]
  },
  {
   "cell_type": "code",
   "execution_count": null,
   "id": "c4e603e8-024a-4ee0-a8f3-0f6b1bb985a2",
   "metadata": {},
   "outputs": [],
   "source": []
  }
 ],
 "metadata": {
  "kernelspec": {
   "display_name": "Python 3 (ipykernel)",
   "language": "python",
   "name": "python3"
  },
  "language_info": {
   "codemirror_mode": {
    "name": "ipython",
    "version": 3
   },
   "file_extension": ".py",
   "mimetype": "text/x-python",
   "name": "python",
   "nbconvert_exporter": "python",
   "pygments_lexer": "ipython3",
   "version": "3.8.7rc1"
  }
 },
 "nbformat": 4,
 "nbformat_minor": 5
}
